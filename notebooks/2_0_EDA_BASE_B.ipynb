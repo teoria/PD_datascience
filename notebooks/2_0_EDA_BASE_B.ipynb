{
 "cells": [
  {
   "cell_type": "code",
   "execution_count": 4,
   "metadata": {
    "collapsed": true
   },
   "outputs": [],
   "source": [
    "import pandas as pd\n",
    "import matplotlib.pyplot as plt\n",
    "import numpy as np\n",
    "import seaborn as sns\n",
    "#%matplotlib inline\n",
    "\n",
    "from IPython.core.pylabtools import figsize\n",
    "figsize(10, 8)\n",
    "sns.set()"
   ]
  },
  {
   "cell_type": "code",
   "execution_count": 5,
   "outputs": [
    {
     "name": "stderr",
     "output_type": "stream",
     "text": [
      "/home/ahgora/projetos/pd/venv/lib/python3.7/site-packages/IPython/core/interactiveshell.py:3146: DtypeWarning: Columns (0) have mixed types.Specify dtype option on import or set low_memory=False.\n",
      "  interactivity=interactivity, compiler=compiler, result=result)\n"
     ]
    },
    {
     "name": "stdout",
     "output_type": "stream",
     "text": [
      "*********fileViews***********\n",
      "(3028988, 4)\n",
      "  StudentId                                           FileName  \\\n",
      "0  12970655  Exercicios Resolvidos do Halliday sobre Rotaçã...   \n",
      "1  12970655  Exercicios Resolvidos do Halliday sobre Rotaçã...   \n",
      "2  12970655                                          CALCULO I   \n",
      "3  12970655                                          CALCULO I   \n",
      "4  12970655                                          CALCULO I   \n",
      "\n",
      "                     ViewDate Studentclient  \n",
      "0  2017-02-23 10:46:03.047000       Website  \n",
      "1  2017-02-23 10:46:12.370000       Website  \n",
      "2  2017-05-25 22:39:48.000000       Website  \n",
      "3  2017-05-25 22:40:36.000000       Website  \n",
      "4  2017-05-25 22:43:16.000000       Website  \n",
      "____________\n",
      "\n",
      "\n",
      "*********premium_cancellations***********\n",
      "(844, 2)\n",
      "   StudentId            CancellationDate\n",
      "0   34129668  2016-05-05 19:08:31.937000\n",
      "1   34129668  2016-05-05 22:48:20.830000\n",
      "2   82394932  2016-05-20 22:37:21.117000\n",
      "3   82942835  2016-05-31 13:44:55.307000\n",
      "4   85382416  2016-06-01 14:22:19.467000\n",
      "____________\n",
      "\n",
      "\n",
      "*********premium_payments***********\n",
      "(7276, 3)\n",
      "   StudentId                 PaymentDate PlanType\n",
      "0   12970655  2017-05-26 22:25:03.000000    Anual\n",
      "1   12970655  2018-05-26 10:05:28.000000    Anual\n",
      "2   12970655  2016-07-21 19:57:57.717000   Mensal\n",
      "3   12970655  2016-08-21 08:47:42.947000   Mensal\n",
      "4   12970655  2016-09-21 08:54:06.270000   Mensal\n",
      "____________\n",
      "\n",
      "\n",
      "*********questions***********\n",
      "(3906, 4)\n",
      "   StudentId                QuestionDate  \\\n",
      "0   12970655  2013-09-04 14:09:25.963000   \n",
      "1   12970655  2013-09-04 15:36:51.083000   \n",
      "2   12970655  2013-10-30 19:41:43.137000   \n",
      "3   12970655  2013-10-30 19:19:15.517000   \n",
      "4   12970655  2013-10-30 19:38:06.420000   \n",
      "\n",
      "                                     QuestionSnippet StudentClient  \n",
      "0  O que é mais importante para um projeto: escop...           NaN  \n",
      "1  Você pode ter um negócio/produto bem sucedido ...           NaN  \n",
      "2  Custos com consultoria para planejar um projet...           NaN  \n",
      "3  CAPEX: investimento em consultoria entra como ...           NaN  \n",
      "4  Custos com consultoria para planejar um projet...           NaN  \n",
      "____________\n",
      "\n",
      "\n",
      "*********sessions***********\n",
      "(1399062, 3)\n",
      "   StudentId     SessionStartTime StudentClient\n",
      "0   12970655  2017-02-20 14:51:37       Website\n",
      "1   12970655  2017-02-22 14:04:34       Website\n",
      "2   12970655  2017-02-23 13:46:14       Website\n",
      "3   12970655  2017-02-23 14:52:24       Website\n",
      "4   12970655  2017-03-03 20:47:21       Website\n",
      "____________\n",
      "\n",
      "\n",
      "*********students***********\n",
      "(60000, 8)\n",
      "         Id              RegisteredDate UniversityName  \\\n",
      "0  12970655  2012-05-29 15:22:27.490000        PUC-RIO   \n",
      "1  59873654  2012-09-03 20:32:04.853000            UFF   \n",
      "2   3664695  2012-09-10 20:26:30.253000            UNB   \n",
      "3  15207697  2012-09-05 15:31:08.090000           UERJ   \n",
      "4  36988693  2012-10-15 21:34:51.143000            UFU   \n",
      "\n",
      "                               CourseName             State SignupSource  \\\n",
      "0                           Administração    Rio de Janeiro        Email   \n",
      "1  Direito do Trabalho e Segurança Social    Rio de Janeiro     Facebook   \n",
      "2                              Enfermagem  Distrito Federal     Facebook   \n",
      "3         Engenharia de Produção Mecânica    Rio de Janeiro     Facebook   \n",
      "4                     Engenharia Elétrica               NaN     Facebook   \n",
      "\n",
      "             City StudentClient  \n",
      "0             NaN           NaN  \n",
      "1  Rio de Janeiro           NaN  \n",
      "2             NaN           NaN  \n",
      "3         Resende           NaN  \n",
      "4             NaN           NaN  \n",
      "____________\n",
      "\n",
      "\n",
      "*********subjects***********\n",
      "(315766, 3)\n",
      "   StudentId                             SubjectName  \\\n",
      "0   12970655               Disciplina Integradora II   \n",
      "1   12970655                    Pesquisa Operacional   \n",
      "2   12970655                               Cálculo I   \n",
      "3   12970655              Introdução à Administração   \n",
      "4   12970655  Contabilidade Aplicada à Administração   \n",
      "\n",
      "                   FollowDate  \n",
      "0  2015-09-12 16:00:11.000000  \n",
      "1  2015-09-12 16:00:11.000000  \n",
      "2  2016-06-07 17:07:35.000000  \n",
      "3  2015-09-12 16:00:11.000000  \n",
      "4  2015-09-12 16:00:11.000000  \n",
      "____________\n",
      "\n",
      "\n"
     ]
    }
   ],
   "source": [
    "files = ['fileViews',\n",
    "         'premium_cancellations',\n",
    "         'premium_payments',\n",
    "         'questions',\n",
    "         'sessions',\n",
    "         'students',\n",
    "         'subjects'\n",
    "         ]\n",
    "\n",
    "datasets = {}\n",
    "for file in files:\n",
    "    datasets[file] = pd.read_csv(f\"../data/processed/{file}.csv\")#,parse_dates=[1,2],index_col=[0])\n",
    "    print(f'*********{file}***********')\n",
    "    print(datasets[file].shape)\n",
    "    print(datasets[file].head())\n",
    "    print(\"____________\\n\\n\")"
   ],
   "metadata": {
    "collapsed": false,
    "pycharm": {
     "name": "#%%\n"
    }
   }
  },
  {
   "cell_type": "markdown",
   "source": [
    "Explorando premium_payment"
   ],
   "metadata": {
    "collapsed": false
   }
  },
  {
   "cell_type": "code",
   "execution_count": 236,
   "outputs": [
    {
     "name": "stdout",
     "output_type": "stream",
     "text": [
      "(Timestamp('2018-06-08 03:00:37'), Timestamp('2015-08-08 00:00:00'))\n",
      "(Timestamp('2018-06-08 03:00:37'), Timestamp('2017-11-01 00:00:55.678196'))\n"
     ]
    },
    {
     "data": {
      "text/plain": "                  PaymentDate PlanType\nStudentId                             \n12970655  2018-05-26 10:05:28    Anual\n36391532  2018-04-21 21:23:58   Mensal",
      "text/html": "<div>\n<style scoped>\n    .dataframe tbody tr th:only-of-type {\n        vertical-align: middle;\n    }\n\n    .dataframe tbody tr th {\n        vertical-align: top;\n    }\n\n    .dataframe thead th {\n        text-align: right;\n    }\n</style>\n<table border=\"1\" class=\"dataframe\">\n  <thead>\n    <tr style=\"text-align: right;\">\n      <th></th>\n      <th>PaymentDate</th>\n      <th>PlanType</th>\n    </tr>\n    <tr>\n      <th>StudentId</th>\n      <th></th>\n      <th></th>\n    </tr>\n  </thead>\n  <tbody>\n    <tr>\n      <th>12970655</th>\n      <td>2018-05-26 10:05:28</td>\n      <td>Anual</td>\n    </tr>\n    <tr>\n      <th>36391532</th>\n      <td>2018-04-21 21:23:58</td>\n      <td>Mensal</td>\n    </tr>\n  </tbody>\n</table>\n</div>"
     },
     "execution_count": 236,
     "metadata": {},
     "output_type": "execute_result"
    }
   ],
   "source": [
    "payments = datasets['premium_payments'].set_index('StudentId')\n",
    "payments.PaymentDate = payments.PaymentDate.astype('datetime64')\n",
    "print( (payments.PaymentDate.max(),payments.PaymentDate.min()) )\n",
    "november_payments = payments.loc[payments.PaymentDate >= '2017-11-01']\n",
    "print( (november_payments.PaymentDate.max(),november_payments.PaymentDate.min()) )\n",
    "november_payments.head(2)"
   ],
   "metadata": {
    "collapsed": false,
    "pycharm": {
     "name": "#%%\n"
    }
   }
  },
  {
   "cell_type": "code",
   "execution_count": 237,
   "outputs": [
    {
     "name": "stdout",
     "output_type": "stream",
     "text": [
      "(1737, 3)\n"
     ]
    },
    {
     "data": {
      "text/plain": "                    count                 min                 max\nStudentId PlanType                                               \n43621     Mensal        2 2018-03-05 19:43:13 2018-05-19 14:39:10\n105540    Anual         1 2018-04-26 22:35:36 2018-04-26 22:35:36",
      "text/html": "<div>\n<style scoped>\n    .dataframe tbody tr th:only-of-type {\n        vertical-align: middle;\n    }\n\n    .dataframe tbody tr th {\n        vertical-align: top;\n    }\n\n    .dataframe thead th {\n        text-align: right;\n    }\n</style>\n<table border=\"1\" class=\"dataframe\">\n  <thead>\n    <tr style=\"text-align: right;\">\n      <th></th>\n      <th></th>\n      <th>count</th>\n      <th>min</th>\n      <th>max</th>\n    </tr>\n    <tr>\n      <th>StudentId</th>\n      <th>PlanType</th>\n      <th></th>\n      <th></th>\n      <th></th>\n    </tr>\n  </thead>\n  <tbody>\n    <tr>\n      <th>43621</th>\n      <th>Mensal</th>\n      <td>2</td>\n      <td>2018-03-05 19:43:13</td>\n      <td>2018-05-19 14:39:10</td>\n    </tr>\n    <tr>\n      <th>105540</th>\n      <th>Anual</th>\n      <td>1</td>\n      <td>2018-04-26 22:35:36</td>\n      <td>2018-04-26 22:35:36</td>\n    </tr>\n  </tbody>\n</table>\n</div>"
     },
     "execution_count": 237,
     "metadata": {},
     "output_type": "execute_result"
    }
   ],
   "source": [
    "november_payments_agg = november_payments.groupby(['StudentId','PlanType']).PaymentDate.agg(['count','min','max'])\n",
    "print(november_payments_agg.shape)\n",
    "november_payments_agg.head(2)"
   ],
   "metadata": {
    "collapsed": false,
    "pycharm": {
     "name": "#%%\n"
    }
   }
  },
  {
   "cell_type": "code",
   "execution_count": 238,
   "outputs": [
    {
     "data": {
      "text/plain": "      StudentId PlanType  count                        min  \\\n24      1387231    Anual      1 2018-05-09 01:52:07.000000   \n25      1387231   Mensal      3 2017-12-04 18:10:29.908633   \n34      1917538    Anual      1 2018-06-07 14:54:22.000000   \n35      1917538   Mensal      7 2017-11-06 21:40:49.762953   \n36      1925053    Anual      1 2018-04-03 14:24:15.000000   \n37      1925053   Mensal      2 2017-11-19 16:00:26.866588   \n327    17477694    Anual      1 2018-02-25 14:26:08.000000   \n328    17477694   Mensal      2 2017-11-26 08:10:32.581315   \n419    22685203    Anual      1 2018-03-27 00:22:49.000000   \n420    22685203   Mensal      1 2017-11-17 02:35:49.159299   \n558    30909951    Anual      1 2018-04-23 13:59:16.000000   \n559    30909951   Mensal      4 2017-11-06 01:00:02.364195   \n690    39863631    Anual      1 2018-05-14 16:24:16.000000   \n691    39863631   Mensal      4 2017-11-05 20:24:18.690786   \n699    40203342    Anual      1 2018-05-31 23:25:51.000000   \n700    40203342   Mensal      4 2017-11-11 21:54:32.593793   \n1088   63290130    Anual      1 2018-04-12 21:48:55.000000   \n1089   63290130   Mensal      1 2017-11-20 08:18:22.363701   \n1218   70213179    Anual      1 2018-03-30 12:46:13.000000   \n1219   70213179   Mensal      2 2017-11-07 17:29:52.725507   \n1261   72888232    Anual      1 2018-02-22 20:01:16.000000   \n1262   72888232   Mensal      2 2017-11-10 11:21:23.223688   \n1318   75420808    Anual      1 2018-04-20 14:32:54.000000   \n1319   75420808   Mensal      2 2017-11-10 17:40:00.963901   \n1341   76763658    Anual      1 2018-04-12 00:04:02.000000   \n1342   76763658   Mensal      4 2017-11-09 22:06:25.830015   \n1397   79762151    Anual      1 2018-04-10 19:47:51.000000   \n1398   79762151   Mensal      1 2017-12-02 19:17:06.853874   \n1464   83791216    Anual      1 2018-04-02 02:31:42.000000   \n1465   83791216   Mensal      1 2017-11-26 07:57:58.828962   \n1656   94958463    Anual      1 2018-04-02 20:39:11.000000   \n1657   94958463   Mensal      4 2017-11-03 16:13:51.778394   \n1692   97261635    Anual      1 2018-05-31 02:23:01.000000   \n1693   97261635   Mensal      5 2017-11-11 01:29:54.545115   \n\n                            max  \n24   2018-05-09 01:52:07.000000  \n25   2018-02-04 08:46:56.959982  \n34   2018-06-07 14:54:22.000000  \n35   2018-05-06 09:38:47.000000  \n36   2018-04-03 14:24:15.000000  \n37   2017-12-19 10:12:01.886407  \n327  2018-02-25 14:26:08.000000  \n328  2017-12-26 09:59:26.126101  \n419  2018-03-27 00:22:49.000000  \n420  2017-11-17 02:35:49.159299  \n558  2018-04-23 13:59:16.000000  \n559  2018-02-05 08:41:59.786130  \n690  2018-05-14 16:24:16.000000  \n691  2018-02-05 08:35:01.777873  \n699  2018-05-31 23:25:51.000000  \n700  2018-02-11 09:09:39.081275  \n1088 2018-04-12 21:48:55.000000  \n1089 2017-11-20 08:18:22.363701  \n1218 2018-03-30 12:46:13.000000  \n1219 2017-12-07 08:16:34.160988  \n1261 2018-02-22 20:01:16.000000  \n1262 2017-12-10 08:43:14.814293  \n1318 2018-04-20 14:32:54.000000  \n1319 2017-12-10 08:38:19.725771  \n1341 2018-04-12 00:04:02.000000  \n1342 2018-02-09 08:32:50.204564  \n1397 2018-04-10 19:47:51.000000  \n1398 2017-12-02 19:17:06.853874  \n1464 2018-04-02 02:31:42.000000  \n1465 2017-11-26 07:57:58.828962  \n1656 2018-04-02 20:39:11.000000  \n1657 2018-02-03 08:37:24.620017  \n1692 2018-05-31 02:23:01.000000  \n1693 2018-03-10 10:30:29.000000  ",
      "text/html": "<div>\n<style scoped>\n    .dataframe tbody tr th:only-of-type {\n        vertical-align: middle;\n    }\n\n    .dataframe tbody tr th {\n        vertical-align: top;\n    }\n\n    .dataframe thead th {\n        text-align: right;\n    }\n</style>\n<table border=\"1\" class=\"dataframe\">\n  <thead>\n    <tr style=\"text-align: right;\">\n      <th></th>\n      <th>StudentId</th>\n      <th>PlanType</th>\n      <th>count</th>\n      <th>min</th>\n      <th>max</th>\n    </tr>\n  </thead>\n  <tbody>\n    <tr>\n      <th>24</th>\n      <td>1387231</td>\n      <td>Anual</td>\n      <td>1</td>\n      <td>2018-05-09 01:52:07.000000</td>\n      <td>2018-05-09 01:52:07.000000</td>\n    </tr>\n    <tr>\n      <th>25</th>\n      <td>1387231</td>\n      <td>Mensal</td>\n      <td>3</td>\n      <td>2017-12-04 18:10:29.908633</td>\n      <td>2018-02-04 08:46:56.959982</td>\n    </tr>\n    <tr>\n      <th>34</th>\n      <td>1917538</td>\n      <td>Anual</td>\n      <td>1</td>\n      <td>2018-06-07 14:54:22.000000</td>\n      <td>2018-06-07 14:54:22.000000</td>\n    </tr>\n    <tr>\n      <th>35</th>\n      <td>1917538</td>\n      <td>Mensal</td>\n      <td>7</td>\n      <td>2017-11-06 21:40:49.762953</td>\n      <td>2018-05-06 09:38:47.000000</td>\n    </tr>\n    <tr>\n      <th>36</th>\n      <td>1925053</td>\n      <td>Anual</td>\n      <td>1</td>\n      <td>2018-04-03 14:24:15.000000</td>\n      <td>2018-04-03 14:24:15.000000</td>\n    </tr>\n    <tr>\n      <th>37</th>\n      <td>1925053</td>\n      <td>Mensal</td>\n      <td>2</td>\n      <td>2017-11-19 16:00:26.866588</td>\n      <td>2017-12-19 10:12:01.886407</td>\n    </tr>\n    <tr>\n      <th>327</th>\n      <td>17477694</td>\n      <td>Anual</td>\n      <td>1</td>\n      <td>2018-02-25 14:26:08.000000</td>\n      <td>2018-02-25 14:26:08.000000</td>\n    </tr>\n    <tr>\n      <th>328</th>\n      <td>17477694</td>\n      <td>Mensal</td>\n      <td>2</td>\n      <td>2017-11-26 08:10:32.581315</td>\n      <td>2017-12-26 09:59:26.126101</td>\n    </tr>\n    <tr>\n      <th>419</th>\n      <td>22685203</td>\n      <td>Anual</td>\n      <td>1</td>\n      <td>2018-03-27 00:22:49.000000</td>\n      <td>2018-03-27 00:22:49.000000</td>\n    </tr>\n    <tr>\n      <th>420</th>\n      <td>22685203</td>\n      <td>Mensal</td>\n      <td>1</td>\n      <td>2017-11-17 02:35:49.159299</td>\n      <td>2017-11-17 02:35:49.159299</td>\n    </tr>\n    <tr>\n      <th>558</th>\n      <td>30909951</td>\n      <td>Anual</td>\n      <td>1</td>\n      <td>2018-04-23 13:59:16.000000</td>\n      <td>2018-04-23 13:59:16.000000</td>\n    </tr>\n    <tr>\n      <th>559</th>\n      <td>30909951</td>\n      <td>Mensal</td>\n      <td>4</td>\n      <td>2017-11-06 01:00:02.364195</td>\n      <td>2018-02-05 08:41:59.786130</td>\n    </tr>\n    <tr>\n      <th>690</th>\n      <td>39863631</td>\n      <td>Anual</td>\n      <td>1</td>\n      <td>2018-05-14 16:24:16.000000</td>\n      <td>2018-05-14 16:24:16.000000</td>\n    </tr>\n    <tr>\n      <th>691</th>\n      <td>39863631</td>\n      <td>Mensal</td>\n      <td>4</td>\n      <td>2017-11-05 20:24:18.690786</td>\n      <td>2018-02-05 08:35:01.777873</td>\n    </tr>\n    <tr>\n      <th>699</th>\n      <td>40203342</td>\n      <td>Anual</td>\n      <td>1</td>\n      <td>2018-05-31 23:25:51.000000</td>\n      <td>2018-05-31 23:25:51.000000</td>\n    </tr>\n    <tr>\n      <th>700</th>\n      <td>40203342</td>\n      <td>Mensal</td>\n      <td>4</td>\n      <td>2017-11-11 21:54:32.593793</td>\n      <td>2018-02-11 09:09:39.081275</td>\n    </tr>\n    <tr>\n      <th>1088</th>\n      <td>63290130</td>\n      <td>Anual</td>\n      <td>1</td>\n      <td>2018-04-12 21:48:55.000000</td>\n      <td>2018-04-12 21:48:55.000000</td>\n    </tr>\n    <tr>\n      <th>1089</th>\n      <td>63290130</td>\n      <td>Mensal</td>\n      <td>1</td>\n      <td>2017-11-20 08:18:22.363701</td>\n      <td>2017-11-20 08:18:22.363701</td>\n    </tr>\n    <tr>\n      <th>1218</th>\n      <td>70213179</td>\n      <td>Anual</td>\n      <td>1</td>\n      <td>2018-03-30 12:46:13.000000</td>\n      <td>2018-03-30 12:46:13.000000</td>\n    </tr>\n    <tr>\n      <th>1219</th>\n      <td>70213179</td>\n      <td>Mensal</td>\n      <td>2</td>\n      <td>2017-11-07 17:29:52.725507</td>\n      <td>2017-12-07 08:16:34.160988</td>\n    </tr>\n    <tr>\n      <th>1261</th>\n      <td>72888232</td>\n      <td>Anual</td>\n      <td>1</td>\n      <td>2018-02-22 20:01:16.000000</td>\n      <td>2018-02-22 20:01:16.000000</td>\n    </tr>\n    <tr>\n      <th>1262</th>\n      <td>72888232</td>\n      <td>Mensal</td>\n      <td>2</td>\n      <td>2017-11-10 11:21:23.223688</td>\n      <td>2017-12-10 08:43:14.814293</td>\n    </tr>\n    <tr>\n      <th>1318</th>\n      <td>75420808</td>\n      <td>Anual</td>\n      <td>1</td>\n      <td>2018-04-20 14:32:54.000000</td>\n      <td>2018-04-20 14:32:54.000000</td>\n    </tr>\n    <tr>\n      <th>1319</th>\n      <td>75420808</td>\n      <td>Mensal</td>\n      <td>2</td>\n      <td>2017-11-10 17:40:00.963901</td>\n      <td>2017-12-10 08:38:19.725771</td>\n    </tr>\n    <tr>\n      <th>1341</th>\n      <td>76763658</td>\n      <td>Anual</td>\n      <td>1</td>\n      <td>2018-04-12 00:04:02.000000</td>\n      <td>2018-04-12 00:04:02.000000</td>\n    </tr>\n    <tr>\n      <th>1342</th>\n      <td>76763658</td>\n      <td>Mensal</td>\n      <td>4</td>\n      <td>2017-11-09 22:06:25.830015</td>\n      <td>2018-02-09 08:32:50.204564</td>\n    </tr>\n    <tr>\n      <th>1397</th>\n      <td>79762151</td>\n      <td>Anual</td>\n      <td>1</td>\n      <td>2018-04-10 19:47:51.000000</td>\n      <td>2018-04-10 19:47:51.000000</td>\n    </tr>\n    <tr>\n      <th>1398</th>\n      <td>79762151</td>\n      <td>Mensal</td>\n      <td>1</td>\n      <td>2017-12-02 19:17:06.853874</td>\n      <td>2017-12-02 19:17:06.853874</td>\n    </tr>\n    <tr>\n      <th>1464</th>\n      <td>83791216</td>\n      <td>Anual</td>\n      <td>1</td>\n      <td>2018-04-02 02:31:42.000000</td>\n      <td>2018-04-02 02:31:42.000000</td>\n    </tr>\n    <tr>\n      <th>1465</th>\n      <td>83791216</td>\n      <td>Mensal</td>\n      <td>1</td>\n      <td>2017-11-26 07:57:58.828962</td>\n      <td>2017-11-26 07:57:58.828962</td>\n    </tr>\n    <tr>\n      <th>1656</th>\n      <td>94958463</td>\n      <td>Anual</td>\n      <td>1</td>\n      <td>2018-04-02 20:39:11.000000</td>\n      <td>2018-04-02 20:39:11.000000</td>\n    </tr>\n    <tr>\n      <th>1657</th>\n      <td>94958463</td>\n      <td>Mensal</td>\n      <td>4</td>\n      <td>2017-11-03 16:13:51.778394</td>\n      <td>2018-02-03 08:37:24.620017</td>\n    </tr>\n    <tr>\n      <th>1692</th>\n      <td>97261635</td>\n      <td>Anual</td>\n      <td>1</td>\n      <td>2018-05-31 02:23:01.000000</td>\n      <td>2018-05-31 02:23:01.000000</td>\n    </tr>\n    <tr>\n      <th>1693</th>\n      <td>97261635</td>\n      <td>Mensal</td>\n      <td>5</td>\n      <td>2017-11-11 01:29:54.545115</td>\n      <td>2018-03-10 10:30:29.000000</td>\n    </tr>\n  </tbody>\n</table>\n</div>"
     },
     "execution_count": 238,
     "metadata": {},
     "output_type": "execute_result"
    }
   ],
   "source": [
    "temp = november_payments_agg.reset_index()\n",
    "duplicated= temp.StudentId.value_counts() > 1\n",
    "df_duplicates = pd.DataFrame(duplicated)\n",
    "duplicated_index = df_duplicates.loc[df_duplicates.StudentId].index\n",
    "\n",
    "upsell = temp.loc[temp['StudentId'].isin(duplicated_index)]\n",
    "upsell"
   ],
   "metadata": {
    "collapsed": false,
    "pycharm": {
     "name": "#%%\n"
    }
   }
  },
  {
   "cell_type": "markdown",
   "source": [
    "Explorando premium_cancellations"
   ],
   "metadata": {
    "collapsed": false,
    "pycharm": {
     "name": "#%% md\n"
    }
   }
  },
  {
   "cell_type": "code",
   "execution_count": 239,
   "outputs": [
    {
     "name": "stdout",
     "output_type": "stream",
     "text": [
      "Int64Index([80940475, 87461279, 78337805, 25393906, 78985669,  9061848,\n",
      "            70848728, 82394932, 44648071, 38333199, 53282462, 90436363,\n",
      "            40203342,  7114951, 98867295, 88821289, 72157495,  2498628,\n",
      "            91636655, 70704350, 25609896,  9447161, 71379056, 36297488,\n",
      "             2496782, 23210941, 77746524, 53857098, 12444491, 15818350,\n",
      "            97838701, 16814666, 84807825, 75579229, 66480953, 46454479,\n",
      "             9592706, 54503273, 65255005, 88091992, 46226621, 63831634,\n",
      "            83131510, 31811327, 23636551, 66420739, 34129668, 73289544,\n",
      "            16143842, 55012889, 58493920, 89046718, 50975816, 74084771,\n",
      "            83775176, 77891596, 26456075, 93655541, 65714200, 85382416,\n",
      "            75688451, 81215511, 16806380, 52909502, 78442489, 87258165,\n",
      "            75156172, 99720133],\n",
      "           dtype='int64')\n"
     ]
    },
    {
     "data": {
      "text/plain": "     StudentId           CancellationDate cancellation_day\n0     34129668 2016-05-05 19:08:31.937000       2016-05-05\n1     34129668 2016-05-05 22:48:20.830000       2016-05-05\n2     82394932 2016-05-20 22:37:21.117000       2016-05-20\n4     85382416 2016-06-01 14:22:19.467000       2016-06-01\n5     85382416 2016-06-01 14:22:26.233000       2016-06-01\n..         ...                        ...              ...\n831   50975816 2018-06-04 15:11:58.345725       2018-06-04\n832   78337805 2018-06-04 15:27:27.985600       2018-06-04\n833   52909502 2018-06-04 21:13:36.291452       2018-06-04\n836   16814666 2018-06-05 12:09:27.859651       2018-06-05\n840   66480953 2018-06-06 18:19:25.351847       2018-06-06\n\n[144 rows x 3 columns]",
      "text/html": "<div>\n<style scoped>\n    .dataframe tbody tr th:only-of-type {\n        vertical-align: middle;\n    }\n\n    .dataframe tbody tr th {\n        vertical-align: top;\n    }\n\n    .dataframe thead th {\n        text-align: right;\n    }\n</style>\n<table border=\"1\" class=\"dataframe\">\n  <thead>\n    <tr style=\"text-align: right;\">\n      <th></th>\n      <th>StudentId</th>\n      <th>CancellationDate</th>\n      <th>cancellation_day</th>\n    </tr>\n  </thead>\n  <tbody>\n    <tr>\n      <th>0</th>\n      <td>34129668</td>\n      <td>2016-05-05 19:08:31.937000</td>\n      <td>2016-05-05</td>\n    </tr>\n    <tr>\n      <th>1</th>\n      <td>34129668</td>\n      <td>2016-05-05 22:48:20.830000</td>\n      <td>2016-05-05</td>\n    </tr>\n    <tr>\n      <th>2</th>\n      <td>82394932</td>\n      <td>2016-05-20 22:37:21.117000</td>\n      <td>2016-05-20</td>\n    </tr>\n    <tr>\n      <th>4</th>\n      <td>85382416</td>\n      <td>2016-06-01 14:22:19.467000</td>\n      <td>2016-06-01</td>\n    </tr>\n    <tr>\n      <th>5</th>\n      <td>85382416</td>\n      <td>2016-06-01 14:22:26.233000</td>\n      <td>2016-06-01</td>\n    </tr>\n    <tr>\n      <th>...</th>\n      <td>...</td>\n      <td>...</td>\n      <td>...</td>\n    </tr>\n    <tr>\n      <th>831</th>\n      <td>50975816</td>\n      <td>2018-06-04 15:11:58.345725</td>\n      <td>2018-06-04</td>\n    </tr>\n    <tr>\n      <th>832</th>\n      <td>78337805</td>\n      <td>2018-06-04 15:27:27.985600</td>\n      <td>2018-06-04</td>\n    </tr>\n    <tr>\n      <th>833</th>\n      <td>52909502</td>\n      <td>2018-06-04 21:13:36.291452</td>\n      <td>2018-06-04</td>\n    </tr>\n    <tr>\n      <th>836</th>\n      <td>16814666</td>\n      <td>2018-06-05 12:09:27.859651</td>\n      <td>2018-06-05</td>\n    </tr>\n    <tr>\n      <th>840</th>\n      <td>66480953</td>\n      <td>2018-06-06 18:19:25.351847</td>\n      <td>2018-06-06</td>\n    </tr>\n  </tbody>\n</table>\n<p>144 rows × 3 columns</p>\n</div>"
     },
     "execution_count": 239,
     "metadata": {},
     "output_type": "execute_result"
    }
   ],
   "source": [
    "#Múltiplos cancelamentos\n",
    "\n",
    "studants_cancellation = datasets['premium_cancellations']\n",
    "duplicated_cancellation = studants_cancellation.StudentId.value_counts() > 1\n",
    "df_duplicates_cancellation = pd.DataFrame(duplicated_cancellation)\n",
    "duplicated_cancellation_index = df_duplicates_cancellation.loc[df_duplicates_cancellation.StudentId].index\n",
    "\n",
    "print(duplicated_cancellation_index)\n",
    "studants_gt_1_cancellation = studants_cancellation.loc[studants_cancellation['StudentId'].isin(duplicated_cancellation_index)]\n",
    "studants_gt_1_cancellation"
   ],
   "metadata": {
    "collapsed": false,
    "pycharm": {
     "name": "#%%\n"
    }
   }
  },
  {
   "cell_type": "code",
   "execution_count": 253,
   "outputs": [
    {
     "name": "stdout",
     "output_type": "stream",
     "text": [
      "(844, 3)\n",
      "(664, 3)\n"
     ]
    },
    {
     "data": {
      "text/plain": "     StudentId           CancellationDate cancellation_day\n842   62200299 2018-06-07 11:05:04.850847       2018-06-07\n843   22275761 2018-06-07 14:44:20.650220       2018-06-07",
      "text/html": "<div>\n<style scoped>\n    .dataframe tbody tr th:only-of-type {\n        vertical-align: middle;\n    }\n\n    .dataframe tbody tr th {\n        vertical-align: top;\n    }\n\n    .dataframe thead th {\n        text-align: right;\n    }\n</style>\n<table border=\"1\" class=\"dataframe\">\n  <thead>\n    <tr style=\"text-align: right;\">\n      <th></th>\n      <th>StudentId</th>\n      <th>CancellationDate</th>\n      <th>cancellation_day</th>\n    </tr>\n  </thead>\n  <tbody>\n    <tr>\n      <th>842</th>\n      <td>62200299</td>\n      <td>2018-06-07 11:05:04.850847</td>\n      <td>2018-06-07</td>\n    </tr>\n    <tr>\n      <th>843</th>\n      <td>22275761</td>\n      <td>2018-06-07 14:44:20.650220</td>\n      <td>2018-06-07</td>\n    </tr>\n  </tbody>\n</table>\n</div>"
     },
     "execution_count": 253,
     "metadata": {},
     "output_type": "execute_result"
    }
   ],
   "source": [
    "cancellation = datasets['premium_cancellations']\n",
    "cancellation.CancellationDate = cancellation.CancellationDate.astype('datetime64')\n",
    "cancellation['cancellation_day'] = cancellation.CancellationDate.map(  lambda x :   x.strftime(\"%Y-%m-%d\") )\n",
    "cancellation.head(2)\n",
    "print(cancellation.shape)\n",
    "november_cancellation = cancellation[cancellation.CancellationDate >= '2017-11-01']\n",
    "print(november_cancellation.shape)\n",
    "november_cancellation.tail(2)\n"
   ],
   "metadata": {
    "collapsed": false,
    "pycharm": {
     "name": "#%%\n"
    }
   }
  },
  {
   "cell_type": "code",
   "execution_count": 308,
   "outputs": [
    {
     "data": {
      "text/plain": "     StudentId                  timestamp   event event_type\n0     34129668 2016-05-05 19:08:31.937000  cancel     cancel\n1     34129668 2016-05-05 22:48:20.830000  cancel     cancel\n2     82394932 2016-05-20 22:37:21.117000  cancel     cancel\n3     82942835 2016-05-31 13:44:55.307000  cancel     cancel\n4     85382416 2016-06-01 14:22:19.467000  cancel     cancel\n..         ...                        ...     ...        ...\n839   51676678 2018-06-06 01:00:16.685120  cancel     cancel\n840   66480953 2018-06-06 18:19:25.351847  cancel     cancel\n841   40700523 2018-06-07 03:07:57.683523  cancel     cancel\n842   62200299 2018-06-07 11:05:04.850847  cancel     cancel\n843   22275761 2018-06-07 14:44:20.650220  cancel     cancel\n\n[844 rows x 4 columns]",
      "text/html": "<div>\n<style scoped>\n    .dataframe tbody tr th:only-of-type {\n        vertical-align: middle;\n    }\n\n    .dataframe tbody tr th {\n        vertical-align: top;\n    }\n\n    .dataframe thead th {\n        text-align: right;\n    }\n</style>\n<table border=\"1\" class=\"dataframe\">\n  <thead>\n    <tr style=\"text-align: right;\">\n      <th></th>\n      <th>StudentId</th>\n      <th>timestamp</th>\n      <th>event</th>\n      <th>event_type</th>\n    </tr>\n  </thead>\n  <tbody>\n    <tr>\n      <th>0</th>\n      <td>34129668</td>\n      <td>2016-05-05 19:08:31.937000</td>\n      <td>cancel</td>\n      <td>cancel</td>\n    </tr>\n    <tr>\n      <th>1</th>\n      <td>34129668</td>\n      <td>2016-05-05 22:48:20.830000</td>\n      <td>cancel</td>\n      <td>cancel</td>\n    </tr>\n    <tr>\n      <th>2</th>\n      <td>82394932</td>\n      <td>2016-05-20 22:37:21.117000</td>\n      <td>cancel</td>\n      <td>cancel</td>\n    </tr>\n    <tr>\n      <th>3</th>\n      <td>82942835</td>\n      <td>2016-05-31 13:44:55.307000</td>\n      <td>cancel</td>\n      <td>cancel</td>\n    </tr>\n    <tr>\n      <th>4</th>\n      <td>85382416</td>\n      <td>2016-06-01 14:22:19.467000</td>\n      <td>cancel</td>\n      <td>cancel</td>\n    </tr>\n    <tr>\n      <th>...</th>\n      <td>...</td>\n      <td>...</td>\n      <td>...</td>\n      <td>...</td>\n    </tr>\n    <tr>\n      <th>839</th>\n      <td>51676678</td>\n      <td>2018-06-06 01:00:16.685120</td>\n      <td>cancel</td>\n      <td>cancel</td>\n    </tr>\n    <tr>\n      <th>840</th>\n      <td>66480953</td>\n      <td>2018-06-06 18:19:25.351847</td>\n      <td>cancel</td>\n      <td>cancel</td>\n    </tr>\n    <tr>\n      <th>841</th>\n      <td>40700523</td>\n      <td>2018-06-07 03:07:57.683523</td>\n      <td>cancel</td>\n      <td>cancel</td>\n    </tr>\n    <tr>\n      <th>842</th>\n      <td>62200299</td>\n      <td>2018-06-07 11:05:04.850847</td>\n      <td>cancel</td>\n      <td>cancel</td>\n    </tr>\n    <tr>\n      <th>843</th>\n      <td>22275761</td>\n      <td>2018-06-07 14:44:20.650220</td>\n      <td>cancel</td>\n      <td>cancel</td>\n    </tr>\n  </tbody>\n</table>\n<p>844 rows × 4 columns</p>\n</div>"
     },
     "execution_count": 308,
     "metadata": {},
     "output_type": "execute_result"
    }
   ],
   "source": [
    "df_event_cancel = cancellation.copy()\n",
    "df_event_cancel['event'] = 'cancel'\n",
    "df_event_cancel['event_type'] = 'cancel'\n",
    "df_event_cancel['timestamp'] = df_event_cancel['CancellationDate']\n",
    "event_cancel=df_event_cancel.filter(items=['StudentId', 'timestamp', 'event','event_type'])\n",
    "event_cancel"
   ],
   "metadata": {
    "collapsed": false,
    "pycharm": {
     "name": "#%%\n"
    }
   }
  },
  {
   "cell_type": "code",
   "execution_count": 309,
   "outputs": [
    {
     "data": {
      "text/plain": "      StudentId                  timestamp event event_type\n0      12970655 2018-05-26 10:05:28.000000   pay      Anual\n1      36391532 2018-04-21 21:23:58.000000   pay     Mensal\n2      36391532 2018-05-21 10:13:29.000000   pay     Mensal\n3      67560047 2017-11-22 02:26:08.315583   pay     Mensal\n4      36300639 2017-11-02 07:59:13.252279   pay     Mensal\n...         ...                        ...   ...        ...\n5457   22349939 2018-01-01 08:03:15.755971   pay     Mensal\n5458   22349939 2018-02-01 08:43:28.281252   pay     Mensal\n5459   22349939 2018-03-01 10:03:58.000000   pay     Mensal\n5460   22349939 2018-04-01 12:59:35.000000   pay     Mensal\n5461   22349939 2018-05-01 09:35:05.000000   pay     Mensal\n\n[5462 rows x 4 columns]",
      "text/html": "<div>\n<style scoped>\n    .dataframe tbody tr th:only-of-type {\n        vertical-align: middle;\n    }\n\n    .dataframe tbody tr th {\n        vertical-align: top;\n    }\n\n    .dataframe thead th {\n        text-align: right;\n    }\n</style>\n<table border=\"1\" class=\"dataframe\">\n  <thead>\n    <tr style=\"text-align: right;\">\n      <th></th>\n      <th>StudentId</th>\n      <th>timestamp</th>\n      <th>event</th>\n      <th>event_type</th>\n    </tr>\n  </thead>\n  <tbody>\n    <tr>\n      <th>0</th>\n      <td>12970655</td>\n      <td>2018-05-26 10:05:28.000000</td>\n      <td>pay</td>\n      <td>Anual</td>\n    </tr>\n    <tr>\n      <th>1</th>\n      <td>36391532</td>\n      <td>2018-04-21 21:23:58.000000</td>\n      <td>pay</td>\n      <td>Mensal</td>\n    </tr>\n    <tr>\n      <th>2</th>\n      <td>36391532</td>\n      <td>2018-05-21 10:13:29.000000</td>\n      <td>pay</td>\n      <td>Mensal</td>\n    </tr>\n    <tr>\n      <th>3</th>\n      <td>67560047</td>\n      <td>2017-11-22 02:26:08.315583</td>\n      <td>pay</td>\n      <td>Mensal</td>\n    </tr>\n    <tr>\n      <th>4</th>\n      <td>36300639</td>\n      <td>2017-11-02 07:59:13.252279</td>\n      <td>pay</td>\n      <td>Mensal</td>\n    </tr>\n    <tr>\n      <th>...</th>\n      <td>...</td>\n      <td>...</td>\n      <td>...</td>\n      <td>...</td>\n    </tr>\n    <tr>\n      <th>5457</th>\n      <td>22349939</td>\n      <td>2018-01-01 08:03:15.755971</td>\n      <td>pay</td>\n      <td>Mensal</td>\n    </tr>\n    <tr>\n      <th>5458</th>\n      <td>22349939</td>\n      <td>2018-02-01 08:43:28.281252</td>\n      <td>pay</td>\n      <td>Mensal</td>\n    </tr>\n    <tr>\n      <th>5459</th>\n      <td>22349939</td>\n      <td>2018-03-01 10:03:58.000000</td>\n      <td>pay</td>\n      <td>Mensal</td>\n    </tr>\n    <tr>\n      <th>5460</th>\n      <td>22349939</td>\n      <td>2018-04-01 12:59:35.000000</td>\n      <td>pay</td>\n      <td>Mensal</td>\n    </tr>\n    <tr>\n      <th>5461</th>\n      <td>22349939</td>\n      <td>2018-05-01 09:35:05.000000</td>\n      <td>pay</td>\n      <td>Mensal</td>\n    </tr>\n  </tbody>\n</table>\n<p>5462 rows × 4 columns</p>\n</div>"
     },
     "execution_count": 309,
     "metadata": {},
     "output_type": "execute_result"
    }
   ],
   "source": [
    "df_event_payment = november_payments.copy().reset_index()\n",
    "df_event_payment['event'] = 'pay'\n",
    "df_event_payment['timestamp'] = df_event_payment['PaymentDate']\n",
    "df_event_payment['event_type'] = df_event_payment['PlanType']\n",
    "event_payment = df_event_payment.filter(items=['StudentId', 'timestamp', 'event','event_type'])\n",
    "event_payment"
   ],
   "metadata": {
    "collapsed": false,
    "pycharm": {
     "name": "#%%\n"
    }
   }
  },
  {
   "cell_type": "code",
   "execution_count": 318,
   "outputs": [
    {
     "data": {
      "text/plain": "      index  StudentId                  timestamp   event event_type\n180    4896   34038363 2017-11-01 00:00:55.678196     pay     Mensal\n181    2085   49260757 2017-11-01 01:13:00.717699     pay     Mensal\n182    4899   76080886 2017-11-01 01:26:20.758180     pay     Mensal\n183     193   49895399 2017-11-01 01:31:52.825098     pay     Mensal\n184    3806   92307069 2017-11-01 01:33:23.206908     pay     Mensal\n...     ...        ...                        ...     ...        ...\n6301    843   22275761 2018-06-07 14:44:20.650220  cancel     cancel\n6302   3238    1917538 2018-06-07 14:54:22.000000     pay      Anual\n6303   4789   14959829 2018-06-07 19:16:48.000000     pay     Mensal\n6304   2795   92778941 2018-06-07 21:49:21.000000     pay     Mensal\n6305   1796   74043115 2018-06-08 03:00:37.000000     pay     Mensal\n\n[6126 rows x 5 columns]",
      "text/html": "<div>\n<style scoped>\n    .dataframe tbody tr th:only-of-type {\n        vertical-align: middle;\n    }\n\n    .dataframe tbody tr th {\n        vertical-align: top;\n    }\n\n    .dataframe thead th {\n        text-align: right;\n    }\n</style>\n<table border=\"1\" class=\"dataframe\">\n  <thead>\n    <tr style=\"text-align: right;\">\n      <th></th>\n      <th>index</th>\n      <th>StudentId</th>\n      <th>timestamp</th>\n      <th>event</th>\n      <th>event_type</th>\n    </tr>\n  </thead>\n  <tbody>\n    <tr>\n      <th>180</th>\n      <td>4896</td>\n      <td>34038363</td>\n      <td>2017-11-01 00:00:55.678196</td>\n      <td>pay</td>\n      <td>Mensal</td>\n    </tr>\n    <tr>\n      <th>181</th>\n      <td>2085</td>\n      <td>49260757</td>\n      <td>2017-11-01 01:13:00.717699</td>\n      <td>pay</td>\n      <td>Mensal</td>\n    </tr>\n    <tr>\n      <th>182</th>\n      <td>4899</td>\n      <td>76080886</td>\n      <td>2017-11-01 01:26:20.758180</td>\n      <td>pay</td>\n      <td>Mensal</td>\n    </tr>\n    <tr>\n      <th>183</th>\n      <td>193</td>\n      <td>49895399</td>\n      <td>2017-11-01 01:31:52.825098</td>\n      <td>pay</td>\n      <td>Mensal</td>\n    </tr>\n    <tr>\n      <th>184</th>\n      <td>3806</td>\n      <td>92307069</td>\n      <td>2017-11-01 01:33:23.206908</td>\n      <td>pay</td>\n      <td>Mensal</td>\n    </tr>\n    <tr>\n      <th>...</th>\n      <td>...</td>\n      <td>...</td>\n      <td>...</td>\n      <td>...</td>\n      <td>...</td>\n    </tr>\n    <tr>\n      <th>6301</th>\n      <td>843</td>\n      <td>22275761</td>\n      <td>2018-06-07 14:44:20.650220</td>\n      <td>cancel</td>\n      <td>cancel</td>\n    </tr>\n    <tr>\n      <th>6302</th>\n      <td>3238</td>\n      <td>1917538</td>\n      <td>2018-06-07 14:54:22.000000</td>\n      <td>pay</td>\n      <td>Anual</td>\n    </tr>\n    <tr>\n      <th>6303</th>\n      <td>4789</td>\n      <td>14959829</td>\n      <td>2018-06-07 19:16:48.000000</td>\n      <td>pay</td>\n      <td>Mensal</td>\n    </tr>\n    <tr>\n      <th>6304</th>\n      <td>2795</td>\n      <td>92778941</td>\n      <td>2018-06-07 21:49:21.000000</td>\n      <td>pay</td>\n      <td>Mensal</td>\n    </tr>\n    <tr>\n      <th>6305</th>\n      <td>1796</td>\n      <td>74043115</td>\n      <td>2018-06-08 03:00:37.000000</td>\n      <td>pay</td>\n      <td>Mensal</td>\n    </tr>\n  </tbody>\n</table>\n<p>6126 rows × 5 columns</p>\n</div>"
     },
     "execution_count": 318,
     "metadata": {},
     "output_type": "execute_result"
    }
   ],
   "source": [
    "df_events = pd.concat([event_cancel, event_payment]).sort_values(by='timestamp').reset_index()\n",
    "df_events\n",
    "gt_november_events = df_events.loc[df_events.timestamp  >= '2017-11-01']\n",
    "gt_november_events"
   ],
   "metadata": {
    "collapsed": false,
    "pycharm": {
     "name": "#%%\n"
    }
   }
  },
  {
   "cell_type": "code",
   "execution_count": 409,
   "outputs": [
    {
     "data": {
      "text/plain": "1"
     },
     "execution_count": 409,
     "metadata": {},
     "output_type": "execute_result"
    }
   ],
   "source": [
    "from datetime import datetime\n",
    "\n",
    "def diff_month(d1, d2):\n",
    "    return (d1.year - d2.year) * 12 + d1.month - d2.month\n",
    "# 2017-11-01\n",
    "# 2017-12-01\n",
    "diff_month( datetime(2017,12,1), datetime(2017,11,1))"
   ],
   "metadata": {
    "collapsed": false,
    "pycharm": {
     "name": "#%%\n"
    }
   }
  },
  {
   "cell_type": "code",
   "execution_count": 491,
   "outputs": [],
   "source": [
    "def retention_time(df: pd.DataFrame, student_id: int)-> int:\n",
    "\n",
    "    result = df.filter(['StudentId', 'timestamp' ,  'event', 'event_type'])\n",
    "    result = result.loc[df.StudentId == student_id].reset_index()\n",
    "    if result.event.values[-1] == 'pay':\n",
    "        result.loc[-1] = [4, student_id, df.timestamp.values[-1],'end','end']\n",
    "\n",
    "    cancel_id = list(result.event[result.event == \"cancel\"].index)\n",
    "    end_id = list(result.event[result.event == \"end\"].index)\n",
    "    duration = 0\n",
    "    chunks = []\n",
    "    dates = result.timestamp\n",
    "    if len(cancel_id) == 0:\n",
    "        chunks.append(result)\n",
    "    elif len(cancel_id) == 1 and  result.shape[0]-1 == cancel_id[0]:\n",
    "\n",
    "        chunks.append(result)\n",
    "    elif len(cancel_id) == 1 and  result.shape[0]-1 != cancel_id[0]:\n",
    "        indice = range(0,cancel_id[0]+1)\n",
    "        indice2 = range(cancel_id[0]+1,result.shape[0])\n",
    "        chunks.append(result.iloc[indice,:])\n",
    "        chunks.append(result.iloc[indice2,:])\n",
    "    elif len(cancel_id) == 2 and len(end_id)==0:\n",
    "        indice = range(0,cancel_id[0]+1)\n",
    "        indice2 = range(cancel_id[0]+1,result.shape[0])\n",
    "        chunks.append(result.iloc[indice,:])\n",
    "        chunks.append(result.iloc[indice2,:])\n",
    "    elif len(cancel_id) == 2 and len(end_id)==1:\n",
    "        indice = range(0,cancel_id[0]+1)\n",
    "        indice2 = range(cancel_id[0]+1,cancel_id[1]+1)\n",
    "        indice3 = range(cancel_id[1]+1,result.shape[0])\n",
    "        chunks.append(result.iloc[indice,:])\n",
    "        chunks.append(result.iloc[indice2,:])\n",
    "        chunks.append(result.iloc[indice3,:])\n",
    "    elif len(cancel_id) == 3 and len(end_id)==0:\n",
    "        indice  = range(0, cancel_id[0]+1)\n",
    "        indice2 = range(cancel_id[0]+1, cancel_id[1]+1)\n",
    "        indice3 = range(cancel_id[1]+1, result.shape[0])\n",
    "        chunks.append(result.iloc[indice,:])\n",
    "        chunks.append(result.iloc[indice2,:])\n",
    "        chunks.append(result.iloc[indice3,:])\n",
    "    else:\n",
    "        print(f'{student_id} - retention time = {duration}')\n",
    "        print(result)\n",
    "\n",
    "    for chunk in chunks:\n",
    "        timestamps = chunk.timestamp\n",
    "        dates_str = timestamps.map(  lambda x :  datetime( int(x.strftime(\"%Y\")),int(x.strftime(\"%m\")),1 ) ).unique()\n",
    "        if len(dates_str) > 1:\n",
    "            duration +=   diff_month( pd.to_datetime(dates_str[-1]) , pd.to_datetime(dates_str[0]))  #result.event_type.value_counts().get('Mensal')\n",
    "\n",
    "    return duration"
   ],
   "metadata": {
    "collapsed": false,
    "pycharm": {
     "name": "#%%\n"
    }
   }
  },
  {
   "cell_type": "code",
   "execution_count": 492,
   "outputs": [],
   "source": [
    "students_ids = gt_november_events.StudentId.unique()\n",
    "retention_time_students = []\n",
    "for id in students_ids:\n",
    "    retention_time_students.append( (id,retention_time(gt_november_events,id) ) )\n",
    "\n",
    "df_retention_time = pd.DataFrame(retention_time_students)\n"
   ],
   "metadata": {
    "collapsed": false,
    "pycharm": {
     "name": "#%%\n"
    }
   }
  },
  {
   "cell_type": "code",
   "execution_count": 533,
   "outputs": [
    {
     "name": "stdout",
     "output_type": "stream",
     "text": [
      "   retention\n",
      "7        600\n",
      "1        371\n",
      "2        287\n",
      "0        197\n",
      "3        156\n",
      "4         75\n",
      "6         59\n",
      "5         28\n",
      "retention_mean = 4 months\n"
     ]
    },
    {
     "name": "stderr",
     "output_type": "stream",
     "text": [
      "/home/ahgora/projetos/pd/venv/lib/python3.7/site-packages/seaborn/_decorators.py:43: FutureWarning: Pass the following variables as keyword args: x, y. From version 0.12, the only valid positional argument will be `data`, and passing other arguments without an explicit keyword will result in an error or misinterpretation.\n",
      "  FutureWarning\n"
     ]
    },
    {
     "data": {
      "text/plain": "<Figure size 720x576 with 1 Axes>",
      "image/png": "[encoded data removed]"
     },
     "metadata": {},
     "output_type": "display_data"
    }
   ],
   "source": [
    "(\n",
    " retention_time(gt_november_events,78337805),\n",
    " retention_time(gt_november_events,78985669),\n",
    " retention_time(gt_november_events,25393906),\n",
    " retention_time(gt_november_events,72888232),\n",
    "retention_time(gt_november_events,40700523),\n",
    "retention_time(gt_november_events,105540),\n",
    "    )\n",
    "df_retention_time.columns = ['id','retention']\n",
    "total = pd.DataFrame(df_retention_time.retention.value_counts())\n",
    "sns.barplot(total.index,total.retention)\n",
    "print(total)\n",
    "\n",
    "gt_1month = df_retention_time.loc[df_retention_time.retention>0]\n",
    "retention_mean = round(gt_1month.retention.mean())\n",
    "print(f'retention_mean = {retention_mean} months')"
   ],
   "metadata": {
    "collapsed": false,
    "pycharm": {
     "name": "#%%\n"
    }
   }
  },
  {
   "cell_type": "markdown",
   "source": [
    "### Questão 2:\n",
    "Em Novembro de 2017 fizemos uma grande mudança no PD: o Content\n",
    "Restriction. Os usuários não Premium passaram a poder consumir no máximo 3 arquivos\n",
    "diferentes por mês. Diante dessa mudança, qual passou a ser o Lifetime Value (LTV) dos\n",
    "usuários Premium a partir de Novembro de 2017?"
   ],
   "metadata": {
    "collapsed": false,
    "pycharm": {
     "name": "#%% md\n"
    }
   }
  },
  {
   "cell_type": "markdown",
   "source": [
    "Considerando o LTV = Valor ticket médio x Tempo de retenção de clientes\n",
    "Ticket médio de `R$ 29,9`  e tempo de retenção de clientes 4 meses temos um LTV de aproximadamente R$ 120,00"
   ],
   "metadata": {
    "collapsed": false,
    "pycharm": {
     "name": "#%% md\n"
    }
   }
  },
  {
   "cell_type": "code",
   "execution_count": 525,
   "outputs": [
    {
     "data": {
      "text/plain": "<IPython.core.display.Markdown object>",
      "text/markdown": "LTV = 119.6"
     },
     "execution_count": 525,
     "metadata": {},
     "output_type": "execute_result"
    }
   ],
   "source": [
    "from IPython.display import Markdown as md\n",
    "ticket = 29.9\n",
    "md(f\"LTV = {ticket * retention_mean}\")"
   ],
   "metadata": {
    "collapsed": false,
    "pycharm": {
     "name": "#%%\n"
    }
   }
  }
 ],
 "metadata": {
  "kernelspec": {
   "display_name": "Python 3",
   "language": "python",
   "name": "python3"
  },
  "language_info": {
   "codemirror_mode": {
    "name": "ipython",
    "version": 2
   },
   "file_extension": ".py",
   "mimetype": "text/x-python",
   "name": "python",
   "nbconvert_exporter": "python",
   "pygments_lexer": "ipython2",
   "version": "2.7.6"
  }
 },
 "nbformat": 4,
 "nbformat_minor": 0
}