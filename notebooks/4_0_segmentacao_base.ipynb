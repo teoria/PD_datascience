{
 "cells": [
  {
   "cell_type": "code",
   "execution_count": 90,
   "outputs": [],
   "source": [
    "import pandas as pd\n",
    "import matplotlib.pyplot as plt\n",
    "import numpy as np\n",
    "import seaborn as sns\n",
    "#%matplotlib inline\n",
    "\n",
    "from IPython.core.pylabtools import figsize\n",
    "figsize(10, 8)\n",
    "sns.set()\n",
    "\n"
   ],
   "metadata": {
    "collapsed": false,
    "pycharm": {
     "name": "#%%\n"
    }
   }
  },
  {
   "cell_type": "code",
   "execution_count": 91,
   "outputs": [
    {
     "name": "stderr",
     "output_type": "stream",
     "text": [
      "/home/ahgora/projetos/pd/venv/lib/python3.7/site-packages/IPython/core/interactiveshell.py:3146: DtypeWarning: Columns (0) have mixed types.Specify dtype option on import or set low_memory=False.\n",
      "  interactivity=interactivity, compiler=compiler, result=result)\n"
     ]
    },
    {
     "name": "stdout",
     "output_type": "stream",
     "text": [
      "*********fileViews***********\n",
      "(3028988, 4)\n",
      "  StudentId                                           FileName  \\\n",
      "0  12970655  Exercicios Resolvidos do Halliday sobre Rotaçã...   \n",
      "1  12970655  Exercicios Resolvidos do Halliday sobre Rotaçã...   \n",
      "2  12970655                                          CALCULO I   \n",
      "3  12970655                                          CALCULO I   \n",
      "4  12970655                                          CALCULO I   \n",
      "\n",
      "                     ViewDate Studentclient  \n",
      "0  2017-02-23 10:46:03.047000       Website  \n",
      "1  2017-02-23 10:46:12.370000       Website  \n",
      "2  2017-05-25 22:39:48.000000       Website  \n",
      "3  2017-05-25 22:40:36.000000       Website  \n",
      "4  2017-05-25 22:43:16.000000       Website  \n",
      "____________\n",
      "\n",
      "\n",
      "*********premium_cancellations***********\n",
      "(844, 2)\n",
      "   StudentId            CancellationDate\n",
      "0   34129668  2016-05-05 19:08:31.937000\n",
      "1   34129668  2016-05-05 22:48:20.830000\n",
      "2   82394932  2016-05-20 22:37:21.117000\n",
      "3   82942835  2016-05-31 13:44:55.307000\n",
      "4   85382416  2016-06-01 14:22:19.467000\n",
      "____________\n",
      "\n",
      "\n",
      "*********premium_payments***********\n",
      "(7276, 3)\n",
      "   StudentId                 PaymentDate PlanType\n",
      "0   12970655  2017-05-26 22:25:03.000000    Anual\n",
      "1   12970655  2018-05-26 10:05:28.000000    Anual\n",
      "2   12970655  2016-07-21 19:57:57.717000   Mensal\n",
      "3   12970655  2016-08-21 08:47:42.947000   Mensal\n",
      "4   12970655  2016-09-21 08:54:06.270000   Mensal\n",
      "____________\n",
      "\n",
      "\n",
      "*********questions***********\n",
      "(3906, 4)\n",
      "   StudentId                QuestionDate  \\\n",
      "0   12970655  2013-09-04 14:09:25.963000   \n",
      "1   12970655  2013-09-04 15:36:51.083000   \n",
      "2   12970655  2013-10-30 19:41:43.137000   \n",
      "3   12970655  2013-10-30 19:19:15.517000   \n",
      "4   12970655  2013-10-30 19:38:06.420000   \n",
      "\n",
      "                                     QuestionSnippet StudentClient  \n",
      "0  O que é mais importante para um projeto: escop...           NaN  \n",
      "1  Você pode ter um negócio/produto bem sucedido ...           NaN  \n",
      "2  Custos com consultoria para planejar um projet...           NaN  \n",
      "3  CAPEX: investimento em consultoria entra como ...           NaN  \n",
      "4  Custos com consultoria para planejar um projet...           NaN  \n",
      "____________\n",
      "\n",
      "\n",
      "*********sessions***********\n",
      "(1399062, 3)\n",
      "   StudentId     SessionStartTime StudentClient\n",
      "0   12970655  2017-02-20 14:51:37       Website\n",
      "1   12970655  2017-02-22 14:04:34       Website\n",
      "2   12970655  2017-02-23 13:46:14       Website\n",
      "3   12970655  2017-02-23 14:52:24       Website\n",
      "4   12970655  2017-03-03 20:47:21       Website\n",
      "____________\n",
      "\n",
      "\n",
      "*********students***********\n",
      "(60000, 8)\n",
      "         Id              RegisteredDate UniversityName  \\\n",
      "0  12970655  2012-05-29 15:22:27.490000        PUC-RIO   \n",
      "1  59873654  2012-09-03 20:32:04.853000            UFF   \n",
      "2   3664695  2012-09-10 20:26:30.253000            UNB   \n",
      "3  15207697  2012-09-05 15:31:08.090000           UERJ   \n",
      "4  36988693  2012-10-15 21:34:51.143000            UFU   \n",
      "\n",
      "                               CourseName             State SignupSource  \\\n",
      "0                           Administração    Rio de Janeiro        Email   \n",
      "1  Direito do Trabalho e Segurança Social    Rio de Janeiro     Facebook   \n",
      "2                              Enfermagem  Distrito Federal     Facebook   \n",
      "3         Engenharia de Produção Mecânica    Rio de Janeiro     Facebook   \n",
      "4                     Engenharia Elétrica               NaN     Facebook   \n",
      "\n",
      "             City StudentClient  \n",
      "0             NaN           NaN  \n",
      "1  Rio de Janeiro           NaN  \n",
      "2             NaN           NaN  \n",
      "3         Resende           NaN  \n",
      "4             NaN           NaN  \n",
      "____________\n",
      "\n",
      "\n",
      "*********subjects***********\n",
      "(315766, 3)\n",
      "   StudentId                             SubjectName  \\\n",
      "0   12970655               Disciplina Integradora II   \n",
      "1   12970655                    Pesquisa Operacional   \n",
      "2   12970655                               Cálculo I   \n",
      "3   12970655              Introdução à Administração   \n",
      "4   12970655  Contabilidade Aplicada à Administração   \n",
      "\n",
      "                   FollowDate  \n",
      "0  2015-09-12 16:00:11.000000  \n",
      "1  2015-09-12 16:00:11.000000  \n",
      "2  2016-06-07 17:07:35.000000  \n",
      "3  2015-09-12 16:00:11.000000  \n",
      "4  2015-09-12 16:00:11.000000  \n",
      "____________\n",
      "\n",
      "\n"
     ]
    }
   ],
   "source": [
    "files = ['fileViews',\n",
    "         'premium_cancellations',\n",
    "         'premium_payments',\n",
    "         'questions',\n",
    "         'sessions',\n",
    "         'students',\n",
    "         'subjects'\n",
    "         ]\n",
    "\n",
    "datasets = {}\n",
    "for file in files:\n",
    "    datasets[file] = pd.read_csv(f\"../data/processed/{file}.csv\")#,parse_dates=[1,2],index_col=[0])\n",
    "    print(f'*********{file}***********')\n",
    "    print(datasets[file].shape)\n",
    "    print(datasets[file].head())\n",
    "    print(\"____________\\n\\n\")"
   ],
   "metadata": {
    "collapsed": false,
    "pycharm": {
     "name": "#%%\n"
    }
   }
  },
  {
   "cell_type": "markdown",
   "source": [
    "---\n",
    "## Explorando a base de usuários"
   ],
   "metadata": {
    "collapsed": false
   }
  },
  {
   "cell_type": "code",
   "execution_count": 92,
   "outputs": [
    {
     "data": {
      "text/plain": "(60000, 8)"
     },
     "execution_count": 92,
     "metadata": {},
     "output_type": "execute_result"
    }
   ],
   "source": [
    "students = datasets['students']\n",
    "students.shape"
   ],
   "metadata": {
    "collapsed": false,
    "pycharm": {
     "name": "#%%\n"
    }
   }
  },
  {
   "cell_type": "code",
   "execution_count": 93,
   "outputs": [
    {
     "data": {
      "text/plain": "         Id              RegisteredDate UniversityName  \\\n0  12970655  2012-05-29 15:22:27.490000        PUC-RIO   \n1  59873654  2012-09-03 20:32:04.853000            UFF   \n\n                               CourseName           State SignupSource  \\\n0                           Administração  Rio de Janeiro        Email   \n1  Direito do Trabalho e Segurança Social  Rio de Janeiro     Facebook   \n\n             City StudentClient  \n0             NaN           NaN  \n1  Rio de Janeiro           NaN  ",
      "text/html": "<div>\n<style scoped>\n    .dataframe tbody tr th:only-of-type {\n        vertical-align: middle;\n    }\n\n    .dataframe tbody tr th {\n        vertical-align: top;\n    }\n\n    .dataframe thead th {\n        text-align: right;\n    }\n</style>\n<table border=\"1\" class=\"dataframe\">\n  <thead>\n    <tr style=\"text-align: right;\">\n      <th></th>\n      <th>Id</th>\n      <th>RegisteredDate</th>\n      <th>UniversityName</th>\n      <th>CourseName</th>\n      <th>State</th>\n      <th>SignupSource</th>\n      <th>City</th>\n      <th>StudentClient</th>\n    </tr>\n  </thead>\n  <tbody>\n    <tr>\n      <th>0</th>\n      <td>12970655</td>\n      <td>2012-05-29 15:22:27.490000</td>\n      <td>PUC-RIO</td>\n      <td>Administração</td>\n      <td>Rio de Janeiro</td>\n      <td>Email</td>\n      <td>NaN</td>\n      <td>NaN</td>\n    </tr>\n    <tr>\n      <th>1</th>\n      <td>59873654</td>\n      <td>2012-09-03 20:32:04.853000</td>\n      <td>UFF</td>\n      <td>Direito do Trabalho e Segurança Social</td>\n      <td>Rio de Janeiro</td>\n      <td>Facebook</td>\n      <td>Rio de Janeiro</td>\n      <td>NaN</td>\n    </tr>\n  </tbody>\n</table>\n</div>"
     },
     "execution_count": 93,
     "metadata": {},
     "output_type": "execute_result"
    }
   ],
   "source": [
    "students.head(2)"
   ],
   "metadata": {
    "collapsed": false,
    "pycharm": {
     "name": "#%%\n"
    }
   }
  },
  {
   "cell_type": "code",
   "execution_count": 94,
   "outputs": [
    {
     "data": {
      "text/plain": "Index(['ESTÁCIO', 'UNIP', 'UNOPAR', 'UNINTER', 'ESTÁCIO EAD',\n       'UNIDERP - ANHANGUERA', 'Anhanguera', 'USP-SP', 'PITÁGORAS', 'UFRJ'],\n      dtype='object')"
     },
     "execution_count": 94,
     "metadata": {},
     "output_type": "execute_result"
    },
    {
     "data": {
      "text/plain": "<Figure size 720x1080 with 1 Axes>",
      "image/png": "[encoded data removed]"
     },
     "metadata": {},
     "output_type": "display_data"
    }
   ],
   "source": [
    "figsize(10, 15)\n",
    "students.UniversityName.value_counts().nlargest(50).plot.barh()\n",
    "top_10 = students.UniversityName.value_counts().nlargest(10).index\n",
    "top_10"
   ],
   "metadata": {
    "collapsed": false,
    "pycharm": {
     "name": "#%%\n"
    }
   }
  },
  {
   "cell_type": "code",
   "execution_count": 95,
   "outputs": [
    {
     "data": {
      "text/plain": "count              24239\nunique                27\ntop       Rio de Janeiro\nfreq                5201\nName: State, dtype: object"
     },
     "execution_count": 95,
     "metadata": {},
     "output_type": "execute_result"
    }
   ],
   "source": [
    "students.State.describe()"
   ],
   "metadata": {
    "collapsed": false,
    "pycharm": {
     "name": "#%%\n"
    }
   }
  },
  {
   "cell_type": "code",
   "execution_count": 96,
   "outputs": [
    {
     "data": {
      "text/plain": "NA                     35761\nRio de Janeiro          5201\nSão Paulo               3873\nMinas Gerais            2363\nParaná                  1395\nBahia                   1314\nCeara                   1194\nRio Grande do Sul       1110\nPernambuco               896\nSanta Catarina           853\nGoias                    728\nPará                     561\nEspirito Santo           560\nMaranhão                 485\nSergipe                  445\nMato Grosso do Sul       438\nRio Grande do Norte      367\nAmazonas                 357\nParaíba                  352\nDistrito Federal         348\nAlagoas                  313\nMato Grosso              294\nPiauí                    270\nTocantins                156\nAmapa                    148\nRondonia                 118\nAcre                      50\nRoraima                   50\nName: State, dtype: int64"
     },
     "execution_count": 96,
     "metadata": {},
     "output_type": "execute_result"
    }
   ],
   "source": [
    "students.State.fillna(\"NA\").value_counts()"
   ],
   "metadata": {
    "collapsed": false,
    "pycharm": {
     "name": "#%%\n"
    }
   }
  },
  {
   "cell_type": "code",
   "execution_count": 97,
   "outputs": [
    {
     "data": {
      "text/plain": "             Id              RegisteredDate UniversityName  \\\n4      36988693  2012-10-15 21:34:51.143000            UFU   \n8       9448057  2012-12-03 19:55:03.750000         UFSCAR   \n10     90436208  2012-12-03 19:54:25.703000          UTFPR   \n18     17591347  2012-11-13 19:55:27.797000          UNESP   \n23     78654666  2012-09-26 02:29:32.973000           UFMS   \n...         ...                         ...            ...   \n59995  54115498  2017-11-30 23:47:51.722922           UNIP   \n59996  38908858  2017-11-30 21:48:58.905591          IFNMG   \n59997  85504547  2017-11-30 21:50:35.999806           FIAR   \n59998  27219342  2017-11-30 21:53:45.939686            UBC   \n59999  69759595  2017-11-30 21:54:58.193000         UNOPAR   \n\n                           CourseName State SignupSource City  \\\n4                 Engenharia Elétrica   NaN     Facebook  NaN   \n8                       Biotecnologia   NaN     Facebook  NaN   \n10      Engenharia Civil e Ambiental    NaN     Facebook  NaN   \n18                Engenharia Elétrica   NaN     Facebook  NaN   \n23                           Medicina   NaN     Facebook  NaN   \n...                               ...   ...          ...  ...   \n59995                      Matemática   NaN     Facebook  NaN   \n59996  Biologia / Ciências Biológicas   NaN       Google  NaN   \n59997                 Educação Física   NaN       Google  NaN   \n59998         Arquitetura e Urbanismo   NaN       Google  NaN   \n59999      Gestão de Recursos Humanos   NaN       Google  NaN   \n\n                  StudentClient  \n4                           NaN  \n8                           NaN  \n10                          NaN  \n18                          NaN  \n23                          NaN  \n...                         ...  \n59995  Android | 6.0.1 | sdk 23  \n59996                   Website  \n59997  Android | 5.0.2 | sdk 21  \n59998                    Webapp  \n59999  Android | 6.0.1 | sdk 23  \n\n[35761 rows x 8 columns]",
      "text/html": "<div>\n<style scoped>\n    .dataframe tbody tr th:only-of-type {\n        vertical-align: middle;\n    }\n\n    .dataframe tbody tr th {\n        vertical-align: top;\n    }\n\n    .dataframe thead th {\n        text-align: right;\n    }\n</style>\n<table border=\"1\" class=\"dataframe\">\n  <thead>\n    <tr style=\"text-align: right;\">\n      <th></th>\n      <th>Id</th>\n      <th>RegisteredDate</th>\n      <th>UniversityName</th>\n      <th>CourseName</th>\n      <th>State</th>\n      <th>SignupSource</th>\n      <th>City</th>\n      <th>StudentClient</th>\n    </tr>\n  </thead>\n  <tbody>\n    <tr>\n      <th>4</th>\n      <td>36988693</td>\n      <td>2012-10-15 21:34:51.143000</td>\n      <td>UFU</td>\n      <td>Engenharia Elétrica</td>\n      <td>NaN</td>\n      <td>Facebook</td>\n      <td>NaN</td>\n      <td>NaN</td>\n    </tr>\n    <tr>\n      <th>8</th>\n      <td>9448057</td>\n      <td>2012-12-03 19:55:03.750000</td>\n      <td>UFSCAR</td>\n      <td>Biotecnologia</td>\n      <td>NaN</td>\n      <td>Facebook</td>\n      <td>NaN</td>\n      <td>NaN</td>\n    </tr>\n    <tr>\n      <th>10</th>\n      <td>90436208</td>\n      <td>2012-12-03 19:54:25.703000</td>\n      <td>UTFPR</td>\n      <td>Engenharia Civil e Ambiental</td>\n      <td>NaN</td>\n      <td>Facebook</td>\n      <td>NaN</td>\n      <td>NaN</td>\n    </tr>\n    <tr>\n      <th>18</th>\n      <td>17591347</td>\n      <td>2012-11-13 19:55:27.797000</td>\n      <td>UNESP</td>\n      <td>Engenharia Elétrica</td>\n      <td>NaN</td>\n      <td>Facebook</td>\n      <td>NaN</td>\n      <td>NaN</td>\n    </tr>\n    <tr>\n      <th>23</th>\n      <td>78654666</td>\n      <td>2012-09-26 02:29:32.973000</td>\n      <td>UFMS</td>\n      <td>Medicina</td>\n      <td>NaN</td>\n      <td>Facebook</td>\n      <td>NaN</td>\n      <td>NaN</td>\n    </tr>\n    <tr>\n      <th>...</th>\n      <td>...</td>\n      <td>...</td>\n      <td>...</td>\n      <td>...</td>\n      <td>...</td>\n      <td>...</td>\n      <td>...</td>\n      <td>...</td>\n    </tr>\n    <tr>\n      <th>59995</th>\n      <td>54115498</td>\n      <td>2017-11-30 23:47:51.722922</td>\n      <td>UNIP</td>\n      <td>Matemática</td>\n      <td>NaN</td>\n      <td>Facebook</td>\n      <td>NaN</td>\n      <td>Android | 6.0.1 | sdk 23</td>\n    </tr>\n    <tr>\n      <th>59996</th>\n      <td>38908858</td>\n      <td>2017-11-30 21:48:58.905591</td>\n      <td>IFNMG</td>\n      <td>Biologia / Ciências Biológicas</td>\n      <td>NaN</td>\n      <td>Google</td>\n      <td>NaN</td>\n      <td>Website</td>\n    </tr>\n    <tr>\n      <th>59997</th>\n      <td>85504547</td>\n      <td>2017-11-30 21:50:35.999806</td>\n      <td>FIAR</td>\n      <td>Educação Física</td>\n      <td>NaN</td>\n      <td>Google</td>\n      <td>NaN</td>\n      <td>Android | 5.0.2 | sdk 21</td>\n    </tr>\n    <tr>\n      <th>59998</th>\n      <td>27219342</td>\n      <td>2017-11-30 21:53:45.939686</td>\n      <td>UBC</td>\n      <td>Arquitetura e Urbanismo</td>\n      <td>NaN</td>\n      <td>Google</td>\n      <td>NaN</td>\n      <td>Webapp</td>\n    </tr>\n    <tr>\n      <th>59999</th>\n      <td>69759595</td>\n      <td>2017-11-30 21:54:58.193000</td>\n      <td>UNOPAR</td>\n      <td>Gestão de Recursos Humanos</td>\n      <td>NaN</td>\n      <td>Google</td>\n      <td>NaN</td>\n      <td>Android | 6.0.1 | sdk 23</td>\n    </tr>\n  </tbody>\n</table>\n<p>35761 rows × 8 columns</p>\n</div>"
     },
     "execution_count": 97,
     "metadata": {},
     "output_type": "execute_result"
    }
   ],
   "source": [
    "students.loc[students.State.isna()]"
   ],
   "metadata": {
    "collapsed": false,
    "pycharm": {
     "name": "#%%\n"
    }
   }
  },
  {
   "cell_type": "code",
   "execution_count": 98,
   "outputs": [
    {
     "data": {
      "text/plain": "Direito                               9862\nAdministração                         4099\nEngenharia Civil                      3585\nContabilidade / Ciências Contábeis    2744\nPedagogia                             2627\nPsicologia                            2155\nEnfermagem                            2054\nMedicina                              1656\nFisioterapia                          1464\nEngenharia Mecânica                   1451\nNutrição                              1297\nFarmácia / Ciências Farmacêuticas     1142\nEducação Física                       1076\nEngenharia de Produção                1053\nOdontologia                            985\nEngenharia Elétrica                    957\nVeterinária / Medicina Veterinária     890\nBiologia / Ciências Biológicas         753\nArquitetura e Urbanismo                724\nGestão de Recursos Humanos             645\nName: CourseName, dtype: int64"
     },
     "execution_count": 98,
     "metadata": {},
     "output_type": "execute_result"
    }
   ],
   "source": [
    "students.CourseName.value_counts().nlargest(20)"
   ],
   "metadata": {
    "collapsed": false,
    "pycharm": {
     "name": "#%%\n"
    }
   }
  },
  {
   "cell_type": "code",
   "execution_count": 99,
   "outputs": [
    {
     "data": {
      "text/plain": "FATEBE      1\nFGN         1\nFNSL        1\nFEC-FAAP    1\nITEP        1\n           ..\nFECEA       1\nIETEC       1\nUNICE       1\nESP         1\nSEC         1\nName: UniversityName, Length: 100, dtype: int64"
     },
     "execution_count": 99,
     "metadata": {},
     "output_type": "execute_result"
    }
   ],
   "source": [
    "students.UniversityName.value_counts().nsmallest(100)"
   ],
   "metadata": {
    "collapsed": false,
    "pycharm": {
     "name": "#%%\n"
    }
   }
  },
  {
   "cell_type": "code",
   "execution_count": 100,
   "outputs": [
    {
     "data": {
      "text/plain": "Direito                                  3103\nAdministração                            2374\nPedagogia                                1788\nContabilidade / Ciências Contábeis       1626\nEngenharia Civil                         1103\nPsicologia                                883\nEnfermagem                                864\nEducação Física                           554\nFisioterapia                              519\nNutrição                                  476\nGestão de Recursos Humanos                472\nEngenharia Mecânica                       454\nAnálise e Desenvolvimento de Sistemas     366\nServiço Social                            354\nEngenharia de Produção                    345\nFarmácia / Ciências Farmacêuticas         273\nEngenharia Elétrica                       245\nArquitetura e Urbanismo                   233\nMedicina                                  187\nLogística                                 186\nName: CourseName, dtype: int64"
     },
     "execution_count": 100,
     "metadata": {},
     "output_type": "execute_result"
    }
   ],
   "source": [
    "top_10_university_students = students.loc[students.UniversityName.isin(top_10)]\n",
    "top_10_university_students.CourseName.value_counts().nlargest(20)"
   ],
   "metadata": {
    "collapsed": false,
    "pycharm": {
     "name": "#%%\n"
    }
   }
  },
  {
   "cell_type": "code",
   "execution_count": 101,
   "outputs": [
    {
     "data": {
      "text/plain": "<AxesSubplot:>"
     },
     "execution_count": 101,
     "metadata": {},
     "output_type": "execute_result"
    },
    {
     "data": {
      "text/plain": "<Figure size 720x1080 with 1 Axes>",
      "image/png": "[encoded data removed]"
     },
     "metadata": {},
     "output_type": "display_data"
    }
   ],
   "source": [
    "top_10_university_students.State.value_counts().nlargest(10)\n",
    "top_10_university_students.State.value_counts().plot.barh()"
   ],
   "metadata": {
    "collapsed": false,
    "pycharm": {
     "name": "#%%\n"
    }
   }
  },
  {
   "cell_type": "code",
   "execution_count": 102,
   "outputs": [],
   "source": [
    "other_universities = ( students.UniversityName.isin(top_10))==False\n",
    "direito = students.CourseName == 'Direito'"
   ],
   "metadata": {
    "collapsed": false,
    "pycharm": {
     "name": "#%%\n"
    }
   }
  },
  {
   "cell_type": "code",
   "execution_count": 103,
   "outputs": [
    {
     "data": {
      "text/plain": "Index(['Rio de Janeiro', 'São Paulo', 'Ceara', 'Minas Gerais', 'Pernambuco'], dtype='object')"
     },
     "execution_count": 103,
     "metadata": {},
     "output_type": "execute_result"
    }
   ],
   "source": [
    "direito_top_cities = students.loc[( students.UniversityName.isin(top_10)) & direito ].State.value_counts()\n",
    "direito_top_cities\n",
    "direito_top_cities.nlargest(5).index\n"
   ],
   "metadata": {
    "collapsed": false,
    "pycharm": {
     "name": "#%%\n"
    }
   }
  },
  {
   "cell_type": "code",
   "execution_count": 104,
   "outputs": [
    {
     "data": {
      "text/plain": "MACKENZIE    55\nPUC-MINAS    39\nFMU          27\nUCAM         27\nUNINOVE      19\nPUC-SP       18\nUNICAP       17\nUNIVERSO     15\nUERJ         13\nUNIFOR       13\nName: UniversityName, dtype: int64"
     },
     "execution_count": 104,
     "metadata": {},
     "output_type": "execute_result"
    }
   ],
   "source": [
    "on_states = ( students.State.isin(direito_top_cities.nlargest(5).index))\n",
    "other_universities_states = students.loc[other_universities & direito & on_states]\n",
    "other_universities_states.UniversityName.value_counts().nlargest(10)"
   ],
   "metadata": {
    "collapsed": false,
    "pycharm": {
     "name": "#%%\n"
    }
   }
  },
  {
   "cell_type": "markdown",
   "source": [
    "Explorando Sessions"
   ],
   "metadata": {
    "collapsed": false
   }
  },
  {
   "cell_type": "code",
   "execution_count": 105,
   "outputs": [
    {
     "data": {
      "text/plain": "   StudentId     SessionStartTime StudentClient\n0   12970655  2017-02-20 14:51:37       Website\n1   12970655  2017-02-22 14:04:34       Website\n2   12970655  2017-02-23 13:46:14       Website",
      "text/html": "<div>\n<style scoped>\n    .dataframe tbody tr th:only-of-type {\n        vertical-align: middle;\n    }\n\n    .dataframe tbody tr th {\n        vertical-align: top;\n    }\n\n    .dataframe thead th {\n        text-align: right;\n    }\n</style>\n<table border=\"1\" class=\"dataframe\">\n  <thead>\n    <tr style=\"text-align: right;\">\n      <th></th>\n      <th>StudentId</th>\n      <th>SessionStartTime</th>\n      <th>StudentClient</th>\n    </tr>\n  </thead>\n  <tbody>\n    <tr>\n      <th>0</th>\n      <td>12970655</td>\n      <td>2017-02-20 14:51:37</td>\n      <td>Website</td>\n    </tr>\n    <tr>\n      <th>1</th>\n      <td>12970655</td>\n      <td>2017-02-22 14:04:34</td>\n      <td>Website</td>\n    </tr>\n    <tr>\n      <th>2</th>\n      <td>12970655</td>\n      <td>2017-02-23 13:46:14</td>\n      <td>Website</td>\n    </tr>\n  </tbody>\n</table>\n</div>"
     },
     "execution_count": 105,
     "metadata": {},
     "output_type": "execute_result"
    }
   ],
   "source": [
    "sessions = datasets['sessions']\n",
    "sessions.head(3)"
   ],
   "metadata": {
    "collapsed": false,
    "pycharm": {
     "name": "#%%\n"
    }
   }
  },
  {
   "cell_type": "code",
   "execution_count": 106,
   "outputs": [
    {
     "data": {
      "text/plain": "8634223     2543\n9187725     1766\n97540741    1031\n56029708     923\n62447266     911\n            ... \n22691835       1\n6650455        1\n65801934       1\n71864397       1\n65199255       1\nName: StudentId, Length: 60000, dtype: int64"
     },
     "execution_count": 106,
     "metadata": {},
     "output_type": "execute_result"
    }
   ],
   "source": [
    "sessions.StudentId.value_counts()"
   ],
   "metadata": {
    "collapsed": false,
    "pycharm": {
     "name": "#%%\n"
    }
   }
  },
  {
   "cell_type": "code",
   "execution_count": 107,
   "outputs": [
    {
     "data": {
      "text/plain": "'2018-06-08 05:01:51'"
     },
     "execution_count": 107,
     "metadata": {},
     "output_type": "execute_result"
    }
   ],
   "source": [
    "sessions.SessionStartTime.max()"
   ],
   "metadata": {
    "collapsed": false,
    "pycharm": {
     "name": "#%%\n"
    }
   }
  },
  {
   "cell_type": "code",
   "execution_count": 108,
   "outputs": [
    {
     "data": {
      "text/plain": "       StudentId  SessionStartTime  StudentClient\n0           2774                 2              2\n1           3287                 2              2\n2           3546                41             41\n3           7251                 9              9\n4           7338                26             26\n...          ...               ...            ...\n59995   99985766                41             41\n59996   99987011                 3              3\n59997   99990926                 5              5\n59998   99995568                79             79\n59999   99998723                26             26\n\n[60000 rows x 3 columns]",
      "text/html": "<div>\n<style scoped>\n    .dataframe tbody tr th:only-of-type {\n        vertical-align: middle;\n    }\n\n    .dataframe tbody tr th {\n        vertical-align: top;\n    }\n\n    .dataframe thead th {\n        text-align: right;\n    }\n</style>\n<table border=\"1\" class=\"dataframe\">\n  <thead>\n    <tr style=\"text-align: right;\">\n      <th></th>\n      <th>StudentId</th>\n      <th>SessionStartTime</th>\n      <th>StudentClient</th>\n    </tr>\n  </thead>\n  <tbody>\n    <tr>\n      <th>0</th>\n      <td>2774</td>\n      <td>2</td>\n      <td>2</td>\n    </tr>\n    <tr>\n      <th>1</th>\n      <td>3287</td>\n      <td>2</td>\n      <td>2</td>\n    </tr>\n    <tr>\n      <th>2</th>\n      <td>3546</td>\n      <td>41</td>\n      <td>41</td>\n    </tr>\n    <tr>\n      <th>3</th>\n      <td>7251</td>\n      <td>9</td>\n      <td>9</td>\n    </tr>\n    <tr>\n      <th>4</th>\n      <td>7338</td>\n      <td>26</td>\n      <td>26</td>\n    </tr>\n    <tr>\n      <th>...</th>\n      <td>...</td>\n      <td>...</td>\n      <td>...</td>\n    </tr>\n    <tr>\n      <th>59995</th>\n      <td>99985766</td>\n      <td>41</td>\n      <td>41</td>\n    </tr>\n    <tr>\n      <th>59996</th>\n      <td>99987011</td>\n      <td>3</td>\n      <td>3</td>\n    </tr>\n    <tr>\n      <th>59997</th>\n      <td>99990926</td>\n      <td>5</td>\n      <td>5</td>\n    </tr>\n    <tr>\n      <th>59998</th>\n      <td>99995568</td>\n      <td>79</td>\n      <td>79</td>\n    </tr>\n    <tr>\n      <th>59999</th>\n      <td>99998723</td>\n      <td>26</td>\n      <td>26</td>\n    </tr>\n  </tbody>\n</table>\n<p>60000 rows × 3 columns</p>\n</div>"
     },
     "execution_count": 108,
     "metadata": {},
     "output_type": "execute_result"
    }
   ],
   "source": [
    "sessions.groupby(['StudentId']).count().reset_index()"
   ],
   "metadata": {
    "collapsed": false,
    "pycharm": {
     "name": "#%%\n"
    }
   }
  },
  {
   "cell_type": "code",
   "execution_count": 108,
   "outputs": [],
   "source": [],
   "metadata": {
    "collapsed": false,
    "pycharm": {
     "name": "#%%\n"
    }
   }
  },
  {
   "cell_type": "code",
   "execution_count": 109,
   "outputs": [
    {
     "data": {
      "text/plain": "  week_year StudentId week_year\n                          count\n0   2017-06      3546         1\n1   2017-06     57116         1\n2   2017-06     68592         1\n3   2017-06     82116         1\n4   2017-06    186567         3",
      "text/html": "<div>\n<style scoped>\n    .dataframe tbody tr th:only-of-type {\n        vertical-align: middle;\n    }\n\n    .dataframe tbody tr th {\n        vertical-align: top;\n    }\n\n    .dataframe thead tr th {\n        text-align: left;\n    }\n</style>\n<table border=\"1\" class=\"dataframe\">\n  <thead>\n    <tr>\n      <th></th>\n      <th>week_year</th>\n      <th>StudentId</th>\n      <th>week_year</th>\n    </tr>\n    <tr>\n      <th></th>\n      <th></th>\n      <th></th>\n      <th>count</th>\n    </tr>\n  </thead>\n  <tbody>\n    <tr>\n      <th>0</th>\n      <td>2017-06</td>\n      <td>3546</td>\n      <td>1</td>\n    </tr>\n    <tr>\n      <th>1</th>\n      <td>2017-06</td>\n      <td>57116</td>\n      <td>1</td>\n    </tr>\n    <tr>\n      <th>2</th>\n      <td>2017-06</td>\n      <td>68592</td>\n      <td>1</td>\n    </tr>\n    <tr>\n      <th>3</th>\n      <td>2017-06</td>\n      <td>82116</td>\n      <td>1</td>\n    </tr>\n    <tr>\n      <th>4</th>\n      <td>2017-06</td>\n      <td>186567</td>\n      <td>3</td>\n    </tr>\n  </tbody>\n</table>\n</div>"
     },
     "execution_count": 109,
     "metadata": {},
     "output_type": "execute_result"
    }
   ],
   "source": [
    "sessions['week_year'] = pd.to_datetime(sessions.SessionStartTime).map(lambda x:  x.strftime(\"%Y-%V\") )\n",
    "session_agg = sessions.groupby([ 'week_year','StudentId']).agg({ 'week_year':['count'] }).reset_index()\n",
    "session_agg.head(5)"
   ],
   "metadata": {
    "collapsed": false,
    "pycharm": {
     "name": "#%%\n"
    }
   }
  },
  {
   "cell_type": "code",
   "execution_count": 110,
   "outputs": [
    {
     "data": {
      "text/plain": "       week_year StudentId week_year\n                               count\n4        2017-06    186567         3\n1193     2017-07    186567         1\n39347    2017-16    186567         4\n45488    2017-17    186567         3\n51655    2017-18    186567         6\n162849   2017-35    186567         1\n171941   2017-36    186567         4\n191656   2017-38    186567         1\n204326   2017-39    186567         1\n218210   2017-40    186567         1\n232164   2017-41    186567         2\n285656   2017-45    186567         3\n308823   2017-46    186567         4\n334242   2017-47    186567         1\n358035   2017-48    186567         3\n377154   2017-49    186567         2\n388452   2017-50    186567         3\n408592   2018-04    186567         1\n411182   2018-05    186567         5\n429250   2018-10    186567         4\n434876   2018-11    186567         2\n441500   2018-12    186567         1\n455308   2018-14    186567         3\n463802   2018-15    186567         2\n473175   2018-16    186567         3\n481981   2018-17    186567         1\n499624   2018-19    186567         2\n508207   2018-20    186567         4",
      "text/html": "<div>\n<style scoped>\n    .dataframe tbody tr th:only-of-type {\n        vertical-align: middle;\n    }\n\n    .dataframe tbody tr th {\n        vertical-align: top;\n    }\n\n    .dataframe thead tr th {\n        text-align: left;\n    }\n</style>\n<table border=\"1\" class=\"dataframe\">\n  <thead>\n    <tr>\n      <th></th>\n      <th>week_year</th>\n      <th>StudentId</th>\n      <th>week_year</th>\n    </tr>\n    <tr>\n      <th></th>\n      <th></th>\n      <th></th>\n      <th>count</th>\n    </tr>\n  </thead>\n  <tbody>\n    <tr>\n      <th>4</th>\n      <td>2017-06</td>\n      <td>186567</td>\n      <td>3</td>\n    </tr>\n    <tr>\n      <th>1193</th>\n      <td>2017-07</td>\n      <td>186567</td>\n      <td>1</td>\n    </tr>\n    <tr>\n      <th>39347</th>\n      <td>2017-16</td>\n      <td>186567</td>\n      <td>4</td>\n    </tr>\n    <tr>\n      <th>45488</th>\n      <td>2017-17</td>\n      <td>186567</td>\n      <td>3</td>\n    </tr>\n    <tr>\n      <th>51655</th>\n      <td>2017-18</td>\n      <td>186567</td>\n      <td>6</td>\n    </tr>\n    <tr>\n      <th>162849</th>\n      <td>2017-35</td>\n      <td>186567</td>\n      <td>1</td>\n    </tr>\n    <tr>\n      <th>171941</th>\n      <td>2017-36</td>\n      <td>186567</td>\n      <td>4</td>\n    </tr>\n    <tr>\n      <th>191656</th>\n      <td>2017-38</td>\n      <td>186567</td>\n      <td>1</td>\n    </tr>\n    <tr>\n      <th>204326</th>\n      <td>2017-39</td>\n      <td>186567</td>\n      <td>1</td>\n    </tr>\n    <tr>\n      <th>218210</th>\n      <td>2017-40</td>\n      <td>186567</td>\n      <td>1</td>\n    </tr>\n    <tr>\n      <th>232164</th>\n      <td>2017-41</td>\n      <td>186567</td>\n      <td>2</td>\n    </tr>\n    <tr>\n      <th>285656</th>\n      <td>2017-45</td>\n      <td>186567</td>\n      <td>3</td>\n    </tr>\n    <tr>\n      <th>308823</th>\n      <td>2017-46</td>\n      <td>186567</td>\n      <td>4</td>\n    </tr>\n    <tr>\n      <th>334242</th>\n      <td>2017-47</td>\n      <td>186567</td>\n      <td>1</td>\n    </tr>\n    <tr>\n      <th>358035</th>\n      <td>2017-48</td>\n      <td>186567</td>\n      <td>3</td>\n    </tr>\n    <tr>\n      <th>377154</th>\n      <td>2017-49</td>\n      <td>186567</td>\n      <td>2</td>\n    </tr>\n    <tr>\n      <th>388452</th>\n      <td>2017-50</td>\n      <td>186567</td>\n      <td>3</td>\n    </tr>\n    <tr>\n      <th>408592</th>\n      <td>2018-04</td>\n      <td>186567</td>\n      <td>1</td>\n    </tr>\n    <tr>\n      <th>411182</th>\n      <td>2018-05</td>\n      <td>186567</td>\n      <td>5</td>\n    </tr>\n    <tr>\n      <th>429250</th>\n      <td>2018-10</td>\n      <td>186567</td>\n      <td>4</td>\n    </tr>\n    <tr>\n      <th>434876</th>\n      <td>2018-11</td>\n      <td>186567</td>\n      <td>2</td>\n    </tr>\n    <tr>\n      <th>441500</th>\n      <td>2018-12</td>\n      <td>186567</td>\n      <td>1</td>\n    </tr>\n    <tr>\n      <th>455308</th>\n      <td>2018-14</td>\n      <td>186567</td>\n      <td>3</td>\n    </tr>\n    <tr>\n      <th>463802</th>\n      <td>2018-15</td>\n      <td>186567</td>\n      <td>2</td>\n    </tr>\n    <tr>\n      <th>473175</th>\n      <td>2018-16</td>\n      <td>186567</td>\n      <td>3</td>\n    </tr>\n    <tr>\n      <th>481981</th>\n      <td>2018-17</td>\n      <td>186567</td>\n      <td>1</td>\n    </tr>\n    <tr>\n      <th>499624</th>\n      <td>2018-19</td>\n      <td>186567</td>\n      <td>2</td>\n    </tr>\n    <tr>\n      <th>508207</th>\n      <td>2018-20</td>\n      <td>186567</td>\n      <td>4</td>\n    </tr>\n  </tbody>\n</table>\n</div>"
     },
     "execution_count": 110,
     "metadata": {},
     "output_type": "execute_result"
    }
   ],
   "source": [
    "session_agg.loc[session_agg.StudentId == 186567]"
   ],
   "metadata": {
    "collapsed": false,
    "pycharm": {
     "name": "#%%\n"
    }
   }
  },
  {
   "cell_type": "code",
   "execution_count": 111,
   "outputs": [
    {
     "data": {
      "text/plain": "array([28.        ,  2.53571429])"
     },
     "execution_count": 111,
     "metadata": {},
     "output_type": "execute_result"
    }
   ],
   "source": [
    "session_agg.loc[session_agg.StudentId == 186567].week_year.agg(['count','mean'])['count'].values"
   ],
   "metadata": {
    "collapsed": false,
    "pycharm": {
     "name": "#%%\n"
    }
   }
  },
  {
   "cell_type": "code",
   "execution_count": 112,
   "outputs": [
    {
     "data": {
      "text/plain": "Rio de Janeiro         16\nSão Paulo               8\nMinas Gerais            7\nMaranhão                5\nPernambuco              5\nBahia                   4\nRio Grande do Sul       4\nSanta Catarina          3\nParaná                  3\nCeara                   3\nPará                    2\nMato Grosso             1\nAmapa                   1\nMato Grosso do Sul      1\nTocantins               1\nEspirito Santo          1\nAcre                    1\nAlagoas                 1\nRio Grande do Norte     1\nGoias                   1\nName: State, dtype: int64"
     },
     "execution_count": 112,
     "metadata": {},
     "output_type": "execute_result"
    }
   ],
   "source": [
    "hard_users = sessions.StudentId.value_counts().nlargest(100).index\n",
    "df_hard_users = students.loc[students.Id.isin(hard_users)]\n",
    "df_hard_users.State.value_counts()"
   ],
   "metadata": {
    "collapsed": false,
    "pycharm": {
     "name": "#%%\n"
    }
   }
  },
  {
   "cell_type": "code",
   "execution_count": 113,
   "outputs": [
    {
     "data": {
      "text/plain": "4048029     14\n1231617     14\n47377640    11\n57187584    10\n97540741    10\n90291210     8\n16243450     8\n41517872     7\n47909440     7\n53376413     7\n23210941     6\n18922795     6\n9187725      4\n67137921     4\n54223446     3\n77771136     3\n63831634     3\n17846067     2\n59876188     2\n28031781     2\n22321964     2\n16143842     2\n83943458     1\n38708690     1\n62038073     1\n96114712     1\n62447266     1\n66896685     1\n41050425     1\n40070134     1\n89787486     1\n1953637      1\n56109164     1\n72481573     1\n48638129     1\n75731013     1\nName: StudentId, dtype: int64"
     },
     "execution_count": 113,
     "metadata": {},
     "output_type": "execute_result"
    }
   ],
   "source": [
    "payments = datasets['premium_payments']\n",
    "payments.loc[payments.StudentId.isin(hard_users)].StudentId.value_counts()"
   ],
   "metadata": {
    "collapsed": false,
    "pycharm": {
     "name": "#%%\n"
    }
   }
  },
  {
   "cell_type": "code",
   "execution_count": 114,
   "outputs": [
    {
     "data": {
      "text/plain": "             Id              RegisteredDate UniversityName  \\\n2843   16243450  2013-12-12 08:47:30.463000           UFSC   \n6323   53376413  2014-06-30 13:28:34.000000          UNIME   \n11232  97540741  2015-03-26 02:30:24.247000         UNIFEI   \n12217  57187584  2015-04-26 18:34:14.773000          UFVJM   \n21391  47909440  2016-04-21 16:19:12.150000         IFSEMG   \n21653  90291210  2016-04-27 10:31:43.223000        ESTÁCIO   \n28954  47377640  2017-01-11 14:20:48.567000           IFPA   \n32267  41517872  2017-04-08 14:45:01.099632        ESTÁCIO   \n32425   1231617  2017-04-10 19:26:02.952000         USP-SC   \n33685   4048029  2017-04-28 18:24:11.563741         PUC-RS   \n\n                           CourseName           State SignupSource  \\\n2843              Engenharia Elétrica  Santa Catarina     Facebook   \n6323                      Odontologia      Pernambuco     Facebook   \n11232          Engenharia Aeronáutica             NaN        Email   \n12217  Ciências Exatas e Tecnológicas    Minas Gerais     Facebook   \n21391          Engenharia Metalúrgica    Minas Gerais     Facebook   \n21653                 Educação Física       São Paulo        Email   \n28954          Licenciatura em Física             NaN       Google   \n32267                         Direito        Maranhão     Facebook   \n32425             Engenharia Elétrica       São Paulo       Google   \n33685                         Direito             NaN       Google   \n\n               City StudentClient  \n2843          Lages           NaN  \n6323      Petrolina       Website  \n11232           NaN       Website  \n12217           NaN       Website  \n21391  Juiz de Fora           NaN  \n21653           NaN       Website  \n28954           NaN       Website  \n32267           NaN           NaN  \n32425           NaN           NaN  \n33685           NaN           NaN  ",
      "text/html": "<div>\n<style scoped>\n    .dataframe tbody tr th:only-of-type {\n        vertical-align: middle;\n    }\n\n    .dataframe tbody tr th {\n        vertical-align: top;\n    }\n\n    .dataframe thead th {\n        text-align: right;\n    }\n</style>\n<table border=\"1\" class=\"dataframe\">\n  <thead>\n    <tr style=\"text-align: right;\">\n      <th></th>\n      <th>Id</th>\n      <th>RegisteredDate</th>\n      <th>UniversityName</th>\n      <th>CourseName</th>\n      <th>State</th>\n      <th>SignupSource</th>\n      <th>City</th>\n      <th>StudentClient</th>\n    </tr>\n  </thead>\n  <tbody>\n    <tr>\n      <th>2843</th>\n      <td>16243450</td>\n      <td>2013-12-12 08:47:30.463000</td>\n      <td>UFSC</td>\n      <td>Engenharia Elétrica</td>\n      <td>Santa Catarina</td>\n      <td>Facebook</td>\n      <td>Lages</td>\n      <td>NaN</td>\n    </tr>\n    <tr>\n      <th>6323</th>\n      <td>53376413</td>\n      <td>2014-06-30 13:28:34.000000</td>\n      <td>UNIME</td>\n      <td>Odontologia</td>\n      <td>Pernambuco</td>\n      <td>Facebook</td>\n      <td>Petrolina</td>\n      <td>Website</td>\n    </tr>\n    <tr>\n      <th>11232</th>\n      <td>97540741</td>\n      <td>2015-03-26 02:30:24.247000</td>\n      <td>UNIFEI</td>\n      <td>Engenharia Aeronáutica</td>\n      <td>NaN</td>\n      <td>Email</td>\n      <td>NaN</td>\n      <td>Website</td>\n    </tr>\n    <tr>\n      <th>12217</th>\n      <td>57187584</td>\n      <td>2015-04-26 18:34:14.773000</td>\n      <td>UFVJM</td>\n      <td>Ciências Exatas e Tecnológicas</td>\n      <td>Minas Gerais</td>\n      <td>Facebook</td>\n      <td>NaN</td>\n      <td>Website</td>\n    </tr>\n    <tr>\n      <th>21391</th>\n      <td>47909440</td>\n      <td>2016-04-21 16:19:12.150000</td>\n      <td>IFSEMG</td>\n      <td>Engenharia Metalúrgica</td>\n      <td>Minas Gerais</td>\n      <td>Facebook</td>\n      <td>Juiz de Fora</td>\n      <td>NaN</td>\n    </tr>\n    <tr>\n      <th>21653</th>\n      <td>90291210</td>\n      <td>2016-04-27 10:31:43.223000</td>\n      <td>ESTÁCIO</td>\n      <td>Educação Física</td>\n      <td>São Paulo</td>\n      <td>Email</td>\n      <td>NaN</td>\n      <td>Website</td>\n    </tr>\n    <tr>\n      <th>28954</th>\n      <td>47377640</td>\n      <td>2017-01-11 14:20:48.567000</td>\n      <td>IFPA</td>\n      <td>Licenciatura em Física</td>\n      <td>NaN</td>\n      <td>Google</td>\n      <td>NaN</td>\n      <td>Website</td>\n    </tr>\n    <tr>\n      <th>32267</th>\n      <td>41517872</td>\n      <td>2017-04-08 14:45:01.099632</td>\n      <td>ESTÁCIO</td>\n      <td>Direito</td>\n      <td>Maranhão</td>\n      <td>Facebook</td>\n      <td>NaN</td>\n      <td>NaN</td>\n    </tr>\n    <tr>\n      <th>32425</th>\n      <td>1231617</td>\n      <td>2017-04-10 19:26:02.952000</td>\n      <td>USP-SC</td>\n      <td>Engenharia Elétrica</td>\n      <td>São Paulo</td>\n      <td>Google</td>\n      <td>NaN</td>\n      <td>NaN</td>\n    </tr>\n    <tr>\n      <th>33685</th>\n      <td>4048029</td>\n      <td>2017-04-28 18:24:11.563741</td>\n      <td>PUC-RS</td>\n      <td>Direito</td>\n      <td>NaN</td>\n      <td>Google</td>\n      <td>NaN</td>\n      <td>NaN</td>\n    </tr>\n  </tbody>\n</table>\n</div>"
     },
     "execution_count": 114,
     "metadata": {},
     "output_type": "execute_result"
    }
   ],
   "source": [
    "oldest_users = payments.loc[payments.StudentId.isin(hard_users)].StudentId.value_counts().nlargest(10).index\n",
    "oldest_users\n",
    "df_oldest_users = students.loc[students.Id.isin(oldest_users)]\n",
    "df_oldest_users"
   ],
   "metadata": {
    "collapsed": false,
    "pycharm": {
     "name": "#%%\n"
    }
   }
  },
  {
   "cell_type": "code",
   "execution_count": 115,
   "outputs": [
    {
     "data": {
      "text/plain": "Mensal    132\nAnual      17\nName: PlanType, dtype: int64"
     },
     "execution_count": 115,
     "metadata": {},
     "output_type": "execute_result"
    }
   ],
   "source": [
    "payments.loc[payments.StudentId.isin(hard_users)].PlanType.value_counts()"
   ],
   "metadata": {
    "collapsed": false,
    "pycharm": {
     "name": "#%%\n"
    }
   }
  },
  {
   "cell_type": "code",
   "execution_count": 118,
   "outputs": [
    {
     "data": {
      "text/plain": "      StudentId PlanType  PaymentDate\n0         43621   Mensal            3\n1         51498   Mensal            1\n2        105540    Anual            1\n3        258634   Mensal            5\n4        311572   Mensal            2\n...         ...      ...          ...\n2006   99715024   Mensal            1\n2007   99718924   Mensal            7\n2008   99720133   Mensal            6\n2009   99892099   Mensal            2\n2010   99946491   Mensal            2\n\n[2011 rows x 3 columns]",
      "text/html": "<div>\n<style scoped>\n    .dataframe tbody tr th:only-of-type {\n        vertical-align: middle;\n    }\n\n    .dataframe tbody tr th {\n        vertical-align: top;\n    }\n\n    .dataframe thead th {\n        text-align: right;\n    }\n</style>\n<table border=\"1\" class=\"dataframe\">\n  <thead>\n    <tr style=\"text-align: right;\">\n      <th></th>\n      <th>StudentId</th>\n      <th>PlanType</th>\n      <th>PaymentDate</th>\n    </tr>\n  </thead>\n  <tbody>\n    <tr>\n      <th>0</th>\n      <td>43621</td>\n      <td>Mensal</td>\n      <td>3</td>\n    </tr>\n    <tr>\n      <th>1</th>\n      <td>51498</td>\n      <td>Mensal</td>\n      <td>1</td>\n    </tr>\n    <tr>\n      <th>2</th>\n      <td>105540</td>\n      <td>Anual</td>\n      <td>1</td>\n    </tr>\n    <tr>\n      <th>3</th>\n      <td>258634</td>\n      <td>Mensal</td>\n      <td>5</td>\n    </tr>\n    <tr>\n      <th>4</th>\n      <td>311572</td>\n      <td>Mensal</td>\n      <td>2</td>\n    </tr>\n    <tr>\n      <th>...</th>\n      <td>...</td>\n      <td>...</td>\n      <td>...</td>\n    </tr>\n    <tr>\n      <th>2006</th>\n      <td>99715024</td>\n      <td>Mensal</td>\n      <td>1</td>\n    </tr>\n    <tr>\n      <th>2007</th>\n      <td>99718924</td>\n      <td>Mensal</td>\n      <td>7</td>\n    </tr>\n    <tr>\n      <th>2008</th>\n      <td>99720133</td>\n      <td>Mensal</td>\n      <td>6</td>\n    </tr>\n    <tr>\n      <th>2009</th>\n      <td>99892099</td>\n      <td>Mensal</td>\n      <td>2</td>\n    </tr>\n    <tr>\n      <th>2010</th>\n      <td>99946491</td>\n      <td>Mensal</td>\n      <td>2</td>\n    </tr>\n  </tbody>\n</table>\n<p>2011 rows × 3 columns</p>\n</div>"
     },
     "execution_count": 118,
     "metadata": {},
     "output_type": "execute_result"
    }
   ],
   "source": [
    "payments.groupby(['StudentId', \"PlanType\"]).count().reset_index()"
   ],
   "metadata": {
    "collapsed": false,
    "pycharm": {
     "name": "#%%\n"
    }
   }
  },
  {
   "cell_type": "code",
   "execution_count": 123,
   "outputs": [
    {
     "data": {
      "text/plain": "array(['MACKENZIE', 'PUC-MINAS', 'FMU', 'UCAM', 'UNINOVE', 'PUC-SP',\n       'UNICAP', 'UNIVERSO', 'UERJ', 'UNIFOR'], dtype=object)"
     },
     "execution_count": 123,
     "metadata": {},
     "output_type": "execute_result"
    }
   ],
   "source": [
    "other_universities_states.UniversityName.value_counts().nlargest(10).index.values\n",
    "\n"
   ],
   "metadata": {
    "collapsed": false,
    "pycharm": {
     "name": "#%%\n"
    }
   }
  }
 ],
 "metadata": {
  "kernelspec": {
   "display_name": "Python 3",
   "language": "python",
   "name": "python3"
  },
  "language_info": {
   "codemirror_mode": {
    "name": "ipython",
    "version": 2
   },
   "file_extension": ".py",
   "mimetype": "text/x-python",
   "name": "python",
   "nbconvert_exporter": "python",
   "pygments_lexer": "ipython2",
   "version": "2.7.6"
  }
 },
 "nbformat": 4,
 "nbformat_minor": 0
}