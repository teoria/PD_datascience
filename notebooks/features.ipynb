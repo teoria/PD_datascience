{
 "cells": [
  {
   "cell_type": "code",
   "execution_count": 1,
   "outputs": [],
   "source": [
    "import pandas as pd\n",
    "import matplotlib.pyplot as plt\n",
    "import numpy as np\n",
    "import seaborn as sns\n",
    "#%matplotlib inline\n",
    "\n",
    "from IPython.core.pylabtools import figsize\n",
    "from sklearn.cluster import KMeans\n",
    "from sklearn.preprocessing import StandardScaler\n",
    "from collections import Counter\n",
    "\n",
    "figsize(10, 8)\n",
    "sns.set()"
   ],
   "metadata": {
    "collapsed": false,
    "pycharm": {
     "name": "#%%\n"
    }
   }
  },
  {
   "cell_type": "code",
   "execution_count": 4,
   "outputs": [
    {
     "name": "stderr",
     "output_type": "stream",
     "text": [
      "/home/ahgora/projetos/pd/venv/lib/python3.7/site-packages/IPython/core/interactiveshell.py:3146: DtypeWarning: Columns (0) have mixed types.Specify dtype option on import or set low_memory=False.\n",
      "  interactivity=interactivity, compiler=compiler, result=result)\n",
      "/home/ahgora/projetos/pd/venv/lib/python3.7/site-packages/IPython/core/interactiveshell.py:3146: DtypeWarning: Columns (1) have mixed types.Specify dtype option on import or set low_memory=False.\n",
      "  interactivity=interactivity, compiler=compiler, result=result)\n"
     ]
    },
    {
     "name": "stdout",
     "output_type": "stream",
     "text": [
      "*********fileViews***********\n",
      "(3028988, 4)\n",
      "  StudentId                                           FileName  \\\n",
      "0  12970655  Exercicios Resolvidos do Halliday sobre Rotaçã...   \n",
      "1  12970655  Exercicios Resolvidos do Halliday sobre Rotaçã...   \n",
      "\n",
      "                     ViewDate Studentclient  \n",
      "0  2017-02-23 10:46:03.047000       Website  \n",
      "1  2017-02-23 10:46:12.370000       Website  \n",
      "____________\n",
      "\n",
      "\n",
      "*********premium_cancellations***********\n",
      "(844, 2)\n",
      "   StudentId            CancellationDate\n",
      "0   34129668  2016-05-05 19:08:31.937000\n",
      "1   34129668  2016-05-05 22:48:20.830000\n",
      "____________\n",
      "\n",
      "\n",
      "*********premium_payments***********\n",
      "(7276, 3)\n",
      "   StudentId                 PaymentDate PlanType\n",
      "0   12970655  2017-05-26 22:25:03.000000    Anual\n",
      "1   12970655  2018-05-26 10:05:28.000000    Anual\n",
      "____________\n",
      "\n",
      "\n",
      "*********questions***********\n",
      "(3906, 4)\n",
      "   StudentId                QuestionDate  \\\n",
      "0   12970655  2013-09-04 14:09:25.963000   \n",
      "1   12970655  2013-09-04 15:36:51.083000   \n",
      "\n",
      "                                     QuestionSnippet StudentClient  \n",
      "0  O que é mais importante para um projeto: escop...           NaN  \n",
      "1  Você pode ter um negócio/produto bem sucedido ...           NaN  \n",
      "____________\n",
      "\n",
      "\n",
      "*********sessions***********\n",
      "(1399062, 3)\n",
      "   StudentId     SessionStartTime StudentClient\n",
      "0   12970655  2017-02-20 14:51:37       Website\n",
      "1   12970655  2017-02-22 14:04:34       Website\n",
      "____________\n",
      "\n",
      "\n",
      "*********students***********\n",
      "(60000, 8)\n",
      "         Id              RegisteredDate UniversityName  \\\n",
      "0  12970655  2012-05-29 15:22:27.490000        PUC-RIO   \n",
      "1  59873654  2012-09-03 20:32:04.853000            UFF   \n",
      "\n",
      "                               CourseName           State SignupSource  \\\n",
      "0                           Administração  Rio de Janeiro        Email   \n",
      "1  Direito do Trabalho e Segurança Social  Rio de Janeiro     Facebook   \n",
      "\n",
      "             City StudentClient  \n",
      "0             NaN           NaN  \n",
      "1  Rio de Janeiro           NaN  \n",
      "____________\n",
      "\n",
      "\n",
      "*********subjects***********\n",
      "(315766, 3)\n",
      "   StudentId                SubjectName                  FollowDate\n",
      "0   12970655  Disciplina Integradora II  2015-09-12 16:00:11.000000\n",
      "1   12970655       Pesquisa Operacional  2015-09-12 16:00:11.000000\n",
      "____________\n",
      "\n",
      "\n",
      "*********cancellations_agg***********\n",
      "(768, 2)\n",
      "   StudentId  CancellationDate\n",
      "0       3546                 1\n",
      "1      43621                 1\n",
      "____________\n",
      "\n",
      "\n",
      "*********fileViews_agg***********\n",
      "(56172, 4)\n",
      "  StudentId  FileName  ViewDate  Studentclient\n",
      "0      2774         1         1              1\n",
      "1      3287         5         5              5\n",
      "____________\n",
      "\n",
      "\n",
      "*********payments_agg***********\n",
      "(2011, 3)\n",
      "   StudentId PlanType  PaymentDate\n",
      "0      43621   Mensal            3\n",
      "1      51498   Mensal            1\n",
      "____________\n",
      "\n",
      "\n",
      "*********questions_agg***********\n",
      "(2240, 4)\n",
      "   StudentId  QuestionDate  QuestionSnippet  StudentClient\n",
      "0       3546             7                7              7\n",
      "1      16809             1                1              1\n",
      "____________\n",
      "\n",
      "\n",
      "*********sessions_agg***********\n",
      "(60000, 3)\n",
      "   StudentId  SessionStartTime  StudentClient\n",
      "0       2774                 2              2\n",
      "1       3287                 2              2\n",
      "____________\n",
      "\n",
      "\n",
      "*********subjects_agg***********\n",
      "(57229, 3)\n",
      "   StudentId  SubjectName  FollowDate\n",
      "0       2774            6           6\n",
      "1       3287            6           6\n",
      "____________\n",
      "\n",
      "\n",
      "*********usage_weekly***********\n",
      "(60000, 3)\n",
      "   usage_weekly_count  usage_weekly_mean  StudentId\n",
      "0                46.0           2.369565   12970655\n",
      "1                10.0           2.100000   59873654\n",
      "____________\n",
      "\n",
      "\n",
      "*********usage_desktop_only***********\n",
      "(1992260, 7)\n",
      "   index  StudentId                                           FileName  \\\n",
      "0      0   12970655  Exercicios Resolvidos do Halliday sobre Rotaçã...   \n",
      "1      1   12970655  Exercicios Resolvidos do Halliday sobre Rotaçã...   \n",
      "\n",
      "                     ViewDate Studentclient  is_mobile  OS_mobile  \n",
      "0  2017-02-23 10:46:03.047000       Website          0          0  \n",
      "1  2017-02-23 10:46:12.370000       Website          0          0  \n",
      "____________\n",
      "\n",
      "\n",
      "*********usage_mobile_only***********\n",
      "(1036728, 10)\n",
      "   index StudentId                                           FileName  \\\n",
      "0     32  12970655                 Plano de aula - Introdução a lutas   \n",
      "1     33  12970655  [Apostila] - Administração de Vendas - Marketi...   \n",
      "\n",
      "                     ViewDate Studentclient  is_mobile  OS_mobile    OS  \\\n",
      "0  2017-07-10 20:50:42.000000  iOS | 10.2.1          1          1  iOS    \n",
      "1  2017-07-10 20:50:49.000000  iOS | 10.2.1          1          1  iOS    \n",
      "\n",
      "   version  sdk  \n",
      "0   10.2.1  NaN  \n",
      "1   10.2.1  NaN  \n",
      "____________\n",
      "\n",
      "\n"
     ]
    }
   ],
   "source": [
    "files = ['fileViews',\n",
    "             'premium_cancellations',\n",
    "             'premium_payments',\n",
    "             'questions',\n",
    "             'sessions',\n",
    "             'students',\n",
    "             'subjects',\n",
    "             'cancellations_agg',\n",
    "             'fileViews_agg',\n",
    "             'payments_agg',\n",
    "             'questions_agg',\n",
    "             'sessions_agg',\n",
    "             'subjects_agg',\n",
    "             'usage_weekly',\n",
    "         'usage_desktop_only',\n",
    "         'usage_mobile_only'\n",
    "             ]\n",
    "\n",
    "datasets = {}\n",
    "for file in files:\n",
    "    datasets[file] = pd.read_csv(f\"../data/processed/{file}.csv\")  # ,parse_dates=[1,2],index_col=[0])\n",
    "    print(f'*********{file}***********')\n",
    "    print(datasets[file].shape)\n",
    "    print(datasets[file].head(2))\n",
    "    print(\"____________\\n\\n\")"
   ],
   "metadata": {
    "collapsed": false,
    "pycharm": {
     "name": "#%%\n"
    }
   }
  },
  {
   "cell_type": "code",
   "execution_count": 150,
   "outputs": [],
   "source": [
    "fileViews = datasets.get('fileViews')\n",
    "cancellation = datasets.get('premium_cancellations')\n",
    "payment = datasets.get('premium_payments')\n",
    "questions = datasets['questions']\n",
    "sessions = datasets['sessions']\n",
    "student = datasets.get('students')\n",
    "subjects = datasets.get('subjects')\n",
    "cancellation_agg = datasets.get('cancellations_agg')\n",
    "fileViews_agg = datasets.get('fileViews_agg')\n",
    "payments_agg = datasets.get('payments_agg')\n",
    "questions_agg = datasets.get('questions_agg')\n",
    "sessions_agg = datasets.get('sessions_agg')\n",
    "subjects_agg = datasets.get('subjects_agg')\n",
    "usage_weekly = datasets.get('usage_weekly')\n",
    "usage_mobile = datasets.get('usage_mobile_only')\n",
    "usage_desktop = datasets.get('usage_desktop_only')"
   ],
   "metadata": {
    "collapsed": false,
    "pycharm": {
     "name": "#%%\n"
    }
   }
  },
  {
   "cell_type": "code",
   "execution_count": 126,
   "outputs": [],
   "source": [
    "max_time = sessions.SessionStartTime.max()\n",
    "sessions_agg = sessions_agg[['StudentId','SessionStartTime']]\n",
    "sessions_agg.columns = ['StudentId','session_count']"
   ],
   "metadata": {
    "collapsed": false,
    "pycharm": {
     "name": "#%%\n"
    }
   }
  },
  {
   "cell_type": "code",
   "execution_count": 127,
   "outputs": [
    {
     "name": "stderr",
     "output_type": "stream",
     "text": [
      "/home/ahgora/projetos/pd/venv/lib/python3.7/site-packages/pandas/core/frame.py:4170: SettingWithCopyWarning: \n",
      "A value is trying to be set on a copy of a slice from a DataFrame\n",
      "\n",
      "See the caveats in the documentation: https://pandas.pydata.org/pandas-docs/stable/user_guide/indexing.html#returning-a-view-versus-a-copy\n",
      "  errors=errors,\n",
      "/home/ahgora/projetos/pd/venv/lib/python3.7/site-packages/ipykernel_launcher.py:5: SettingWithCopyWarning: \n",
      "A value is trying to be set on a copy of a slice from a DataFrame.\n",
      "Try using .loc[row_indexer,col_indexer] = value instead\n",
      "\n",
      "See the caveats in the documentation: https://pandas.pydata.org/pandas-docs/stable/user_guide/indexing.html#returning-a-view-versus-a-copy\n",
      "  \"\"\"\n"
     ]
    }
   ],
   "source": [
    "fileViews_agg = fileViews_agg[['StudentId','FileName']]\n",
    "fileViews_agg.columns = ['StudentId','fileview_count']\n",
    "fileViews_agg.drop([45975, 45976] ,inplace=True)\n",
    "fileViews_agg.head()\n",
    "fileViews_agg['StudentId'] = fileViews_agg.StudentId.astype(int)"
   ],
   "metadata": {
    "collapsed": false,
    "pycharm": {
     "name": "#%%\n"
    }
   }
  },
  {
   "cell_type": "code",
   "execution_count": null,
   "outputs": [],
   "source": [
    "questions_agg = questions_agg[['StudentId','QuestionDate']]\n",
    "questions_agg.columns = ['StudentId','question_count']"
   ],
   "metadata": {
    "collapsed": false,
    "pycharm": {
     "name": "#%%\n"
    }
   }
  },
  {
   "cell_type": "code",
   "execution_count": null,
   "outputs": [],
   "source": [
    "cancellation_agg = cancellation_agg[['StudentId','CancellationDate']]\n",
    "cancellation_agg.columns = ['StudentId','cancelation_count']\n"
   ],
   "metadata": {
    "collapsed": false,
    "pycharm": {
     "name": "#%%\n"
    }
   }
  },
  {
   "cell_type": "code",
   "execution_count": 156,
   "outputs": [],
   "source": [
    "subjects_agg = subjects_agg[['StudentId','SubjectName']]\n",
    "subjects_agg.columns = ['StudentId','subject_count']"
   ],
   "metadata": {
    "collapsed": false,
    "pycharm": {
     "name": "#%%\n"
    }
   }
  },
  {
   "cell_type": "markdown",
   "source": [
    "## Features\n",
    "- StudentId\n",
    "- registered_time(days)\n",
    "- usage_weekly_count(com session)\n",
    "- usage_weekly_mean(com session)\n",
    "- count_sessions\n",
    "- rate - sessions(qtd / tempobase)\n",
    "- count_file_view\n",
    "- Rate - fileview\n",
    "- count_question\n",
    "- rate - question\n",
    "- Região - ohe - OK\n",
    "- Estado - ohe - OK\n",
    "- Device_type\n",
    "- count_payment\n",
    "- count_payment_mensal\n",
    "- count_paymant_anual\n",
    "- count_cancellation\n",
    "- count_subject\n"
   ],
   "metadata": {
    "collapsed": false
   }
  },
  {
   "cell_type": "code",
   "execution_count": 129,
   "outputs": [],
   "source": [
    "def get_registered_time(df, max_time):\n",
    "    tempos = []\n",
    "    for student_reg_date in df.RegisteredDate:\n",
    "        diff_time = pd.to_timedelta(pd.to_datetime(max_time) - pd.to_datetime(student_reg_date) ).days\n",
    "        tempos.append(diff_time)\n",
    "    return tempos\n",
    "\n",
    "def get_region(df):\n",
    "\n",
    "    norte = ['Acre','Amapa','Amazonas','Pará', 'Rondonia','Roraima','Tocantins']\n",
    "    nordeste = ['Alagoas', 'Bahia','Ceara','Maranhão','Paraíba','Pernambuco', 'Piauí', 'Rio Grande do Norte', 'Sergipe' ]\n",
    "    centro_oeste = ['Goias','Mato Grosso','Mato Grosso do Sul' ,'Distrito Federal']\n",
    "    sul = ['Rio Grande do Sul','Santa Catarina','Paraná']\n",
    "    sudeste = ['Espirito Santo','Minas Gerais','Rio de Janeiro','São Paulo']\n",
    "    na = ['NA']\n",
    "\n",
    "    regions = []\n",
    "    for student_state in df.State.fillna(\"NA\"):\n",
    "        region = next(n for n,v in filter(lambda t: isinstance(t[1],list), locals().items()) if student_state in v)\n",
    "        regions.append(region)\n",
    "    return regions"
   ],
   "metadata": {
    "collapsed": false,
    "pycharm": {
     "name": "#%%\n"
    }
   }
  },
  {
   "cell_type": "code",
   "execution_count": 130,
   "outputs": [],
   "source": [
    "student['registered_time'] = get_registered_time(student,max_time)\n",
    "student_usage = pd.merge(student.head(50),\n",
    "              usage_weekly,\n",
    "              left_on='Id',\n",
    "              right_on='StudentId',\n",
    "              how='left')"
   ],
   "metadata": {
    "collapsed": false,
    "pycharm": {
     "name": "#%%\n"
    }
   }
  },
  {
   "cell_type": "code",
   "execution_count": 131,
   "outputs": [],
   "source": [
    "student_usage_sessions = pd.merge(student_usage,\n",
    "                                  sessions_agg,\n",
    "                                  on='StudentId' ,\n",
    "              how='left')"
   ],
   "metadata": {
    "collapsed": false,
    "pycharm": {
     "name": "#%%\n"
    }
   }
  },
  {
   "cell_type": "code",
   "execution_count": 134,
   "outputs": [
    {
     "name": "stderr",
     "output_type": "stream",
     "text": [
      "/home/ahgora/projetos/pd/venv/lib/python3.7/site-packages/ipykernel_launcher.py:5: FutureWarning: Passing 'suffixes' as a <class 'str'>, is not supported and may give unexpected results. Provide 'suffixes' as a tuple instead. In the future a 'TypeError' will be raised.\n",
      "  \"\"\"\n"
     ]
    }
   ],
   "source": [
    "student_usage_sessions = pd.merge(student_usage_sessions,\n",
    "                                  sessions_agg,\n",
    "                                  on='StudentId' ,\n",
    "                                  suffixes= '',\n",
    "                                  how='left')\n",
    "student_usage_sessions['session_rate'] = student_usage_sessions['session_count']/student_usage_sessions['registered_time']"
   ],
   "metadata": {
    "collapsed": false,
    "pycharm": {
     "name": "#%%\n"
    }
   }
  },
  {
   "cell_type": "code",
   "execution_count": 135,
   "outputs": [],
   "source": [
    "student_usage_sessions_fileViews= pd.merge(student_usage_sessions,\n",
    "                                  fileViews_agg[['StudentId','fileview_count']],\n",
    "                                  on='StudentId' ,\n",
    "              how='left')\n",
    "\n",
    "student_usage_sessions_fileViews['fileview_rate'] = student_usage_sessions_fileViews['fileview_count']/student_usage_sessions_fileViews['registered_time']"
   ],
   "metadata": {
    "collapsed": false,
    "pycharm": {
     "name": "#%%\n"
    }
   }
  },
  {
   "cell_type": "code",
   "execution_count": 136,
   "outputs": [],
   "source": [
    "student_usage_sessions_fileViews_question = pd.merge(student_usage_sessions_fileViews,\n",
    "                                  questions_agg[['StudentId','question_count']],\n",
    "                                  on='StudentId' ,\n",
    "              how='left')\n",
    "\n",
    "student_usage_sessions_fileViews_question['question_rate'] = student_usage_sessions_fileViews_question['question_count']/student_usage_sessions_fileViews_question['registered_time']"
   ],
   "metadata": {
    "collapsed": false,
    "pycharm": {
     "name": "#%%\n"
    }
   }
  },
  {
   "cell_type": "code",
   "execution_count": 137,
   "outputs": [],
   "source": [
    "student_usage_sessions_fileViews_question['region'] = get_region(student_usage_sessions_fileViews_question)\n"
   ],
   "metadata": {
    "collapsed": false,
    "pycharm": {
     "name": "#%%\n"
    }
   }
  },
  {
   "cell_type": "code",
   "execution_count": 138,
   "outputs": [],
   "source": [
    "list_desktop = usage_desktop.StudentId.unique()\n",
    "list_mobile = usage_mobile.StudentId.unique()\n",
    "\n",
    "student_usage_sessions_fileViews_question['mobile'] = 0\n",
    "student_usage_sessions_fileViews_question['desktop'] = 0\n",
    "\n",
    "student_usage_sessions_fileViews_question.loc[student_usage_sessions_fileViews_question.StudentId.isin(list_mobile),'mobile'] = 1\n",
    "student_usage_sessions_fileViews_question.loc[student_usage_sessions_fileViews_question.StudentId.isin(list_desktop),'desktop'] = 1"
   ],
   "metadata": {
    "collapsed": false,
    "pycharm": {
     "name": "#%%\n"
    }
   }
  },
  {
   "cell_type": "code",
   "execution_count": 139,
   "outputs": [],
   "source": [
    "df_payment_total = payments_agg.groupby(['StudentId']).PaymentDate.sum().reset_index()\n",
    "df_payment_total_mensal = payments_agg.loc[payments_agg.PlanType=='Mensal'].groupby(['StudentId']).PaymentDate.sum().reset_index()\n",
    "df_payment_total_anual = payments_agg.loc[payments_agg.PlanType=='Anual'].groupby(['StudentId']).PaymentDate.sum().reset_index()\n",
    "df_payment_total.columns = ['StudentId',\"payment_total\"]\n",
    "df_payment_total_mensal.columns = ['StudentId',\"payment_monthly\"]\n",
    "df_payment_total_anual .columns= ['StudentId',\"payment_yearly\"]\n"
   ],
   "metadata": {
    "collapsed": false,
    "pycharm": {
     "name": "#%%\n"
    }
   }
  },
  {
   "cell_type": "code",
   "execution_count": 143,
   "outputs": [
    {
     "data": {
      "text/plain": "          Id              RegisteredDate UniversityName  \\\n0   12970655  2012-05-29 15:22:27.490000        PUC-RIO   \n1   59873654  2012-09-03 20:32:04.853000            UFF   \n2    3664695  2012-09-10 20:26:30.253000            UNB   \n3   15207697  2012-09-05 15:31:08.090000           UERJ   \n4   36988693  2012-10-15 21:34:51.143000            UFU   \n5    1001195  2012-10-15 21:35:05.540000           UFES   \n6   69894068  2012-08-27 14:19:58.723000      PUC-MINAS   \n7   98291487  2012-09-26 02:29:32.973000          UFABC   \n8    9448057  2012-12-03 19:55:03.750000         UFSCAR   \n9   32843000  2012-08-27 15:18:35.750000      PUC-MINAS   \n10  90436208  2012-12-03 19:54:25.703000          UTFPR   \n11  79936441  2012-10-15 21:35:05.540000        ESTÁCIO   \n12  96176999  2012-09-26 02:29:32.973000          UDESC   \n13  53798656  2012-11-23 13:21:43.080000           UFMG   \n14  24387754  2012-10-15 21:35:05.540000           UFES   \n15  53779278  2012-09-10 20:26:30.253000            UNB   \n16  45480110  2012-10-30 17:13:22.230000        ESTÁCIO   \n17  28094453  2012-11-07 17:23:27.570000           UFSC   \n18  17591347  2012-11-13 19:55:27.797000          UNESP   \n19  36391532  2012-09-05 15:31:08.090000           UERJ   \n20  36411881  2012-09-10 20:26:30.253000            UNB   \n21  25474850  2012-10-22 21:17:18.210000          CUMIH   \n22  49007641  2012-06-03 22:07:22.060000        PUC-RIO   \n23  78654666  2012-09-26 02:29:32.973000           UFMS   \n24  34306217  2012-09-18 09:53:49.577000           UFSJ   \n25  54137443  2012-06-03 22:20:20.683000        PUC-RIO   \n26  78749370  2012-11-07 17:22:39.327000            UFG   \n27  92740906  2012-09-03 20:32:04.853000            UFF   \n28  64425672  2012-11-01 15:34:36.947000          IBMEC   \n29   2980633  2012-11-13 19:55:27.797000          UNESP   \n30  87335743  2012-11-25 23:53:31.300000           UERJ   \n31  22106052  2012-09-10 20:10:16.910000           UFMG   \n32  85548921  2012-11-07 17:23:27.570000           UFSC   \n33  64851118  2012-11-13 19:55:27.797000          UNESP   \n34  11800151  2012-10-15 21:34:51.143000            UFU   \n35  71070911  2012-10-30 17:54:28.267000        ESTÁCIO   \n36  67560047  2012-09-10 20:26:30.253000        UNICEUB   \n37  41139565  2012-08-18 10:29:38.600000           UFRJ   \n38  45347951  2012-11-13 21:02:05.237000           UFAL   \n39  93640233  2012-10-26 23:20:50.787000        ESTÁCIO   \n40  54069645  2012-12-03 19:54:25.703000          UTFPR   \n41  13752236  2012-12-04 06:45:32.040000            UGF   \n42  15636994  2012-08-28 14:33:54.337000           UERJ   \n43  44225766  2012-10-15 21:35:05.540000           FASB   \n44  53292156  2012-12-03 19:54:25.703000          UTFPR   \n45  83570624  2012-11-14 17:07:03.290000            FAL   \n46  78053109  2012-09-18 09:53:49.577000           UFSJ   \n47  66543418  2012-09-05 15:31:08.090000           UERJ   \n48  17700168  2012-09-10 20:10:16.910000           UFMG   \n49  27201185  2012-08-21 20:27:26.697000           UFRJ   \n\n                                CourseName             State SignupSource  \\\n0                            Administração    Rio de Janeiro        Email   \n1   Direito do Trabalho e Segurança Social    Rio de Janeiro     Facebook   \n2                               Enfermagem  Distrito Federal     Facebook   \n3          Engenharia de Produção Mecânica    Rio de Janeiro     Facebook   \n4                      Engenharia Elétrica                 0     Facebook   \n5                                  Química    Espirito Santo     Facebook   \n6                                  Direito      Minas Gerais     Facebook   \n7                     Engenharia Biomédica         São Paulo     Facebook   \n8                            Biotecnologia                 0     Facebook   \n9                         Engenharia Civil      Minas Gerais     Facebook   \n10           Engenharia Civil e Ambiental                  0     Facebook   \n11                           Administração    Espirito Santo     Facebook   \n12                     Engenharia Mecânica    Santa Catarina     Facebook   \n13                                 Direito      Minas Gerais     Facebook   \n14          Economia / Ciências Econômicas    Espirito Santo     Facebook   \n15               Física / Ciências Físicas  Distrito Federal     Facebook   \n16                                 Direito    Rio de Janeiro     Facebook   \n17                        Engenharia Civil    Santa Catarina     Facebook   \n18                     Engenharia Elétrica                 0     Facebook   \n19                     Engenharia Mecânica    Rio de Janeiro     Facebook   \n20                          Serviço Social  Distrito Federal     Facebook   \n21      Contabilidade / Ciências Contábeis      Minas Gerais     Facebook   \n22                        Engenharia Civil    Rio de Janeiro     Facebook   \n23                                Medicina                 0     Facebook   \n24                     Engenharia Elétrica      Minas Gerais     Facebook   \n25                                 Direito    Rio de Janeiro     Facebook   \n26                     Engenharia Elétrica                 0     Facebook   \n27                  Engenharia de Produção    Rio de Janeiro     Facebook   \n28                           Administração    Rio de Janeiro        Email   \n29                     Engenharia Mecânica         São Paulo     Facebook   \n30                        Engenharia Civil    Rio de Janeiro     Facebook   \n31                        Engenharia Civil      Minas Gerais     Facebook   \n32                        Engenharia Civil    Santa Catarina     Facebook   \n33                              Enfermagem                 0     Facebook   \n34                   Engenharia de Energia      Minas Gerais        Email   \n35      Contabilidade / Ciências Contábeis             Ceara        Email   \n36                        Engenharia Civil  Distrito Federal     Facebook   \n37                        Engenharia Civil    Rio de Janeiro     Facebook   \n38            Engenharia de Petróleo e Gás           Alagoas     Facebook   \n39                                 Direito    Rio de Janeiro     Facebook   \n40                     Engenharia Elétrica            Paraná     Facebook   \n41                        Engenharia Civil    Rio de Janeiro     Facebook   \n42                          Serviço Social    Rio de Janeiro     Facebook   \n43                  Engenharia de Produção                 0     Facebook   \n44                        Engenharia Civil            Paraná        Email   \n45                           Administração           Alagoas     Facebook   \n46          Engenharia Industrial Mecânica      Minas Gerais     Facebook   \n47                                Geologia    Rio de Janeiro     Facebook   \n48                      Engenharia Química      Minas Gerais     Facebook   \n49                                Nutrição    Rio de Janeiro     Facebook   \n\n                     City  StudentClient  registered_time  usage_weekly_count  \\\n0                       0              0             2200                46.0   \n1          Rio de Janeiro              0             2103                10.0   \n2                       0              0             2096                 4.0   \n3                 Resende              0             2101                 3.0   \n4                       0              0             2061                21.0   \n5                       0              0             2061                 6.0   \n6                Contagem              0             2110                 5.0   \n7   São Bernardo do Campo              0             2081                 2.0   \n8                       0              0             2012                 2.0   \n9          Belo Horizonte              0             2110                 5.0   \n10                      0              0             2012                 1.0   \n11             Vila Velha              0             2061                12.0   \n12         Jaraguá do Sul              0             2081                 6.0   \n13         Belo Horizonte              0             2022                 5.0   \n14                  Serra              0             2061                12.0   \n15               Brasília              0             2096                 9.0   \n16                      0              0             2046                 2.0   \n17          Florianópolis              0             2038                11.0   \n18                      0              0             2032                 3.0   \n19         Rio de Janeiro              0             2101                31.0   \n20               Brasília              0             2096                 2.0   \n21                      0              0             2054                 4.0   \n22                      0              0             2195                 1.0   \n23                      0              0             2081                 8.0   \n24   Conselheiro Lafaiete              0             2088                15.0   \n25         Rio de Janeiro              0             2195                 7.0   \n26                      0              0             2038                 5.0   \n27            São Gonçalo              0             2103                 4.0   \n28                      0              0             2044                47.0   \n29          Guaratinguetá              0             2032                 4.0   \n30         Rio de Janeiro              0             2020                35.0   \n31         Belo Horizonte              0             2096                 5.0   \n32          Florianópolis              0             2038                23.0   \n33                      0              0             2032                 2.0   \n34             Uberlândia              0             2061                 5.0   \n35              Fortaleza              0             2046                10.0   \n36               Brasília              0             2096                 7.0   \n37         Rio de Janeiro              0             2119                11.0   \n38                 Maceió              0             2032                 5.0   \n39         Rio de Janeiro              0             2050                 1.0   \n40               Curitiba              0             2012                 1.0   \n41                      0              0             2011                 3.0   \n42                      0              0             2109                10.0   \n43                      0              0             2061                12.0   \n44            Pato Branco              0             2012                22.0   \n45                 Maceió              0             2031                 9.0   \n46                      0              0             2088                20.0   \n47         Rio de Janeiro              0             2101                 9.0   \n48                  Betim              0             2096                16.0   \n49         Rio de Janeiro              0             2116                 5.0   \n\n    ...  fileview_count  fileview_rate  question_count  question_rate  \\\n0   ...            45.0       0.020455             6.0       0.002727   \n1   ...            19.0       0.009035             0.0       0.000000   \n2   ...             7.0       0.003340             0.0       0.000000   \n3   ...             5.0       0.002380             0.0       0.000000   \n4   ...            46.0       0.022319             0.0       0.000000   \n5   ...            10.0       0.004852             0.0       0.000000   \n6   ...             9.0       0.004265             0.0       0.000000   \n7   ...             2.0       0.000961             0.0       0.000000   \n8   ...             3.0       0.001491             0.0       0.000000   \n9   ...             0.0       0.000000             0.0       0.000000   \n10  ...             1.0       0.000497             0.0       0.000000   \n11  ...           183.0       0.088792             0.0       0.000000   \n12  ...             7.0       0.003364             0.0       0.000000   \n13  ...             4.0       0.001978             0.0       0.000000   \n14  ...            38.0       0.018438             0.0       0.000000   \n15  ...            18.0       0.008588             0.0       0.000000   \n16  ...             5.0       0.002444             0.0       0.000000   \n17  ...            15.0       0.007360             0.0       0.000000   \n18  ...             5.0       0.002461             0.0       0.000000   \n19  ...           394.0       0.187530             0.0       0.000000   \n20  ...             0.0       0.000000             0.0       0.000000   \n21  ...            11.0       0.005355             0.0       0.000000   \n22  ...             1.0       0.000456             0.0       0.000000   \n23  ...            19.0       0.009130             0.0       0.000000   \n24  ...            36.0       0.017241             0.0       0.000000   \n25  ...             1.0       0.000456             0.0       0.000000   \n26  ...            24.0       0.011776             0.0       0.000000   \n27  ...             5.0       0.002378             0.0       0.000000   \n28  ...           107.0       0.052348             0.0       0.000000   \n29  ...             2.0       0.000984             0.0       0.000000   \n30  ...            66.0       0.032673             0.0       0.000000   \n31  ...            15.0       0.007156             0.0       0.000000   \n32  ...            36.0       0.017664             0.0       0.000000   \n33  ...             5.0       0.002461             0.0       0.000000   \n34  ...            10.0       0.004852             0.0       0.000000   \n35  ...            22.0       0.010753             0.0       0.000000   \n36  ...            23.0       0.010973             0.0       0.000000   \n37  ...            18.0       0.008495             0.0       0.000000   \n38  ...             7.0       0.003445             0.0       0.000000   \n39  ...             3.0       0.001463             0.0       0.000000   \n40  ...             8.0       0.003976             0.0       0.000000   \n41  ...             0.0       0.000000             0.0       0.000000   \n42  ...            27.0       0.012802             0.0       0.000000   \n43  ...            47.0       0.022804             0.0       0.000000   \n44  ...            66.0       0.032803             0.0       0.000000   \n45  ...           139.0       0.068439             0.0       0.000000   \n46  ...            41.0       0.019636             0.0       0.000000   \n47  ...            11.0       0.005236             0.0       0.000000   \n48  ...            17.0       0.008111             0.0       0.000000   \n49  ...             2.0       0.000945             0.0       0.000000   \n\n          region  mobile  desktop  payment_total  payment_monthly  \\\n0        sudeste       1        1           20.0             18.0   \n1        sudeste       0        1            0.0              0.0   \n2   centro_oeste       0        1            0.0              0.0   \n3        sudeste       0        1            0.0              0.0   \n4             na       0        1            0.0              0.0   \n5        sudeste       0        1            0.0              0.0   \n6        sudeste       0        1            0.0              0.0   \n7        sudeste       0        1            0.0              0.0   \n8             na       0        1            0.0              0.0   \n9        sudeste       0        0            0.0              0.0   \n10            na       0        1            0.0              0.0   \n11       sudeste       0        1            0.0              0.0   \n12           sul       0        1            0.0              0.0   \n13       sudeste       0        1            0.0              0.0   \n14       sudeste       1        1            0.0              0.0   \n15  centro_oeste       1        1            0.0              0.0   \n16       sudeste       0        1            0.0              0.0   \n17           sul       0        1            0.0              0.0   \n18            na       0        1            0.0              0.0   \n19       sudeste       1        1            2.0              2.0   \n20  centro_oeste       0        0            0.0              0.0   \n21       sudeste       0        1            0.0              0.0   \n22       sudeste       0        1            0.0              0.0   \n23            na       0        1            0.0              0.0   \n24       sudeste       0        1            0.0              0.0   \n25       sudeste       1        0            0.0              0.0   \n26            na       1        1            0.0              0.0   \n27       sudeste       0        1            0.0              0.0   \n28       sudeste       1        1            0.0              0.0   \n29       sudeste       0        1            0.0              0.0   \n30       sudeste       0        1            0.0              0.0   \n31       sudeste       1        1            0.0              0.0   \n32           sul       0        1            0.0              0.0   \n33            na       0        1            0.0              0.0   \n34       sudeste       0        1            0.0              0.0   \n35      nordeste       0        1            0.0              0.0   \n36  centro_oeste       1        1            1.0              1.0   \n37       sudeste       0        1            0.0              0.0   \n38      nordeste       0        1            0.0              0.0   \n39       sudeste       0        1            0.0              0.0   \n40           sul       0        1            0.0              0.0   \n41       sudeste       0        0            0.0              0.0   \n42       sudeste       1        1            0.0              0.0   \n43            na       0        1            0.0              0.0   \n44           sul       0        1            0.0              0.0   \n45      nordeste       0        1            0.0              0.0   \n46       sudeste       0        1            0.0              0.0   \n47       sudeste       0        1            0.0              0.0   \n48       sudeste       1        1            0.0              0.0   \n49       sudeste       0        1            0.0              0.0   \n\n    payment_yearly  \n0              2.0  \n1              0.0  \n2              0.0  \n3              0.0  \n4              0.0  \n5              0.0  \n6              0.0  \n7              0.0  \n8              0.0  \n9              0.0  \n10             0.0  \n11             0.0  \n12             0.0  \n13             0.0  \n14             0.0  \n15             0.0  \n16             0.0  \n17             0.0  \n18             0.0  \n19             0.0  \n20             0.0  \n21             0.0  \n22             0.0  \n23             0.0  \n24             0.0  \n25             0.0  \n26             0.0  \n27             0.0  \n28             0.0  \n29             0.0  \n30             0.0  \n31             0.0  \n32             0.0  \n33             0.0  \n34             0.0  \n35             0.0  \n36             0.0  \n37             0.0  \n38             0.0  \n39             0.0  \n40             0.0  \n41             0.0  \n42             0.0  \n43             0.0  \n44             0.0  \n45             0.0  \n46             0.0  \n47             0.0  \n48             0.0  \n49             0.0  \n\n[50 rows x 26 columns]",
      "text/html": "<div>\n<style scoped>\n    .dataframe tbody tr th:only-of-type {\n        vertical-align: middle;\n    }\n\n    .dataframe tbody tr th {\n        vertical-align: top;\n    }\n\n    .dataframe thead th {\n        text-align: right;\n    }\n</style>\n<table border=\"1\" class=\"dataframe\">\n  <thead>\n    <tr style=\"text-align: right;\">\n      <th></th>\n      <th>Id</th>\n      <th>RegisteredDate</th>\n      <th>UniversityName</th>\n      <th>CourseName</th>\n      <th>State</th>\n      <th>SignupSource</th>\n      <th>City</th>\n      <th>StudentClient</th>\n      <th>registered_time</th>\n      <th>usage_weekly_count</th>\n      <th>...</th>\n      <th>fileview_count</th>\n      <th>fileview_rate</th>\n      <th>question_count</th>\n      <th>question_rate</th>\n      <th>region</th>\n      <th>mobile</th>\n      <th>desktop</th>\n      <th>payment_total</th>\n      <th>payment_monthly</th>\n      <th>payment_yearly</th>\n    </tr>\n  </thead>\n  <tbody>\n    <tr>\n      <th>0</th>\n      <td>12970655</td>\n      <td>2012-05-29 15:22:27.490000</td>\n      <td>PUC-RIO</td>\n      <td>Administração</td>\n      <td>Rio de Janeiro</td>\n      <td>Email</td>\n      <td>0</td>\n      <td>0</td>\n      <td>2200</td>\n      <td>46.0</td>\n      <td>...</td>\n      <td>45.0</td>\n      <td>0.020455</td>\n      <td>6.0</td>\n      <td>0.002727</td>\n      <td>sudeste</td>\n      <td>1</td>\n      <td>1</td>\n      <td>20.0</td>\n      <td>18.0</td>\n      <td>2.0</td>\n    </tr>\n    <tr>\n      <th>1</th>\n      <td>59873654</td>\n      <td>2012-09-03 20:32:04.853000</td>\n      <td>UFF</td>\n      <td>Direito do Trabalho e Segurança Social</td>\n      <td>Rio de Janeiro</td>\n      <td>Facebook</td>\n      <td>Rio de Janeiro</td>\n      <td>0</td>\n      <td>2103</td>\n      <td>10.0</td>\n      <td>...</td>\n      <td>19.0</td>\n      <td>0.009035</td>\n      <td>0.0</td>\n      <td>0.000000</td>\n      <td>sudeste</td>\n      <td>0</td>\n      <td>1</td>\n      <td>0.0</td>\n      <td>0.0</td>\n      <td>0.0</td>\n    </tr>\n    <tr>\n      <th>2</th>\n      <td>3664695</td>\n      <td>2012-09-10 20:26:30.253000</td>\n      <td>UNB</td>\n      <td>Enfermagem</td>\n      <td>Distrito Federal</td>\n      <td>Facebook</td>\n      <td>0</td>\n      <td>0</td>\n      <td>2096</td>\n      <td>4.0</td>\n      <td>...</td>\n      <td>7.0</td>\n      <td>0.003340</td>\n      <td>0.0</td>\n      <td>0.000000</td>\n      <td>centro_oeste</td>\n      <td>0</td>\n      <td>1</td>\n      <td>0.0</td>\n      <td>0.0</td>\n      <td>0.0</td>\n    </tr>\n    <tr>\n      <th>3</th>\n      <td>15207697</td>\n      <td>2012-09-05 15:31:08.090000</td>\n      <td>UERJ</td>\n      <td>Engenharia de Produção Mecânica</td>\n      <td>Rio de Janeiro</td>\n      <td>Facebook</td>\n      <td>Resende</td>\n      <td>0</td>\n      <td>2101</td>\n      <td>3.0</td>\n      <td>...</td>\n      <td>5.0</td>\n      <td>0.002380</td>\n      <td>0.0</td>\n      <td>0.000000</td>\n      <td>sudeste</td>\n      <td>0</td>\n      <td>1</td>\n      <td>0.0</td>\n      <td>0.0</td>\n      <td>0.0</td>\n    </tr>\n    <tr>\n      <th>4</th>\n      <td>36988693</td>\n      <td>2012-10-15 21:34:51.143000</td>\n      <td>UFU</td>\n      <td>Engenharia Elétrica</td>\n      <td>0</td>\n      <td>Facebook</td>\n      <td>0</td>\n      <td>0</td>\n      <td>2061</td>\n      <td>21.0</td>\n      <td>...</td>\n      <td>46.0</td>\n      <td>0.022319</td>\n      <td>0.0</td>\n      <td>0.000000</td>\n      <td>na</td>\n      <td>0</td>\n      <td>1</td>\n      <td>0.0</td>\n      <td>0.0</td>\n      <td>0.0</td>\n    </tr>\n    <tr>\n      <th>5</th>\n      <td>1001195</td>\n      <td>2012-10-15 21:35:05.540000</td>\n      <td>UFES</td>\n      <td>Química</td>\n      <td>Espirito Santo</td>\n      <td>Facebook</td>\n      <td>0</td>\n      <td>0</td>\n      <td>2061</td>\n      <td>6.0</td>\n      <td>...</td>\n      <td>10.0</td>\n      <td>0.004852</td>\n      <td>0.0</td>\n      <td>0.000000</td>\n      <td>sudeste</td>\n      <td>0</td>\n      <td>1</td>\n      <td>0.0</td>\n      <td>0.0</td>\n      <td>0.0</td>\n    </tr>\n    <tr>\n      <th>6</th>\n      <td>69894068</td>\n      <td>2012-08-27 14:19:58.723000</td>\n      <td>PUC-MINAS</td>\n      <td>Direito</td>\n      <td>Minas Gerais</td>\n      <td>Facebook</td>\n      <td>Contagem</td>\n      <td>0</td>\n      <td>2110</td>\n      <td>5.0</td>\n      <td>...</td>\n      <td>9.0</td>\n      <td>0.004265</td>\n      <td>0.0</td>\n      <td>0.000000</td>\n      <td>sudeste</td>\n      <td>0</td>\n      <td>1</td>\n      <td>0.0</td>\n      <td>0.0</td>\n      <td>0.0</td>\n    </tr>\n    <tr>\n      <th>7</th>\n      <td>98291487</td>\n      <td>2012-09-26 02:29:32.973000</td>\n      <td>UFABC</td>\n      <td>Engenharia Biomédica</td>\n      <td>São Paulo</td>\n      <td>Facebook</td>\n      <td>São Bernardo do Campo</td>\n      <td>0</td>\n      <td>2081</td>\n      <td>2.0</td>\n      <td>...</td>\n      <td>2.0</td>\n      <td>0.000961</td>\n      <td>0.0</td>\n      <td>0.000000</td>\n      <td>sudeste</td>\n      <td>0</td>\n      <td>1</td>\n      <td>0.0</td>\n      <td>0.0</td>\n      <td>0.0</td>\n    </tr>\n    <tr>\n      <th>8</th>\n      <td>9448057</td>\n      <td>2012-12-03 19:55:03.750000</td>\n      <td>UFSCAR</td>\n      <td>Biotecnologia</td>\n      <td>0</td>\n      <td>Facebook</td>\n      <td>0</td>\n      <td>0</td>\n      <td>2012</td>\n      <td>2.0</td>\n      <td>...</td>\n      <td>3.0</td>\n      <td>0.001491</td>\n      <td>0.0</td>\n      <td>0.000000</td>\n      <td>na</td>\n      <td>0</td>\n      <td>1</td>\n      <td>0.0</td>\n      <td>0.0</td>\n      <td>0.0</td>\n    </tr>\n    <tr>\n      <th>9</th>\n      <td>32843000</td>\n      <td>2012-08-27 15:18:35.750000</td>\n      <td>PUC-MINAS</td>\n      <td>Engenharia Civil</td>\n      <td>Minas Gerais</td>\n      <td>Facebook</td>\n      <td>Belo Horizonte</td>\n      <td>0</td>\n      <td>2110</td>\n      <td>5.0</td>\n      <td>...</td>\n      <td>0.0</td>\n      <td>0.000000</td>\n      <td>0.0</td>\n      <td>0.000000</td>\n      <td>sudeste</td>\n      <td>0</td>\n      <td>0</td>\n      <td>0.0</td>\n      <td>0.0</td>\n      <td>0.0</td>\n    </tr>\n    <tr>\n      <th>10</th>\n      <td>90436208</td>\n      <td>2012-12-03 19:54:25.703000</td>\n      <td>UTFPR</td>\n      <td>Engenharia Civil e Ambiental</td>\n      <td>0</td>\n      <td>Facebook</td>\n      <td>0</td>\n      <td>0</td>\n      <td>2012</td>\n      <td>1.0</td>\n      <td>...</td>\n      <td>1.0</td>\n      <td>0.000497</td>\n      <td>0.0</td>\n      <td>0.000000</td>\n      <td>na</td>\n      <td>0</td>\n      <td>1</td>\n      <td>0.0</td>\n      <td>0.0</td>\n      <td>0.0</td>\n    </tr>\n    <tr>\n      <th>11</th>\n      <td>79936441</td>\n      <td>2012-10-15 21:35:05.540000</td>\n      <td>ESTÁCIO</td>\n      <td>Administração</td>\n      <td>Espirito Santo</td>\n      <td>Facebook</td>\n      <td>Vila Velha</td>\n      <td>0</td>\n      <td>2061</td>\n      <td>12.0</td>\n      <td>...</td>\n      <td>183.0</td>\n      <td>0.088792</td>\n      <td>0.0</td>\n      <td>0.000000</td>\n      <td>sudeste</td>\n      <td>0</td>\n      <td>1</td>\n      <td>0.0</td>\n      <td>0.0</td>\n      <td>0.0</td>\n    </tr>\n    <tr>\n      <th>12</th>\n      <td>96176999</td>\n      <td>2012-09-26 02:29:32.973000</td>\n      <td>UDESC</td>\n      <td>Engenharia Mecânica</td>\n      <td>Santa Catarina</td>\n      <td>Facebook</td>\n      <td>Jaraguá do Sul</td>\n      <td>0</td>\n      <td>2081</td>\n      <td>6.0</td>\n      <td>...</td>\n      <td>7.0</td>\n      <td>0.003364</td>\n      <td>0.0</td>\n      <td>0.000000</td>\n      <td>sul</td>\n      <td>0</td>\n      <td>1</td>\n      <td>0.0</td>\n      <td>0.0</td>\n      <td>0.0</td>\n    </tr>\n    <tr>\n      <th>13</th>\n      <td>53798656</td>\n      <td>2012-11-23 13:21:43.080000</td>\n      <td>UFMG</td>\n      <td>Direito</td>\n      <td>Minas Gerais</td>\n      <td>Facebook</td>\n      <td>Belo Horizonte</td>\n      <td>0</td>\n      <td>2022</td>\n      <td>5.0</td>\n      <td>...</td>\n      <td>4.0</td>\n      <td>0.001978</td>\n      <td>0.0</td>\n      <td>0.000000</td>\n      <td>sudeste</td>\n      <td>0</td>\n      <td>1</td>\n      <td>0.0</td>\n      <td>0.0</td>\n      <td>0.0</td>\n    </tr>\n    <tr>\n      <th>14</th>\n      <td>24387754</td>\n      <td>2012-10-15 21:35:05.540000</td>\n      <td>UFES</td>\n      <td>Economia / Ciências Econômicas</td>\n      <td>Espirito Santo</td>\n      <td>Facebook</td>\n      <td>Serra</td>\n      <td>0</td>\n      <td>2061</td>\n      <td>12.0</td>\n      <td>...</td>\n      <td>38.0</td>\n      <td>0.018438</td>\n      <td>0.0</td>\n      <td>0.000000</td>\n      <td>sudeste</td>\n      <td>1</td>\n      <td>1</td>\n      <td>0.0</td>\n      <td>0.0</td>\n      <td>0.0</td>\n    </tr>\n    <tr>\n      <th>15</th>\n      <td>53779278</td>\n      <td>2012-09-10 20:26:30.253000</td>\n      <td>UNB</td>\n      <td>Física / Ciências Físicas</td>\n      <td>Distrito Federal</td>\n      <td>Facebook</td>\n      <td>Brasília</td>\n      <td>0</td>\n      <td>2096</td>\n      <td>9.0</td>\n      <td>...</td>\n      <td>18.0</td>\n      <td>0.008588</td>\n      <td>0.0</td>\n      <td>0.000000</td>\n      <td>centro_oeste</td>\n      <td>1</td>\n      <td>1</td>\n      <td>0.0</td>\n      <td>0.0</td>\n      <td>0.0</td>\n    </tr>\n    <tr>\n      <th>16</th>\n      <td>45480110</td>\n      <td>2012-10-30 17:13:22.230000</td>\n      <td>ESTÁCIO</td>\n      <td>Direito</td>\n      <td>Rio de Janeiro</td>\n      <td>Facebook</td>\n      <td>0</td>\n      <td>0</td>\n      <td>2046</td>\n      <td>2.0</td>\n      <td>...</td>\n      <td>5.0</td>\n      <td>0.002444</td>\n      <td>0.0</td>\n      <td>0.000000</td>\n      <td>sudeste</td>\n      <td>0</td>\n      <td>1</td>\n      <td>0.0</td>\n      <td>0.0</td>\n      <td>0.0</td>\n    </tr>\n    <tr>\n      <th>17</th>\n      <td>28094453</td>\n      <td>2012-11-07 17:23:27.570000</td>\n      <td>UFSC</td>\n      <td>Engenharia Civil</td>\n      <td>Santa Catarina</td>\n      <td>Facebook</td>\n      <td>Florianópolis</td>\n      <td>0</td>\n      <td>2038</td>\n      <td>11.0</td>\n      <td>...</td>\n      <td>15.0</td>\n      <td>0.007360</td>\n      <td>0.0</td>\n      <td>0.000000</td>\n      <td>sul</td>\n      <td>0</td>\n      <td>1</td>\n      <td>0.0</td>\n      <td>0.0</td>\n      <td>0.0</td>\n    </tr>\n    <tr>\n      <th>18</th>\n      <td>17591347</td>\n      <td>2012-11-13 19:55:27.797000</td>\n      <td>UNESP</td>\n      <td>Engenharia Elétrica</td>\n      <td>0</td>\n      <td>Facebook</td>\n      <td>0</td>\n      <td>0</td>\n      <td>2032</td>\n      <td>3.0</td>\n      <td>...</td>\n      <td>5.0</td>\n      <td>0.002461</td>\n      <td>0.0</td>\n      <td>0.000000</td>\n      <td>na</td>\n      <td>0</td>\n      <td>1</td>\n      <td>0.0</td>\n      <td>0.0</td>\n      <td>0.0</td>\n    </tr>\n    <tr>\n      <th>19</th>\n      <td>36391532</td>\n      <td>2012-09-05 15:31:08.090000</td>\n      <td>UERJ</td>\n      <td>Engenharia Mecânica</td>\n      <td>Rio de Janeiro</td>\n      <td>Facebook</td>\n      <td>Rio de Janeiro</td>\n      <td>0</td>\n      <td>2101</td>\n      <td>31.0</td>\n      <td>...</td>\n      <td>394.0</td>\n      <td>0.187530</td>\n      <td>0.0</td>\n      <td>0.000000</td>\n      <td>sudeste</td>\n      <td>1</td>\n      <td>1</td>\n      <td>2.0</td>\n      <td>2.0</td>\n      <td>0.0</td>\n    </tr>\n    <tr>\n      <th>20</th>\n      <td>36411881</td>\n      <td>2012-09-10 20:26:30.253000</td>\n      <td>UNB</td>\n      <td>Serviço Social</td>\n      <td>Distrito Federal</td>\n      <td>Facebook</td>\n      <td>Brasília</td>\n      <td>0</td>\n      <td>2096</td>\n      <td>2.0</td>\n      <td>...</td>\n      <td>0.0</td>\n      <td>0.000000</td>\n      <td>0.0</td>\n      <td>0.000000</td>\n      <td>centro_oeste</td>\n      <td>0</td>\n      <td>0</td>\n      <td>0.0</td>\n      <td>0.0</td>\n      <td>0.0</td>\n    </tr>\n    <tr>\n      <th>21</th>\n      <td>25474850</td>\n      <td>2012-10-22 21:17:18.210000</td>\n      <td>CUMIH</td>\n      <td>Contabilidade / Ciências Contábeis</td>\n      <td>Minas Gerais</td>\n      <td>Facebook</td>\n      <td>0</td>\n      <td>0</td>\n      <td>2054</td>\n      <td>4.0</td>\n      <td>...</td>\n      <td>11.0</td>\n      <td>0.005355</td>\n      <td>0.0</td>\n      <td>0.000000</td>\n      <td>sudeste</td>\n      <td>0</td>\n      <td>1</td>\n      <td>0.0</td>\n      <td>0.0</td>\n      <td>0.0</td>\n    </tr>\n    <tr>\n      <th>22</th>\n      <td>49007641</td>\n      <td>2012-06-03 22:07:22.060000</td>\n      <td>PUC-RIO</td>\n      <td>Engenharia Civil</td>\n      <td>Rio de Janeiro</td>\n      <td>Facebook</td>\n      <td>0</td>\n      <td>0</td>\n      <td>2195</td>\n      <td>1.0</td>\n      <td>...</td>\n      <td>1.0</td>\n      <td>0.000456</td>\n      <td>0.0</td>\n      <td>0.000000</td>\n      <td>sudeste</td>\n      <td>0</td>\n      <td>1</td>\n      <td>0.0</td>\n      <td>0.0</td>\n      <td>0.0</td>\n    </tr>\n    <tr>\n      <th>23</th>\n      <td>78654666</td>\n      <td>2012-09-26 02:29:32.973000</td>\n      <td>UFMS</td>\n      <td>Medicina</td>\n      <td>0</td>\n      <td>Facebook</td>\n      <td>0</td>\n      <td>0</td>\n      <td>2081</td>\n      <td>8.0</td>\n      <td>...</td>\n      <td>19.0</td>\n      <td>0.009130</td>\n      <td>0.0</td>\n      <td>0.000000</td>\n      <td>na</td>\n      <td>0</td>\n      <td>1</td>\n      <td>0.0</td>\n      <td>0.0</td>\n      <td>0.0</td>\n    </tr>\n    <tr>\n      <th>24</th>\n      <td>34306217</td>\n      <td>2012-09-18 09:53:49.577000</td>\n      <td>UFSJ</td>\n      <td>Engenharia Elétrica</td>\n      <td>Minas Gerais</td>\n      <td>Facebook</td>\n      <td>Conselheiro Lafaiete</td>\n      <td>0</td>\n      <td>2088</td>\n      <td>15.0</td>\n      <td>...</td>\n      <td>36.0</td>\n      <td>0.017241</td>\n      <td>0.0</td>\n      <td>0.000000</td>\n      <td>sudeste</td>\n      <td>0</td>\n      <td>1</td>\n      <td>0.0</td>\n      <td>0.0</td>\n      <td>0.0</td>\n    </tr>\n    <tr>\n      <th>25</th>\n      <td>54137443</td>\n      <td>2012-06-03 22:20:20.683000</td>\n      <td>PUC-RIO</td>\n      <td>Direito</td>\n      <td>Rio de Janeiro</td>\n      <td>Facebook</td>\n      <td>Rio de Janeiro</td>\n      <td>0</td>\n      <td>2195</td>\n      <td>7.0</td>\n      <td>...</td>\n      <td>1.0</td>\n      <td>0.000456</td>\n      <td>0.0</td>\n      <td>0.000000</td>\n      <td>sudeste</td>\n      <td>1</td>\n      <td>0</td>\n      <td>0.0</td>\n      <td>0.0</td>\n      <td>0.0</td>\n    </tr>\n    <tr>\n      <th>26</th>\n      <td>78749370</td>\n      <td>2012-11-07 17:22:39.327000</td>\n      <td>UFG</td>\n      <td>Engenharia Elétrica</td>\n      <td>0</td>\n      <td>Facebook</td>\n      <td>0</td>\n      <td>0</td>\n      <td>2038</td>\n      <td>5.0</td>\n      <td>...</td>\n      <td>24.0</td>\n      <td>0.011776</td>\n      <td>0.0</td>\n      <td>0.000000</td>\n      <td>na</td>\n      <td>1</td>\n      <td>1</td>\n      <td>0.0</td>\n      <td>0.0</td>\n      <td>0.0</td>\n    </tr>\n    <tr>\n      <th>27</th>\n      <td>92740906</td>\n      <td>2012-09-03 20:32:04.853000</td>\n      <td>UFF</td>\n      <td>Engenharia de Produção</td>\n      <td>Rio de Janeiro</td>\n      <td>Facebook</td>\n      <td>São Gonçalo</td>\n      <td>0</td>\n      <td>2103</td>\n      <td>4.0</td>\n      <td>...</td>\n      <td>5.0</td>\n      <td>0.002378</td>\n      <td>0.0</td>\n      <td>0.000000</td>\n      <td>sudeste</td>\n      <td>0</td>\n      <td>1</td>\n      <td>0.0</td>\n      <td>0.0</td>\n      <td>0.0</td>\n    </tr>\n    <tr>\n      <th>28</th>\n      <td>64425672</td>\n      <td>2012-11-01 15:34:36.947000</td>\n      <td>IBMEC</td>\n      <td>Administração</td>\n      <td>Rio de Janeiro</td>\n      <td>Email</td>\n      <td>0</td>\n      <td>0</td>\n      <td>2044</td>\n      <td>47.0</td>\n      <td>...</td>\n      <td>107.0</td>\n      <td>0.052348</td>\n      <td>0.0</td>\n      <td>0.000000</td>\n      <td>sudeste</td>\n      <td>1</td>\n      <td>1</td>\n      <td>0.0</td>\n      <td>0.0</td>\n      <td>0.0</td>\n    </tr>\n    <tr>\n      <th>29</th>\n      <td>2980633</td>\n      <td>2012-11-13 19:55:27.797000</td>\n      <td>UNESP</td>\n      <td>Engenharia Mecânica</td>\n      <td>São Paulo</td>\n      <td>Facebook</td>\n      <td>Guaratinguetá</td>\n      <td>0</td>\n      <td>2032</td>\n      <td>4.0</td>\n      <td>...</td>\n      <td>2.0</td>\n      <td>0.000984</td>\n      <td>0.0</td>\n      <td>0.000000</td>\n      <td>sudeste</td>\n      <td>0</td>\n      <td>1</td>\n      <td>0.0</td>\n      <td>0.0</td>\n      <td>0.0</td>\n    </tr>\n    <tr>\n      <th>30</th>\n      <td>87335743</td>\n      <td>2012-11-25 23:53:31.300000</td>\n      <td>UERJ</td>\n      <td>Engenharia Civil</td>\n      <td>Rio de Janeiro</td>\n      <td>Facebook</td>\n      <td>Rio de Janeiro</td>\n      <td>0</td>\n      <td>2020</td>\n      <td>35.0</td>\n      <td>...</td>\n      <td>66.0</td>\n      <td>0.032673</td>\n      <td>0.0</td>\n      <td>0.000000</td>\n      <td>sudeste</td>\n      <td>0</td>\n      <td>1</td>\n      <td>0.0</td>\n      <td>0.0</td>\n      <td>0.0</td>\n    </tr>\n    <tr>\n      <th>31</th>\n      <td>22106052</td>\n      <td>2012-09-10 20:10:16.910000</td>\n      <td>UFMG</td>\n      <td>Engenharia Civil</td>\n      <td>Minas Gerais</td>\n      <td>Facebook</td>\n      <td>Belo Horizonte</td>\n      <td>0</td>\n      <td>2096</td>\n      <td>5.0</td>\n      <td>...</td>\n      <td>15.0</td>\n      <td>0.007156</td>\n      <td>0.0</td>\n      <td>0.000000</td>\n      <td>sudeste</td>\n      <td>1</td>\n      <td>1</td>\n      <td>0.0</td>\n      <td>0.0</td>\n      <td>0.0</td>\n    </tr>\n    <tr>\n      <th>32</th>\n      <td>85548921</td>\n      <td>2012-11-07 17:23:27.570000</td>\n      <td>UFSC</td>\n      <td>Engenharia Civil</td>\n      <td>Santa Catarina</td>\n      <td>Facebook</td>\n      <td>Florianópolis</td>\n      <td>0</td>\n      <td>2038</td>\n      <td>23.0</td>\n      <td>...</td>\n      <td>36.0</td>\n      <td>0.017664</td>\n      <td>0.0</td>\n      <td>0.000000</td>\n      <td>sul</td>\n      <td>0</td>\n      <td>1</td>\n      <td>0.0</td>\n      <td>0.0</td>\n      <td>0.0</td>\n    </tr>\n    <tr>\n      <th>33</th>\n      <td>64851118</td>\n      <td>2012-11-13 19:55:27.797000</td>\n      <td>UNESP</td>\n      <td>Enfermagem</td>\n      <td>0</td>\n      <td>Facebook</td>\n      <td>0</td>\n      <td>0</td>\n      <td>2032</td>\n      <td>2.0</td>\n      <td>...</td>\n      <td>5.0</td>\n      <td>0.002461</td>\n      <td>0.0</td>\n      <td>0.000000</td>\n      <td>na</td>\n      <td>0</td>\n      <td>1</td>\n      <td>0.0</td>\n      <td>0.0</td>\n      <td>0.0</td>\n    </tr>\n    <tr>\n      <th>34</th>\n      <td>11800151</td>\n      <td>2012-10-15 21:34:51.143000</td>\n      <td>UFU</td>\n      <td>Engenharia de Energia</td>\n      <td>Minas Gerais</td>\n      <td>Email</td>\n      <td>Uberlândia</td>\n      <td>0</td>\n      <td>2061</td>\n      <td>5.0</td>\n      <td>...</td>\n      <td>10.0</td>\n      <td>0.004852</td>\n      <td>0.0</td>\n      <td>0.000000</td>\n      <td>sudeste</td>\n      <td>0</td>\n      <td>1</td>\n      <td>0.0</td>\n      <td>0.0</td>\n      <td>0.0</td>\n    </tr>\n    <tr>\n      <th>35</th>\n      <td>71070911</td>\n      <td>2012-10-30 17:54:28.267000</td>\n      <td>ESTÁCIO</td>\n      <td>Contabilidade / Ciências Contábeis</td>\n      <td>Ceara</td>\n      <td>Email</td>\n      <td>Fortaleza</td>\n      <td>0</td>\n      <td>2046</td>\n      <td>10.0</td>\n      <td>...</td>\n      <td>22.0</td>\n      <td>0.010753</td>\n      <td>0.0</td>\n      <td>0.000000</td>\n      <td>nordeste</td>\n      <td>0</td>\n      <td>1</td>\n      <td>0.0</td>\n      <td>0.0</td>\n      <td>0.0</td>\n    </tr>\n    <tr>\n      <th>36</th>\n      <td>67560047</td>\n      <td>2012-09-10 20:26:30.253000</td>\n      <td>UNICEUB</td>\n      <td>Engenharia Civil</td>\n      <td>Distrito Federal</td>\n      <td>Facebook</td>\n      <td>Brasília</td>\n      <td>0</td>\n      <td>2096</td>\n      <td>7.0</td>\n      <td>...</td>\n      <td>23.0</td>\n      <td>0.010973</td>\n      <td>0.0</td>\n      <td>0.000000</td>\n      <td>centro_oeste</td>\n      <td>1</td>\n      <td>1</td>\n      <td>1.0</td>\n      <td>1.0</td>\n      <td>0.0</td>\n    </tr>\n    <tr>\n      <th>37</th>\n      <td>41139565</td>\n      <td>2012-08-18 10:29:38.600000</td>\n      <td>UFRJ</td>\n      <td>Engenharia Civil</td>\n      <td>Rio de Janeiro</td>\n      <td>Facebook</td>\n      <td>Rio de Janeiro</td>\n      <td>0</td>\n      <td>2119</td>\n      <td>11.0</td>\n      <td>...</td>\n      <td>18.0</td>\n      <td>0.008495</td>\n      <td>0.0</td>\n      <td>0.000000</td>\n      <td>sudeste</td>\n      <td>0</td>\n      <td>1</td>\n      <td>0.0</td>\n      <td>0.0</td>\n      <td>0.0</td>\n    </tr>\n    <tr>\n      <th>38</th>\n      <td>45347951</td>\n      <td>2012-11-13 21:02:05.237000</td>\n      <td>UFAL</td>\n      <td>Engenharia de Petróleo e Gás</td>\n      <td>Alagoas</td>\n      <td>Facebook</td>\n      <td>Maceió</td>\n      <td>0</td>\n      <td>2032</td>\n      <td>5.0</td>\n      <td>...</td>\n      <td>7.0</td>\n      <td>0.003445</td>\n      <td>0.0</td>\n      <td>0.000000</td>\n      <td>nordeste</td>\n      <td>0</td>\n      <td>1</td>\n      <td>0.0</td>\n      <td>0.0</td>\n      <td>0.0</td>\n    </tr>\n    <tr>\n      <th>39</th>\n      <td>93640233</td>\n      <td>2012-10-26 23:20:50.787000</td>\n      <td>ESTÁCIO</td>\n      <td>Direito</td>\n      <td>Rio de Janeiro</td>\n      <td>Facebook</td>\n      <td>Rio de Janeiro</td>\n      <td>0</td>\n      <td>2050</td>\n      <td>1.0</td>\n      <td>...</td>\n      <td>3.0</td>\n      <td>0.001463</td>\n      <td>0.0</td>\n      <td>0.000000</td>\n      <td>sudeste</td>\n      <td>0</td>\n      <td>1</td>\n      <td>0.0</td>\n      <td>0.0</td>\n      <td>0.0</td>\n    </tr>\n    <tr>\n      <th>40</th>\n      <td>54069645</td>\n      <td>2012-12-03 19:54:25.703000</td>\n      <td>UTFPR</td>\n      <td>Engenharia Elétrica</td>\n      <td>Paraná</td>\n      <td>Facebook</td>\n      <td>Curitiba</td>\n      <td>0</td>\n      <td>2012</td>\n      <td>1.0</td>\n      <td>...</td>\n      <td>8.0</td>\n      <td>0.003976</td>\n      <td>0.0</td>\n      <td>0.000000</td>\n      <td>sul</td>\n      <td>0</td>\n      <td>1</td>\n      <td>0.0</td>\n      <td>0.0</td>\n      <td>0.0</td>\n    </tr>\n    <tr>\n      <th>41</th>\n      <td>13752236</td>\n      <td>2012-12-04 06:45:32.040000</td>\n      <td>UGF</td>\n      <td>Engenharia Civil</td>\n      <td>Rio de Janeiro</td>\n      <td>Facebook</td>\n      <td>0</td>\n      <td>0</td>\n      <td>2011</td>\n      <td>3.0</td>\n      <td>...</td>\n      <td>0.0</td>\n      <td>0.000000</td>\n      <td>0.0</td>\n      <td>0.000000</td>\n      <td>sudeste</td>\n      <td>0</td>\n      <td>0</td>\n      <td>0.0</td>\n      <td>0.0</td>\n      <td>0.0</td>\n    </tr>\n    <tr>\n      <th>42</th>\n      <td>15636994</td>\n      <td>2012-08-28 14:33:54.337000</td>\n      <td>UERJ</td>\n      <td>Serviço Social</td>\n      <td>Rio de Janeiro</td>\n      <td>Facebook</td>\n      <td>0</td>\n      <td>0</td>\n      <td>2109</td>\n      <td>10.0</td>\n      <td>...</td>\n      <td>27.0</td>\n      <td>0.012802</td>\n      <td>0.0</td>\n      <td>0.000000</td>\n      <td>sudeste</td>\n      <td>1</td>\n      <td>1</td>\n      <td>0.0</td>\n      <td>0.0</td>\n      <td>0.0</td>\n    </tr>\n    <tr>\n      <th>43</th>\n      <td>44225766</td>\n      <td>2012-10-15 21:35:05.540000</td>\n      <td>FASB</td>\n      <td>Engenharia de Produção</td>\n      <td>0</td>\n      <td>Facebook</td>\n      <td>0</td>\n      <td>0</td>\n      <td>2061</td>\n      <td>12.0</td>\n      <td>...</td>\n      <td>47.0</td>\n      <td>0.022804</td>\n      <td>0.0</td>\n      <td>0.000000</td>\n      <td>na</td>\n      <td>0</td>\n      <td>1</td>\n      <td>0.0</td>\n      <td>0.0</td>\n      <td>0.0</td>\n    </tr>\n    <tr>\n      <th>44</th>\n      <td>53292156</td>\n      <td>2012-12-03 19:54:25.703000</td>\n      <td>UTFPR</td>\n      <td>Engenharia Civil</td>\n      <td>Paraná</td>\n      <td>Email</td>\n      <td>Pato Branco</td>\n      <td>0</td>\n      <td>2012</td>\n      <td>22.0</td>\n      <td>...</td>\n      <td>66.0</td>\n      <td>0.032803</td>\n      <td>0.0</td>\n      <td>0.000000</td>\n      <td>sul</td>\n      <td>0</td>\n      <td>1</td>\n      <td>0.0</td>\n      <td>0.0</td>\n      <td>0.0</td>\n    </tr>\n    <tr>\n      <th>45</th>\n      <td>83570624</td>\n      <td>2012-11-14 17:07:03.290000</td>\n      <td>FAL</td>\n      <td>Administração</td>\n      <td>Alagoas</td>\n      <td>Facebook</td>\n      <td>Maceió</td>\n      <td>0</td>\n      <td>2031</td>\n      <td>9.0</td>\n      <td>...</td>\n      <td>139.0</td>\n      <td>0.068439</td>\n      <td>0.0</td>\n      <td>0.000000</td>\n      <td>nordeste</td>\n      <td>0</td>\n      <td>1</td>\n      <td>0.0</td>\n      <td>0.0</td>\n      <td>0.0</td>\n    </tr>\n    <tr>\n      <th>46</th>\n      <td>78053109</td>\n      <td>2012-09-18 09:53:49.577000</td>\n      <td>UFSJ</td>\n      <td>Engenharia Industrial Mecânica</td>\n      <td>Minas Gerais</td>\n      <td>Facebook</td>\n      <td>0</td>\n      <td>0</td>\n      <td>2088</td>\n      <td>20.0</td>\n      <td>...</td>\n      <td>41.0</td>\n      <td>0.019636</td>\n      <td>0.0</td>\n      <td>0.000000</td>\n      <td>sudeste</td>\n      <td>0</td>\n      <td>1</td>\n      <td>0.0</td>\n      <td>0.0</td>\n      <td>0.0</td>\n    </tr>\n    <tr>\n      <th>47</th>\n      <td>66543418</td>\n      <td>2012-09-05 15:31:08.090000</td>\n      <td>UERJ</td>\n      <td>Geologia</td>\n      <td>Rio de Janeiro</td>\n      <td>Facebook</td>\n      <td>Rio de Janeiro</td>\n      <td>0</td>\n      <td>2101</td>\n      <td>9.0</td>\n      <td>...</td>\n      <td>11.0</td>\n      <td>0.005236</td>\n      <td>0.0</td>\n      <td>0.000000</td>\n      <td>sudeste</td>\n      <td>0</td>\n      <td>1</td>\n      <td>0.0</td>\n      <td>0.0</td>\n      <td>0.0</td>\n    </tr>\n    <tr>\n      <th>48</th>\n      <td>17700168</td>\n      <td>2012-09-10 20:10:16.910000</td>\n      <td>UFMG</td>\n      <td>Engenharia Química</td>\n      <td>Minas Gerais</td>\n      <td>Facebook</td>\n      <td>Betim</td>\n      <td>0</td>\n      <td>2096</td>\n      <td>16.0</td>\n      <td>...</td>\n      <td>17.0</td>\n      <td>0.008111</td>\n      <td>0.0</td>\n      <td>0.000000</td>\n      <td>sudeste</td>\n      <td>1</td>\n      <td>1</td>\n      <td>0.0</td>\n      <td>0.0</td>\n      <td>0.0</td>\n    </tr>\n    <tr>\n      <th>49</th>\n      <td>27201185</td>\n      <td>2012-08-21 20:27:26.697000</td>\n      <td>UFRJ</td>\n      <td>Nutrição</td>\n      <td>Rio de Janeiro</td>\n      <td>Facebook</td>\n      <td>Rio de Janeiro</td>\n      <td>0</td>\n      <td>2116</td>\n      <td>5.0</td>\n      <td>...</td>\n      <td>2.0</td>\n      <td>0.000945</td>\n      <td>0.0</td>\n      <td>0.000000</td>\n      <td>sudeste</td>\n      <td>0</td>\n      <td>1</td>\n      <td>0.0</td>\n      <td>0.0</td>\n      <td>0.0</td>\n    </tr>\n  </tbody>\n</table>\n<p>50 rows × 26 columns</p>\n</div>"
     },
     "execution_count": 143,
     "metadata": {},
     "output_type": "execute_result"
    }
   ],
   "source": [
    "student_usage_sessions_fileViews_question_payment = pd.merge(student_usage_sessions_fileViews_question,\n",
    "                                  df_payment_total,\n",
    "                                  on='StudentId',\n",
    "              how='left')\n",
    "student_usage_sessions_fileViews_question_payment_month = pd.merge(student_usage_sessions_fileViews_question_payment,\n",
    "                                  df_payment_total_mensal,\n",
    "                                  on='StudentId',\n",
    "              how='left')\n",
    "student_usage_sessions_fileViews_question_payment_year = pd.merge(student_usage_sessions_fileViews_question_payment_month,\n",
    "                                  df_payment_total_anual,\n",
    "                                  on='StudentId',\n",
    "              how='left')"
   ],
   "metadata": {
    "collapsed": false,
    "pycharm": {
     "name": "#%%\n"
    }
   }
  },
  {
   "cell_type": "code",
   "execution_count": null,
   "outputs": [],
   "source": [
    "student_usage_sessions_fileViews_question_payment_year_cancellation = pd.merge(student_usage_sessions_fileViews_question_payment_year,\n",
    "                                  cancellation_agg,\n",
    "                                  on='StudentId',\n",
    "              how='left')"
   ],
   "metadata": {
    "collapsed": false,
    "pycharm": {
     "name": "#%%\n"
    }
   }
  },
  {
   "cell_type": "code",
   "execution_count": 158,
   "outputs": [],
   "source": [
    "student_usage_sessions_fileViews_question_payment_year_cancellation_subject = pd.merge(student_usage_sessions_fileViews_question_payment_year_cancellation,\n",
    "                                  subjects_agg,\n",
    "                                  on='StudentId',\n",
    "              how='left')"
   ],
   "metadata": {
    "collapsed": false,
    "pycharm": {
     "name": "#%%\n"
    }
   }
  },
  {
   "cell_type": "code",
   "execution_count": 159,
   "outputs": [
    {
     "data": {
      "text/plain": "          Id              RegisteredDate UniversityName  \\\n0   12970655  2012-05-29 15:22:27.490000        PUC-RIO   \n1   59873654  2012-09-03 20:32:04.853000            UFF   \n2    3664695  2012-09-10 20:26:30.253000            UNB   \n3   15207697  2012-09-05 15:31:08.090000           UERJ   \n4   36988693  2012-10-15 21:34:51.143000            UFU   \n5    1001195  2012-10-15 21:35:05.540000           UFES   \n6   69894068  2012-08-27 14:19:58.723000      PUC-MINAS   \n7   98291487  2012-09-26 02:29:32.973000          UFABC   \n8    9448057  2012-12-03 19:55:03.750000         UFSCAR   \n9   32843000  2012-08-27 15:18:35.750000      PUC-MINAS   \n10  90436208  2012-12-03 19:54:25.703000          UTFPR   \n11  79936441  2012-10-15 21:35:05.540000        ESTÁCIO   \n12  96176999  2012-09-26 02:29:32.973000          UDESC   \n13  53798656  2012-11-23 13:21:43.080000           UFMG   \n14  24387754  2012-10-15 21:35:05.540000           UFES   \n15  53779278  2012-09-10 20:26:30.253000            UNB   \n16  45480110  2012-10-30 17:13:22.230000        ESTÁCIO   \n17  28094453  2012-11-07 17:23:27.570000           UFSC   \n18  17591347  2012-11-13 19:55:27.797000          UNESP   \n19  36391532  2012-09-05 15:31:08.090000           UERJ   \n20  36411881  2012-09-10 20:26:30.253000            UNB   \n21  25474850  2012-10-22 21:17:18.210000          CUMIH   \n22  49007641  2012-06-03 22:07:22.060000        PUC-RIO   \n23  78654666  2012-09-26 02:29:32.973000           UFMS   \n24  34306217  2012-09-18 09:53:49.577000           UFSJ   \n25  54137443  2012-06-03 22:20:20.683000        PUC-RIO   \n26  78749370  2012-11-07 17:22:39.327000            UFG   \n27  92740906  2012-09-03 20:32:04.853000            UFF   \n28  64425672  2012-11-01 15:34:36.947000          IBMEC   \n29   2980633  2012-11-13 19:55:27.797000          UNESP   \n30  87335743  2012-11-25 23:53:31.300000           UERJ   \n31  22106052  2012-09-10 20:10:16.910000           UFMG   \n32  85548921  2012-11-07 17:23:27.570000           UFSC   \n33  64851118  2012-11-13 19:55:27.797000          UNESP   \n34  11800151  2012-10-15 21:34:51.143000            UFU   \n35  71070911  2012-10-30 17:54:28.267000        ESTÁCIO   \n36  67560047  2012-09-10 20:26:30.253000        UNICEUB   \n37  41139565  2012-08-18 10:29:38.600000           UFRJ   \n38  45347951  2012-11-13 21:02:05.237000           UFAL   \n39  93640233  2012-10-26 23:20:50.787000        ESTÁCIO   \n40  54069645  2012-12-03 19:54:25.703000          UTFPR   \n41  13752236  2012-12-04 06:45:32.040000            UGF   \n42  15636994  2012-08-28 14:33:54.337000           UERJ   \n43  44225766  2012-10-15 21:35:05.540000           FASB   \n44  53292156  2012-12-03 19:54:25.703000          UTFPR   \n45  83570624  2012-11-14 17:07:03.290000            FAL   \n46  78053109  2012-09-18 09:53:49.577000           UFSJ   \n47  66543418  2012-09-05 15:31:08.090000           UERJ   \n48  17700168  2012-09-10 20:10:16.910000           UFMG   \n49  27201185  2012-08-21 20:27:26.697000           UFRJ   \n\n                                CourseName             State SignupSource  \\\n0                            Administração    Rio de Janeiro        Email   \n1   Direito do Trabalho e Segurança Social    Rio de Janeiro     Facebook   \n2                               Enfermagem  Distrito Federal     Facebook   \n3          Engenharia de Produção Mecânica    Rio de Janeiro     Facebook   \n4                      Engenharia Elétrica                 0     Facebook   \n5                                  Química    Espirito Santo     Facebook   \n6                                  Direito      Minas Gerais     Facebook   \n7                     Engenharia Biomédica         São Paulo     Facebook   \n8                            Biotecnologia                 0     Facebook   \n9                         Engenharia Civil      Minas Gerais     Facebook   \n10           Engenharia Civil e Ambiental                  0     Facebook   \n11                           Administração    Espirito Santo     Facebook   \n12                     Engenharia Mecânica    Santa Catarina     Facebook   \n13                                 Direito      Minas Gerais     Facebook   \n14          Economia / Ciências Econômicas    Espirito Santo     Facebook   \n15               Física / Ciências Físicas  Distrito Federal     Facebook   \n16                                 Direito    Rio de Janeiro     Facebook   \n17                        Engenharia Civil    Santa Catarina     Facebook   \n18                     Engenharia Elétrica                 0     Facebook   \n19                     Engenharia Mecânica    Rio de Janeiro     Facebook   \n20                          Serviço Social  Distrito Federal     Facebook   \n21      Contabilidade / Ciências Contábeis      Minas Gerais     Facebook   \n22                        Engenharia Civil    Rio de Janeiro     Facebook   \n23                                Medicina                 0     Facebook   \n24                     Engenharia Elétrica      Minas Gerais     Facebook   \n25                                 Direito    Rio de Janeiro     Facebook   \n26                     Engenharia Elétrica                 0     Facebook   \n27                  Engenharia de Produção    Rio de Janeiro     Facebook   \n28                           Administração    Rio de Janeiro        Email   \n29                     Engenharia Mecânica         São Paulo     Facebook   \n30                        Engenharia Civil    Rio de Janeiro     Facebook   \n31                        Engenharia Civil      Minas Gerais     Facebook   \n32                        Engenharia Civil    Santa Catarina     Facebook   \n33                              Enfermagem                 0     Facebook   \n34                   Engenharia de Energia      Minas Gerais        Email   \n35      Contabilidade / Ciências Contábeis             Ceara        Email   \n36                        Engenharia Civil  Distrito Federal     Facebook   \n37                        Engenharia Civil    Rio de Janeiro     Facebook   \n38            Engenharia de Petróleo e Gás           Alagoas     Facebook   \n39                                 Direito    Rio de Janeiro     Facebook   \n40                     Engenharia Elétrica            Paraná     Facebook   \n41                        Engenharia Civil    Rio de Janeiro     Facebook   \n42                          Serviço Social    Rio de Janeiro     Facebook   \n43                  Engenharia de Produção                 0     Facebook   \n44                        Engenharia Civil            Paraná        Email   \n45                           Administração           Alagoas     Facebook   \n46          Engenharia Industrial Mecânica      Minas Gerais     Facebook   \n47                                Geologia    Rio de Janeiro     Facebook   \n48                      Engenharia Química      Minas Gerais     Facebook   \n49                                Nutrição    Rio de Janeiro     Facebook   \n\n                     City  StudentClient  registered_time  usage_weekly_count  \\\n0                       0              0             2200                46.0   \n1          Rio de Janeiro              0             2103                10.0   \n2                       0              0             2096                 4.0   \n3                 Resende              0             2101                 3.0   \n4                       0              0             2061                21.0   \n5                       0              0             2061                 6.0   \n6                Contagem              0             2110                 5.0   \n7   São Bernardo do Campo              0             2081                 2.0   \n8                       0              0             2012                 2.0   \n9          Belo Horizonte              0             2110                 5.0   \n10                      0              0             2012                 1.0   \n11             Vila Velha              0             2061                12.0   \n12         Jaraguá do Sul              0             2081                 6.0   \n13         Belo Horizonte              0             2022                 5.0   \n14                  Serra              0             2061                12.0   \n15               Brasília              0             2096                 9.0   \n16                      0              0             2046                 2.0   \n17          Florianópolis              0             2038                11.0   \n18                      0              0             2032                 3.0   \n19         Rio de Janeiro              0             2101                31.0   \n20               Brasília              0             2096                 2.0   \n21                      0              0             2054                 4.0   \n22                      0              0             2195                 1.0   \n23                      0              0             2081                 8.0   \n24   Conselheiro Lafaiete              0             2088                15.0   \n25         Rio de Janeiro              0             2195                 7.0   \n26                      0              0             2038                 5.0   \n27            São Gonçalo              0             2103                 4.0   \n28                      0              0             2044                47.0   \n29          Guaratinguetá              0             2032                 4.0   \n30         Rio de Janeiro              0             2020                35.0   \n31         Belo Horizonte              0             2096                 5.0   \n32          Florianópolis              0             2038                23.0   \n33                      0              0             2032                 2.0   \n34             Uberlândia              0             2061                 5.0   \n35              Fortaleza              0             2046                10.0   \n36               Brasília              0             2096                 7.0   \n37         Rio de Janeiro              0             2119                11.0   \n38                 Maceió              0             2032                 5.0   \n39         Rio de Janeiro              0             2050                 1.0   \n40               Curitiba              0             2012                 1.0   \n41                      0              0             2011                 3.0   \n42                      0              0             2109                10.0   \n43                      0              0             2061                12.0   \n44            Pato Branco              0             2012                22.0   \n45                 Maceió              0             2031                 9.0   \n46                      0              0             2088                20.0   \n47         Rio de Janeiro              0             2101                 9.0   \n48                  Betim              0             2096                16.0   \n49         Rio de Janeiro              0             2116                 5.0   \n\n    ...  question_count  question_rate        region  mobile  desktop  \\\n0   ...             6.0       0.002727       sudeste       1        1   \n1   ...             0.0       0.000000       sudeste       0        1   \n2   ...             0.0       0.000000  centro_oeste       0        1   \n3   ...             0.0       0.000000       sudeste       0        1   \n4   ...             0.0       0.000000            na       0        1   \n5   ...             0.0       0.000000       sudeste       0        1   \n6   ...             0.0       0.000000       sudeste       0        1   \n7   ...             0.0       0.000000       sudeste       0        1   \n8   ...             0.0       0.000000            na       0        1   \n9   ...             0.0       0.000000       sudeste       0        0   \n10  ...             0.0       0.000000            na       0        1   \n11  ...             0.0       0.000000       sudeste       0        1   \n12  ...             0.0       0.000000           sul       0        1   \n13  ...             0.0       0.000000       sudeste       0        1   \n14  ...             0.0       0.000000       sudeste       1        1   \n15  ...             0.0       0.000000  centro_oeste       1        1   \n16  ...             0.0       0.000000       sudeste       0        1   \n17  ...             0.0       0.000000           sul       0        1   \n18  ...             0.0       0.000000            na       0        1   \n19  ...             0.0       0.000000       sudeste       1        1   \n20  ...             0.0       0.000000  centro_oeste       0        0   \n21  ...             0.0       0.000000       sudeste       0        1   \n22  ...             0.0       0.000000       sudeste       0        1   \n23  ...             0.0       0.000000            na       0        1   \n24  ...             0.0       0.000000       sudeste       0        1   \n25  ...             0.0       0.000000       sudeste       1        0   \n26  ...             0.0       0.000000            na       1        1   \n27  ...             0.0       0.000000       sudeste       0        1   \n28  ...             0.0       0.000000       sudeste       1        1   \n29  ...             0.0       0.000000       sudeste       0        1   \n30  ...             0.0       0.000000       sudeste       0        1   \n31  ...             0.0       0.000000       sudeste       1        1   \n32  ...             0.0       0.000000           sul       0        1   \n33  ...             0.0       0.000000            na       0        1   \n34  ...             0.0       0.000000       sudeste       0        1   \n35  ...             0.0       0.000000      nordeste       0        1   \n36  ...             0.0       0.000000  centro_oeste       1        1   \n37  ...             0.0       0.000000       sudeste       0        1   \n38  ...             0.0       0.000000      nordeste       0        1   \n39  ...             0.0       0.000000       sudeste       0        1   \n40  ...             0.0       0.000000           sul       0        1   \n41  ...             0.0       0.000000       sudeste       0        0   \n42  ...             0.0       0.000000       sudeste       1        1   \n43  ...             0.0       0.000000            na       0        1   \n44  ...             0.0       0.000000           sul       0        1   \n45  ...             0.0       0.000000      nordeste       0        1   \n46  ...             0.0       0.000000       sudeste       0        1   \n47  ...             0.0       0.000000       sudeste       0        1   \n48  ...             0.0       0.000000       sudeste       1        1   \n49  ...             0.0       0.000000       sudeste       0        1   \n\n    payment_total  payment_monthly  payment_yearly  cancelation_count  \\\n0            20.0             18.0             2.0                0.0   \n1             0.0              0.0             0.0                0.0   \n2             0.0              0.0             0.0                0.0   \n3             0.0              0.0             0.0                0.0   \n4             0.0              0.0             0.0                0.0   \n5             0.0              0.0             0.0                0.0   \n6             0.0              0.0             0.0                0.0   \n7             0.0              0.0             0.0                0.0   \n8             0.0              0.0             0.0                0.0   \n9             0.0              0.0             0.0                0.0   \n10            0.0              0.0             0.0                0.0   \n11            0.0              0.0             0.0                0.0   \n12            0.0              0.0             0.0                0.0   \n13            0.0              0.0             0.0                0.0   \n14            0.0              0.0             0.0                0.0   \n15            0.0              0.0             0.0                0.0   \n16            0.0              0.0             0.0                0.0   \n17            0.0              0.0             0.0                0.0   \n18            0.0              0.0             0.0                0.0   \n19            2.0              2.0             0.0                0.0   \n20            0.0              0.0             0.0                0.0   \n21            0.0              0.0             0.0                0.0   \n22            0.0              0.0             0.0                0.0   \n23            0.0              0.0             0.0                0.0   \n24            0.0              0.0             0.0                0.0   \n25            0.0              0.0             0.0                0.0   \n26            0.0              0.0             0.0                0.0   \n27            0.0              0.0             0.0                0.0   \n28            0.0              0.0             0.0                0.0   \n29            0.0              0.0             0.0                0.0   \n30            0.0              0.0             0.0                0.0   \n31            0.0              0.0             0.0                0.0   \n32            0.0              0.0             0.0                0.0   \n33            0.0              0.0             0.0                0.0   \n34            0.0              0.0             0.0                0.0   \n35            0.0              0.0             0.0                0.0   \n36            1.0              1.0             0.0                1.0   \n37            0.0              0.0             0.0                0.0   \n38            0.0              0.0             0.0                0.0   \n39            0.0              0.0             0.0                0.0   \n40            0.0              0.0             0.0                0.0   \n41            0.0              0.0             0.0                0.0   \n42            0.0              0.0             0.0                0.0   \n43            0.0              0.0             0.0                0.0   \n44            0.0              0.0             0.0                0.0   \n45            0.0              0.0             0.0                0.0   \n46            0.0              0.0             0.0                0.0   \n47            0.0              0.0             0.0                0.0   \n48            0.0              0.0             0.0                0.0   \n49            0.0              0.0             0.0                0.0   \n\n    subject_count  \n0             6.0  \n1             5.0  \n2             5.0  \n3             5.0  \n4             5.0  \n5             4.0  \n6             5.0  \n7             0.0  \n8             5.0  \n9            10.0  \n10            5.0  \n11            4.0  \n12            6.0  \n13            5.0  \n14            6.0  \n15            7.0  \n16            5.0  \n17            4.0  \n18            5.0  \n19            4.0  \n20            4.0  \n21            5.0  \n22            5.0  \n23            7.0  \n24            6.0  \n25            5.0  \n26            5.0  \n27            5.0  \n28            6.0  \n29            5.0  \n30            5.0  \n31            5.0  \n32            6.0  \n33            5.0  \n34            6.0  \n35           10.0  \n36            4.0  \n37            5.0  \n38            5.0  \n39            1.0  \n40            5.0  \n41            5.0  \n42            5.0  \n43            5.0  \n44            5.0  \n45            6.0  \n46            5.0  \n47            5.0  \n48            4.0  \n49            6.0  \n\n[50 rows x 28 columns]",
      "text/html": "<div>\n<style scoped>\n    .dataframe tbody tr th:only-of-type {\n        vertical-align: middle;\n    }\n\n    .dataframe tbody tr th {\n        vertical-align: top;\n    }\n\n    .dataframe thead th {\n        text-align: right;\n    }\n</style>\n<table border=\"1\" class=\"dataframe\">\n  <thead>\n    <tr style=\"text-align: right;\">\n      <th></th>\n      <th>Id</th>\n      <th>RegisteredDate</th>\n      <th>UniversityName</th>\n      <th>CourseName</th>\n      <th>State</th>\n      <th>SignupSource</th>\n      <th>City</th>\n      <th>StudentClient</th>\n      <th>registered_time</th>\n      <th>usage_weekly_count</th>\n      <th>...</th>\n      <th>question_count</th>\n      <th>question_rate</th>\n      <th>region</th>\n      <th>mobile</th>\n      <th>desktop</th>\n      <th>payment_total</th>\n      <th>payment_monthly</th>\n      <th>payment_yearly</th>\n      <th>cancelation_count</th>\n      <th>subject_count</th>\n    </tr>\n  </thead>\n  <tbody>\n    <tr>\n      <th>0</th>\n      <td>12970655</td>\n      <td>2012-05-29 15:22:27.490000</td>\n      <td>PUC-RIO</td>\n      <td>Administração</td>\n      <td>Rio de Janeiro</td>\n      <td>Email</td>\n      <td>0</td>\n      <td>0</td>\n      <td>2200</td>\n      <td>46.0</td>\n      <td>...</td>\n      <td>6.0</td>\n      <td>0.002727</td>\n      <td>sudeste</td>\n      <td>1</td>\n      <td>1</td>\n      <td>20.0</td>\n      <td>18.0</td>\n      <td>2.0</td>\n      <td>0.0</td>\n      <td>6.0</td>\n    </tr>\n    <tr>\n      <th>1</th>\n      <td>59873654</td>\n      <td>2012-09-03 20:32:04.853000</td>\n      <td>UFF</td>\n      <td>Direito do Trabalho e Segurança Social</td>\n      <td>Rio de Janeiro</td>\n      <td>Facebook</td>\n      <td>Rio de Janeiro</td>\n      <td>0</td>\n      <td>2103</td>\n      <td>10.0</td>\n      <td>...</td>\n      <td>0.0</td>\n      <td>0.000000</td>\n      <td>sudeste</td>\n      <td>0</td>\n      <td>1</td>\n      <td>0.0</td>\n      <td>0.0</td>\n      <td>0.0</td>\n      <td>0.0</td>\n      <td>5.0</td>\n    </tr>\n    <tr>\n      <th>2</th>\n      <td>3664695</td>\n      <td>2012-09-10 20:26:30.253000</td>\n      <td>UNB</td>\n      <td>Enfermagem</td>\n      <td>Distrito Federal</td>\n      <td>Facebook</td>\n      <td>0</td>\n      <td>0</td>\n      <td>2096</td>\n      <td>4.0</td>\n      <td>...</td>\n      <td>0.0</td>\n      <td>0.000000</td>\n      <td>centro_oeste</td>\n      <td>0</td>\n      <td>1</td>\n      <td>0.0</td>\n      <td>0.0</td>\n      <td>0.0</td>\n      <td>0.0</td>\n      <td>5.0</td>\n    </tr>\n    <tr>\n      <th>3</th>\n      <td>15207697</td>\n      <td>2012-09-05 15:31:08.090000</td>\n      <td>UERJ</td>\n      <td>Engenharia de Produção Mecânica</td>\n      <td>Rio de Janeiro</td>\n      <td>Facebook</td>\n      <td>Resende</td>\n      <td>0</td>\n      <td>2101</td>\n      <td>3.0</td>\n      <td>...</td>\n      <td>0.0</td>\n      <td>0.000000</td>\n      <td>sudeste</td>\n      <td>0</td>\n      <td>1</td>\n      <td>0.0</td>\n      <td>0.0</td>\n      <td>0.0</td>\n      <td>0.0</td>\n      <td>5.0</td>\n    </tr>\n    <tr>\n      <th>4</th>\n      <td>36988693</td>\n      <td>2012-10-15 21:34:51.143000</td>\n      <td>UFU</td>\n      <td>Engenharia Elétrica</td>\n      <td>0</td>\n      <td>Facebook</td>\n      <td>0</td>\n      <td>0</td>\n      <td>2061</td>\n      <td>21.0</td>\n      <td>...</td>\n      <td>0.0</td>\n      <td>0.000000</td>\n      <td>na</td>\n      <td>0</td>\n      <td>1</td>\n      <td>0.0</td>\n      <td>0.0</td>\n      <td>0.0</td>\n      <td>0.0</td>\n      <td>5.0</td>\n    </tr>\n    <tr>\n      <th>5</th>\n      <td>1001195</td>\n      <td>2012-10-15 21:35:05.540000</td>\n      <td>UFES</td>\n      <td>Química</td>\n      <td>Espirito Santo</td>\n      <td>Facebook</td>\n      <td>0</td>\n      <td>0</td>\n      <td>2061</td>\n      <td>6.0</td>\n      <td>...</td>\n      <td>0.0</td>\n      <td>0.000000</td>\n      <td>sudeste</td>\n      <td>0</td>\n      <td>1</td>\n      <td>0.0</td>\n      <td>0.0</td>\n      <td>0.0</td>\n      <td>0.0</td>\n      <td>4.0</td>\n    </tr>\n    <tr>\n      <th>6</th>\n      <td>69894068</td>\n      <td>2012-08-27 14:19:58.723000</td>\n      <td>PUC-MINAS</td>\n      <td>Direito</td>\n      <td>Minas Gerais</td>\n      <td>Facebook</td>\n      <td>Contagem</td>\n      <td>0</td>\n      <td>2110</td>\n      <td>5.0</td>\n      <td>...</td>\n      <td>0.0</td>\n      <td>0.000000</td>\n      <td>sudeste</td>\n      <td>0</td>\n      <td>1</td>\n      <td>0.0</td>\n      <td>0.0</td>\n      <td>0.0</td>\n      <td>0.0</td>\n      <td>5.0</td>\n    </tr>\n    <tr>\n      <th>7</th>\n      <td>98291487</td>\n      <td>2012-09-26 02:29:32.973000</td>\n      <td>UFABC</td>\n      <td>Engenharia Biomédica</td>\n      <td>São Paulo</td>\n      <td>Facebook</td>\n      <td>São Bernardo do Campo</td>\n      <td>0</td>\n      <td>2081</td>\n      <td>2.0</td>\n      <td>...</td>\n      <td>0.0</td>\n      <td>0.000000</td>\n      <td>sudeste</td>\n      <td>0</td>\n      <td>1</td>\n      <td>0.0</td>\n      <td>0.0</td>\n      <td>0.0</td>\n      <td>0.0</td>\n      <td>0.0</td>\n    </tr>\n    <tr>\n      <th>8</th>\n      <td>9448057</td>\n      <td>2012-12-03 19:55:03.750000</td>\n      <td>UFSCAR</td>\n      <td>Biotecnologia</td>\n      <td>0</td>\n      <td>Facebook</td>\n      <td>0</td>\n      <td>0</td>\n      <td>2012</td>\n      <td>2.0</td>\n      <td>...</td>\n      <td>0.0</td>\n      <td>0.000000</td>\n      <td>na</td>\n      <td>0</td>\n      <td>1</td>\n      <td>0.0</td>\n      <td>0.0</td>\n      <td>0.0</td>\n      <td>0.0</td>\n      <td>5.0</td>\n    </tr>\n    <tr>\n      <th>9</th>\n      <td>32843000</td>\n      <td>2012-08-27 15:18:35.750000</td>\n      <td>PUC-MINAS</td>\n      <td>Engenharia Civil</td>\n      <td>Minas Gerais</td>\n      <td>Facebook</td>\n      <td>Belo Horizonte</td>\n      <td>0</td>\n      <td>2110</td>\n      <td>5.0</td>\n      <td>...</td>\n      <td>0.0</td>\n      <td>0.000000</td>\n      <td>sudeste</td>\n      <td>0</td>\n      <td>0</td>\n      <td>0.0</td>\n      <td>0.0</td>\n      <td>0.0</td>\n      <td>0.0</td>\n      <td>10.0</td>\n    </tr>\n    <tr>\n      <th>10</th>\n      <td>90436208</td>\n      <td>2012-12-03 19:54:25.703000</td>\n      <td>UTFPR</td>\n      <td>Engenharia Civil e Ambiental</td>\n      <td>0</td>\n      <td>Facebook</td>\n      <td>0</td>\n      <td>0</td>\n      <td>2012</td>\n      <td>1.0</td>\n      <td>...</td>\n      <td>0.0</td>\n      <td>0.000000</td>\n      <td>na</td>\n      <td>0</td>\n      <td>1</td>\n      <td>0.0</td>\n      <td>0.0</td>\n      <td>0.0</td>\n      <td>0.0</td>\n      <td>5.0</td>\n    </tr>\n    <tr>\n      <th>11</th>\n      <td>79936441</td>\n      <td>2012-10-15 21:35:05.540000</td>\n      <td>ESTÁCIO</td>\n      <td>Administração</td>\n      <td>Espirito Santo</td>\n      <td>Facebook</td>\n      <td>Vila Velha</td>\n      <td>0</td>\n      <td>2061</td>\n      <td>12.0</td>\n      <td>...</td>\n      <td>0.0</td>\n      <td>0.000000</td>\n      <td>sudeste</td>\n      <td>0</td>\n      <td>1</td>\n      <td>0.0</td>\n      <td>0.0</td>\n      <td>0.0</td>\n      <td>0.0</td>\n      <td>4.0</td>\n    </tr>\n    <tr>\n      <th>12</th>\n      <td>96176999</td>\n      <td>2012-09-26 02:29:32.973000</td>\n      <td>UDESC</td>\n      <td>Engenharia Mecânica</td>\n      <td>Santa Catarina</td>\n      <td>Facebook</td>\n      <td>Jaraguá do Sul</td>\n      <td>0</td>\n      <td>2081</td>\n      <td>6.0</td>\n      <td>...</td>\n      <td>0.0</td>\n      <td>0.000000</td>\n      <td>sul</td>\n      <td>0</td>\n      <td>1</td>\n      <td>0.0</td>\n      <td>0.0</td>\n      <td>0.0</td>\n      <td>0.0</td>\n      <td>6.0</td>\n    </tr>\n    <tr>\n      <th>13</th>\n      <td>53798656</td>\n      <td>2012-11-23 13:21:43.080000</td>\n      <td>UFMG</td>\n      <td>Direito</td>\n      <td>Minas Gerais</td>\n      <td>Facebook</td>\n      <td>Belo Horizonte</td>\n      <td>0</td>\n      <td>2022</td>\n      <td>5.0</td>\n      <td>...</td>\n      <td>0.0</td>\n      <td>0.000000</td>\n      <td>sudeste</td>\n      <td>0</td>\n      <td>1</td>\n      <td>0.0</td>\n      <td>0.0</td>\n      <td>0.0</td>\n      <td>0.0</td>\n      <td>5.0</td>\n    </tr>\n    <tr>\n      <th>14</th>\n      <td>24387754</td>\n      <td>2012-10-15 21:35:05.540000</td>\n      <td>UFES</td>\n      <td>Economia / Ciências Econômicas</td>\n      <td>Espirito Santo</td>\n      <td>Facebook</td>\n      <td>Serra</td>\n      <td>0</td>\n      <td>2061</td>\n      <td>12.0</td>\n      <td>...</td>\n      <td>0.0</td>\n      <td>0.000000</td>\n      <td>sudeste</td>\n      <td>1</td>\n      <td>1</td>\n      <td>0.0</td>\n      <td>0.0</td>\n      <td>0.0</td>\n      <td>0.0</td>\n      <td>6.0</td>\n    </tr>\n    <tr>\n      <th>15</th>\n      <td>53779278</td>\n      <td>2012-09-10 20:26:30.253000</td>\n      <td>UNB</td>\n      <td>Física / Ciências Físicas</td>\n      <td>Distrito Federal</td>\n      <td>Facebook</td>\n      <td>Brasília</td>\n      <td>0</td>\n      <td>2096</td>\n      <td>9.0</td>\n      <td>...</td>\n      <td>0.0</td>\n      <td>0.000000</td>\n      <td>centro_oeste</td>\n      <td>1</td>\n      <td>1</td>\n      <td>0.0</td>\n      <td>0.0</td>\n      <td>0.0</td>\n      <td>0.0</td>\n      <td>7.0</td>\n    </tr>\n    <tr>\n      <th>16</th>\n      <td>45480110</td>\n      <td>2012-10-30 17:13:22.230000</td>\n      <td>ESTÁCIO</td>\n      <td>Direito</td>\n      <td>Rio de Janeiro</td>\n      <td>Facebook</td>\n      <td>0</td>\n      <td>0</td>\n      <td>2046</td>\n      <td>2.0</td>\n      <td>...</td>\n      <td>0.0</td>\n      <td>0.000000</td>\n      <td>sudeste</td>\n      <td>0</td>\n      <td>1</td>\n      <td>0.0</td>\n      <td>0.0</td>\n      <td>0.0</td>\n      <td>0.0</td>\n      <td>5.0</td>\n    </tr>\n    <tr>\n      <th>17</th>\n      <td>28094453</td>\n      <td>2012-11-07 17:23:27.570000</td>\n      <td>UFSC</td>\n      <td>Engenharia Civil</td>\n      <td>Santa Catarina</td>\n      <td>Facebook</td>\n      <td>Florianópolis</td>\n      <td>0</td>\n      <td>2038</td>\n      <td>11.0</td>\n      <td>...</td>\n      <td>0.0</td>\n      <td>0.000000</td>\n      <td>sul</td>\n      <td>0</td>\n      <td>1</td>\n      <td>0.0</td>\n      <td>0.0</td>\n      <td>0.0</td>\n      <td>0.0</td>\n      <td>4.0</td>\n    </tr>\n    <tr>\n      <th>18</th>\n      <td>17591347</td>\n      <td>2012-11-13 19:55:27.797000</td>\n      <td>UNESP</td>\n      <td>Engenharia Elétrica</td>\n      <td>0</td>\n      <td>Facebook</td>\n      <td>0</td>\n      <td>0</td>\n      <td>2032</td>\n      <td>3.0</td>\n      <td>...</td>\n      <td>0.0</td>\n      <td>0.000000</td>\n      <td>na</td>\n      <td>0</td>\n      <td>1</td>\n      <td>0.0</td>\n      <td>0.0</td>\n      <td>0.0</td>\n      <td>0.0</td>\n      <td>5.0</td>\n    </tr>\n    <tr>\n      <th>19</th>\n      <td>36391532</td>\n      <td>2012-09-05 15:31:08.090000</td>\n      <td>UERJ</td>\n      <td>Engenharia Mecânica</td>\n      <td>Rio de Janeiro</td>\n      <td>Facebook</td>\n      <td>Rio de Janeiro</td>\n      <td>0</td>\n      <td>2101</td>\n      <td>31.0</td>\n      <td>...</td>\n      <td>0.0</td>\n      <td>0.000000</td>\n      <td>sudeste</td>\n      <td>1</td>\n      <td>1</td>\n      <td>2.0</td>\n      <td>2.0</td>\n      <td>0.0</td>\n      <td>0.0</td>\n      <td>4.0</td>\n    </tr>\n    <tr>\n      <th>20</th>\n      <td>36411881</td>\n      <td>2012-09-10 20:26:30.253000</td>\n      <td>UNB</td>\n      <td>Serviço Social</td>\n      <td>Distrito Federal</td>\n      <td>Facebook</td>\n      <td>Brasília</td>\n      <td>0</td>\n      <td>2096</td>\n      <td>2.0</td>\n      <td>...</td>\n      <td>0.0</td>\n      <td>0.000000</td>\n      <td>centro_oeste</td>\n      <td>0</td>\n      <td>0</td>\n      <td>0.0</td>\n      <td>0.0</td>\n      <td>0.0</td>\n      <td>0.0</td>\n      <td>4.0</td>\n    </tr>\n    <tr>\n      <th>21</th>\n      <td>25474850</td>\n      <td>2012-10-22 21:17:18.210000</td>\n      <td>CUMIH</td>\n      <td>Contabilidade / Ciências Contábeis</td>\n      <td>Minas Gerais</td>\n      <td>Facebook</td>\n      <td>0</td>\n      <td>0</td>\n      <td>2054</td>\n      <td>4.0</td>\n      <td>...</td>\n      <td>0.0</td>\n      <td>0.000000</td>\n      <td>sudeste</td>\n      <td>0</td>\n      <td>1</td>\n      <td>0.0</td>\n      <td>0.0</td>\n      <td>0.0</td>\n      <td>0.0</td>\n      <td>5.0</td>\n    </tr>\n    <tr>\n      <th>22</th>\n      <td>49007641</td>\n      <td>2012-06-03 22:07:22.060000</td>\n      <td>PUC-RIO</td>\n      <td>Engenharia Civil</td>\n      <td>Rio de Janeiro</td>\n      <td>Facebook</td>\n      <td>0</td>\n      <td>0</td>\n      <td>2195</td>\n      <td>1.0</td>\n      <td>...</td>\n      <td>0.0</td>\n      <td>0.000000</td>\n      <td>sudeste</td>\n      <td>0</td>\n      <td>1</td>\n      <td>0.0</td>\n      <td>0.0</td>\n      <td>0.0</td>\n      <td>0.0</td>\n      <td>5.0</td>\n    </tr>\n    <tr>\n      <th>23</th>\n      <td>78654666</td>\n      <td>2012-09-26 02:29:32.973000</td>\n      <td>UFMS</td>\n      <td>Medicina</td>\n      <td>0</td>\n      <td>Facebook</td>\n      <td>0</td>\n      <td>0</td>\n      <td>2081</td>\n      <td>8.0</td>\n      <td>...</td>\n      <td>0.0</td>\n      <td>0.000000</td>\n      <td>na</td>\n      <td>0</td>\n      <td>1</td>\n      <td>0.0</td>\n      <td>0.0</td>\n      <td>0.0</td>\n      <td>0.0</td>\n      <td>7.0</td>\n    </tr>\n    <tr>\n      <th>24</th>\n      <td>34306217</td>\n      <td>2012-09-18 09:53:49.577000</td>\n      <td>UFSJ</td>\n      <td>Engenharia Elétrica</td>\n      <td>Minas Gerais</td>\n      <td>Facebook</td>\n      <td>Conselheiro Lafaiete</td>\n      <td>0</td>\n      <td>2088</td>\n      <td>15.0</td>\n      <td>...</td>\n      <td>0.0</td>\n      <td>0.000000</td>\n      <td>sudeste</td>\n      <td>0</td>\n      <td>1</td>\n      <td>0.0</td>\n      <td>0.0</td>\n      <td>0.0</td>\n      <td>0.0</td>\n      <td>6.0</td>\n    </tr>\n    <tr>\n      <th>25</th>\n      <td>54137443</td>\n      <td>2012-06-03 22:20:20.683000</td>\n      <td>PUC-RIO</td>\n      <td>Direito</td>\n      <td>Rio de Janeiro</td>\n      <td>Facebook</td>\n      <td>Rio de Janeiro</td>\n      <td>0</td>\n      <td>2195</td>\n      <td>7.0</td>\n      <td>...</td>\n      <td>0.0</td>\n      <td>0.000000</td>\n      <td>sudeste</td>\n      <td>1</td>\n      <td>0</td>\n      <td>0.0</td>\n      <td>0.0</td>\n      <td>0.0</td>\n      <td>0.0</td>\n      <td>5.0</td>\n    </tr>\n    <tr>\n      <th>26</th>\n      <td>78749370</td>\n      <td>2012-11-07 17:22:39.327000</td>\n      <td>UFG</td>\n      <td>Engenharia Elétrica</td>\n      <td>0</td>\n      <td>Facebook</td>\n      <td>0</td>\n      <td>0</td>\n      <td>2038</td>\n      <td>5.0</td>\n      <td>...</td>\n      <td>0.0</td>\n      <td>0.000000</td>\n      <td>na</td>\n      <td>1</td>\n      <td>1</td>\n      <td>0.0</td>\n      <td>0.0</td>\n      <td>0.0</td>\n      <td>0.0</td>\n      <td>5.0</td>\n    </tr>\n    <tr>\n      <th>27</th>\n      <td>92740906</td>\n      <td>2012-09-03 20:32:04.853000</td>\n      <td>UFF</td>\n      <td>Engenharia de Produção</td>\n      <td>Rio de Janeiro</td>\n      <td>Facebook</td>\n      <td>São Gonçalo</td>\n      <td>0</td>\n      <td>2103</td>\n      <td>4.0</td>\n      <td>...</td>\n      <td>0.0</td>\n      <td>0.000000</td>\n      <td>sudeste</td>\n      <td>0</td>\n      <td>1</td>\n      <td>0.0</td>\n      <td>0.0</td>\n      <td>0.0</td>\n      <td>0.0</td>\n      <td>5.0</td>\n    </tr>\n    <tr>\n      <th>28</th>\n      <td>64425672</td>\n      <td>2012-11-01 15:34:36.947000</td>\n      <td>IBMEC</td>\n      <td>Administração</td>\n      <td>Rio de Janeiro</td>\n      <td>Email</td>\n      <td>0</td>\n      <td>0</td>\n      <td>2044</td>\n      <td>47.0</td>\n      <td>...</td>\n      <td>0.0</td>\n      <td>0.000000</td>\n      <td>sudeste</td>\n      <td>1</td>\n      <td>1</td>\n      <td>0.0</td>\n      <td>0.0</td>\n      <td>0.0</td>\n      <td>0.0</td>\n      <td>6.0</td>\n    </tr>\n    <tr>\n      <th>29</th>\n      <td>2980633</td>\n      <td>2012-11-13 19:55:27.797000</td>\n      <td>UNESP</td>\n      <td>Engenharia Mecânica</td>\n      <td>São Paulo</td>\n      <td>Facebook</td>\n      <td>Guaratinguetá</td>\n      <td>0</td>\n      <td>2032</td>\n      <td>4.0</td>\n      <td>...</td>\n      <td>0.0</td>\n      <td>0.000000</td>\n      <td>sudeste</td>\n      <td>0</td>\n      <td>1</td>\n      <td>0.0</td>\n      <td>0.0</td>\n      <td>0.0</td>\n      <td>0.0</td>\n      <td>5.0</td>\n    </tr>\n    <tr>\n      <th>30</th>\n      <td>87335743</td>\n      <td>2012-11-25 23:53:31.300000</td>\n      <td>UERJ</td>\n      <td>Engenharia Civil</td>\n      <td>Rio de Janeiro</td>\n      <td>Facebook</td>\n      <td>Rio de Janeiro</td>\n      <td>0</td>\n      <td>2020</td>\n      <td>35.0</td>\n      <td>...</td>\n      <td>0.0</td>\n      <td>0.000000</td>\n      <td>sudeste</td>\n      <td>0</td>\n      <td>1</td>\n      <td>0.0</td>\n      <td>0.0</td>\n      <td>0.0</td>\n      <td>0.0</td>\n      <td>5.0</td>\n    </tr>\n    <tr>\n      <th>31</th>\n      <td>22106052</td>\n      <td>2012-09-10 20:10:16.910000</td>\n      <td>UFMG</td>\n      <td>Engenharia Civil</td>\n      <td>Minas Gerais</td>\n      <td>Facebook</td>\n      <td>Belo Horizonte</td>\n      <td>0</td>\n      <td>2096</td>\n      <td>5.0</td>\n      <td>...</td>\n      <td>0.0</td>\n      <td>0.000000</td>\n      <td>sudeste</td>\n      <td>1</td>\n      <td>1</td>\n      <td>0.0</td>\n      <td>0.0</td>\n      <td>0.0</td>\n      <td>0.0</td>\n      <td>5.0</td>\n    </tr>\n    <tr>\n      <th>32</th>\n      <td>85548921</td>\n      <td>2012-11-07 17:23:27.570000</td>\n      <td>UFSC</td>\n      <td>Engenharia Civil</td>\n      <td>Santa Catarina</td>\n      <td>Facebook</td>\n      <td>Florianópolis</td>\n      <td>0</td>\n      <td>2038</td>\n      <td>23.0</td>\n      <td>...</td>\n      <td>0.0</td>\n      <td>0.000000</td>\n      <td>sul</td>\n      <td>0</td>\n      <td>1</td>\n      <td>0.0</td>\n      <td>0.0</td>\n      <td>0.0</td>\n      <td>0.0</td>\n      <td>6.0</td>\n    </tr>\n    <tr>\n      <th>33</th>\n      <td>64851118</td>\n      <td>2012-11-13 19:55:27.797000</td>\n      <td>UNESP</td>\n      <td>Enfermagem</td>\n      <td>0</td>\n      <td>Facebook</td>\n      <td>0</td>\n      <td>0</td>\n      <td>2032</td>\n      <td>2.0</td>\n      <td>...</td>\n      <td>0.0</td>\n      <td>0.000000</td>\n      <td>na</td>\n      <td>0</td>\n      <td>1</td>\n      <td>0.0</td>\n      <td>0.0</td>\n      <td>0.0</td>\n      <td>0.0</td>\n      <td>5.0</td>\n    </tr>\n    <tr>\n      <th>34</th>\n      <td>11800151</td>\n      <td>2012-10-15 21:34:51.143000</td>\n      <td>UFU</td>\n      <td>Engenharia de Energia</td>\n      <td>Minas Gerais</td>\n      <td>Email</td>\n      <td>Uberlândia</td>\n      <td>0</td>\n      <td>2061</td>\n      <td>5.0</td>\n      <td>...</td>\n      <td>0.0</td>\n      <td>0.000000</td>\n      <td>sudeste</td>\n      <td>0</td>\n      <td>1</td>\n      <td>0.0</td>\n      <td>0.0</td>\n      <td>0.0</td>\n      <td>0.0</td>\n      <td>6.0</td>\n    </tr>\n    <tr>\n      <th>35</th>\n      <td>71070911</td>\n      <td>2012-10-30 17:54:28.267000</td>\n      <td>ESTÁCIO</td>\n      <td>Contabilidade / Ciências Contábeis</td>\n      <td>Ceara</td>\n      <td>Email</td>\n      <td>Fortaleza</td>\n      <td>0</td>\n      <td>2046</td>\n      <td>10.0</td>\n      <td>...</td>\n      <td>0.0</td>\n      <td>0.000000</td>\n      <td>nordeste</td>\n      <td>0</td>\n      <td>1</td>\n      <td>0.0</td>\n      <td>0.0</td>\n      <td>0.0</td>\n      <td>0.0</td>\n      <td>10.0</td>\n    </tr>\n    <tr>\n      <th>36</th>\n      <td>67560047</td>\n      <td>2012-09-10 20:26:30.253000</td>\n      <td>UNICEUB</td>\n      <td>Engenharia Civil</td>\n      <td>Distrito Federal</td>\n      <td>Facebook</td>\n      <td>Brasília</td>\n      <td>0</td>\n      <td>2096</td>\n      <td>7.0</td>\n      <td>...</td>\n      <td>0.0</td>\n      <td>0.000000</td>\n      <td>centro_oeste</td>\n      <td>1</td>\n      <td>1</td>\n      <td>1.0</td>\n      <td>1.0</td>\n      <td>0.0</td>\n      <td>1.0</td>\n      <td>4.0</td>\n    </tr>\n    <tr>\n      <th>37</th>\n      <td>41139565</td>\n      <td>2012-08-18 10:29:38.600000</td>\n      <td>UFRJ</td>\n      <td>Engenharia Civil</td>\n      <td>Rio de Janeiro</td>\n      <td>Facebook</td>\n      <td>Rio de Janeiro</td>\n      <td>0</td>\n      <td>2119</td>\n      <td>11.0</td>\n      <td>...</td>\n      <td>0.0</td>\n      <td>0.000000</td>\n      <td>sudeste</td>\n      <td>0</td>\n      <td>1</td>\n      <td>0.0</td>\n      <td>0.0</td>\n      <td>0.0</td>\n      <td>0.0</td>\n      <td>5.0</td>\n    </tr>\n    <tr>\n      <th>38</th>\n      <td>45347951</td>\n      <td>2012-11-13 21:02:05.237000</td>\n      <td>UFAL</td>\n      <td>Engenharia de Petróleo e Gás</td>\n      <td>Alagoas</td>\n      <td>Facebook</td>\n      <td>Maceió</td>\n      <td>0</td>\n      <td>2032</td>\n      <td>5.0</td>\n      <td>...</td>\n      <td>0.0</td>\n      <td>0.000000</td>\n      <td>nordeste</td>\n      <td>0</td>\n      <td>1</td>\n      <td>0.0</td>\n      <td>0.0</td>\n      <td>0.0</td>\n      <td>0.0</td>\n      <td>5.0</td>\n    </tr>\n    <tr>\n      <th>39</th>\n      <td>93640233</td>\n      <td>2012-10-26 23:20:50.787000</td>\n      <td>ESTÁCIO</td>\n      <td>Direito</td>\n      <td>Rio de Janeiro</td>\n      <td>Facebook</td>\n      <td>Rio de Janeiro</td>\n      <td>0</td>\n      <td>2050</td>\n      <td>1.0</td>\n      <td>...</td>\n      <td>0.0</td>\n      <td>0.000000</td>\n      <td>sudeste</td>\n      <td>0</td>\n      <td>1</td>\n      <td>0.0</td>\n      <td>0.0</td>\n      <td>0.0</td>\n      <td>0.0</td>\n      <td>1.0</td>\n    </tr>\n    <tr>\n      <th>40</th>\n      <td>54069645</td>\n      <td>2012-12-03 19:54:25.703000</td>\n      <td>UTFPR</td>\n      <td>Engenharia Elétrica</td>\n      <td>Paraná</td>\n      <td>Facebook</td>\n      <td>Curitiba</td>\n      <td>0</td>\n      <td>2012</td>\n      <td>1.0</td>\n      <td>...</td>\n      <td>0.0</td>\n      <td>0.000000</td>\n      <td>sul</td>\n      <td>0</td>\n      <td>1</td>\n      <td>0.0</td>\n      <td>0.0</td>\n      <td>0.0</td>\n      <td>0.0</td>\n      <td>5.0</td>\n    </tr>\n    <tr>\n      <th>41</th>\n      <td>13752236</td>\n      <td>2012-12-04 06:45:32.040000</td>\n      <td>UGF</td>\n      <td>Engenharia Civil</td>\n      <td>Rio de Janeiro</td>\n      <td>Facebook</td>\n      <td>0</td>\n      <td>0</td>\n      <td>2011</td>\n      <td>3.0</td>\n      <td>...</td>\n      <td>0.0</td>\n      <td>0.000000</td>\n      <td>sudeste</td>\n      <td>0</td>\n      <td>0</td>\n      <td>0.0</td>\n      <td>0.0</td>\n      <td>0.0</td>\n      <td>0.0</td>\n      <td>5.0</td>\n    </tr>\n    <tr>\n      <th>42</th>\n      <td>15636994</td>\n      <td>2012-08-28 14:33:54.337000</td>\n      <td>UERJ</td>\n      <td>Serviço Social</td>\n      <td>Rio de Janeiro</td>\n      <td>Facebook</td>\n      <td>0</td>\n      <td>0</td>\n      <td>2109</td>\n      <td>10.0</td>\n      <td>...</td>\n      <td>0.0</td>\n      <td>0.000000</td>\n      <td>sudeste</td>\n      <td>1</td>\n      <td>1</td>\n      <td>0.0</td>\n      <td>0.0</td>\n      <td>0.0</td>\n      <td>0.0</td>\n      <td>5.0</td>\n    </tr>\n    <tr>\n      <th>43</th>\n      <td>44225766</td>\n      <td>2012-10-15 21:35:05.540000</td>\n      <td>FASB</td>\n      <td>Engenharia de Produção</td>\n      <td>0</td>\n      <td>Facebook</td>\n      <td>0</td>\n      <td>0</td>\n      <td>2061</td>\n      <td>12.0</td>\n      <td>...</td>\n      <td>0.0</td>\n      <td>0.000000</td>\n      <td>na</td>\n      <td>0</td>\n      <td>1</td>\n      <td>0.0</td>\n      <td>0.0</td>\n      <td>0.0</td>\n      <td>0.0</td>\n      <td>5.0</td>\n    </tr>\n    <tr>\n      <th>44</th>\n      <td>53292156</td>\n      <td>2012-12-03 19:54:25.703000</td>\n      <td>UTFPR</td>\n      <td>Engenharia Civil</td>\n      <td>Paraná</td>\n      <td>Email</td>\n      <td>Pato Branco</td>\n      <td>0</td>\n      <td>2012</td>\n      <td>22.0</td>\n      <td>...</td>\n      <td>0.0</td>\n      <td>0.000000</td>\n      <td>sul</td>\n      <td>0</td>\n      <td>1</td>\n      <td>0.0</td>\n      <td>0.0</td>\n      <td>0.0</td>\n      <td>0.0</td>\n      <td>5.0</td>\n    </tr>\n    <tr>\n      <th>45</th>\n      <td>83570624</td>\n      <td>2012-11-14 17:07:03.290000</td>\n      <td>FAL</td>\n      <td>Administração</td>\n      <td>Alagoas</td>\n      <td>Facebook</td>\n      <td>Maceió</td>\n      <td>0</td>\n      <td>2031</td>\n      <td>9.0</td>\n      <td>...</td>\n      <td>0.0</td>\n      <td>0.000000</td>\n      <td>nordeste</td>\n      <td>0</td>\n      <td>1</td>\n      <td>0.0</td>\n      <td>0.0</td>\n      <td>0.0</td>\n      <td>0.0</td>\n      <td>6.0</td>\n    </tr>\n    <tr>\n      <th>46</th>\n      <td>78053109</td>\n      <td>2012-09-18 09:53:49.577000</td>\n      <td>UFSJ</td>\n      <td>Engenharia Industrial Mecânica</td>\n      <td>Minas Gerais</td>\n      <td>Facebook</td>\n      <td>0</td>\n      <td>0</td>\n      <td>2088</td>\n      <td>20.0</td>\n      <td>...</td>\n      <td>0.0</td>\n      <td>0.000000</td>\n      <td>sudeste</td>\n      <td>0</td>\n      <td>1</td>\n      <td>0.0</td>\n      <td>0.0</td>\n      <td>0.0</td>\n      <td>0.0</td>\n      <td>5.0</td>\n    </tr>\n    <tr>\n      <th>47</th>\n      <td>66543418</td>\n      <td>2012-09-05 15:31:08.090000</td>\n      <td>UERJ</td>\n      <td>Geologia</td>\n      <td>Rio de Janeiro</td>\n      <td>Facebook</td>\n      <td>Rio de Janeiro</td>\n      <td>0</td>\n      <td>2101</td>\n      <td>9.0</td>\n      <td>...</td>\n      <td>0.0</td>\n      <td>0.000000</td>\n      <td>sudeste</td>\n      <td>0</td>\n      <td>1</td>\n      <td>0.0</td>\n      <td>0.0</td>\n      <td>0.0</td>\n      <td>0.0</td>\n      <td>5.0</td>\n    </tr>\n    <tr>\n      <th>48</th>\n      <td>17700168</td>\n      <td>2012-09-10 20:10:16.910000</td>\n      <td>UFMG</td>\n      <td>Engenharia Química</td>\n      <td>Minas Gerais</td>\n      <td>Facebook</td>\n      <td>Betim</td>\n      <td>0</td>\n      <td>2096</td>\n      <td>16.0</td>\n      <td>...</td>\n      <td>0.0</td>\n      <td>0.000000</td>\n      <td>sudeste</td>\n      <td>1</td>\n      <td>1</td>\n      <td>0.0</td>\n      <td>0.0</td>\n      <td>0.0</td>\n      <td>0.0</td>\n      <td>4.0</td>\n    </tr>\n    <tr>\n      <th>49</th>\n      <td>27201185</td>\n      <td>2012-08-21 20:27:26.697000</td>\n      <td>UFRJ</td>\n      <td>Nutrição</td>\n      <td>Rio de Janeiro</td>\n      <td>Facebook</td>\n      <td>Rio de Janeiro</td>\n      <td>0</td>\n      <td>2116</td>\n      <td>5.0</td>\n      <td>...</td>\n      <td>0.0</td>\n      <td>0.000000</td>\n      <td>sudeste</td>\n      <td>0</td>\n      <td>1</td>\n      <td>0.0</td>\n      <td>0.0</td>\n      <td>0.0</td>\n      <td>0.0</td>\n      <td>6.0</td>\n    </tr>\n  </tbody>\n</table>\n<p>50 rows × 28 columns</p>\n</div>"
     },
     "execution_count": 159,
     "metadata": {},
     "output_type": "execute_result"
    }
   ],
   "source": [
    "student_usage_sessions_fileViews_question_payment_year_cancellation_subject.fillna(0)"
   ],
   "metadata": {
    "collapsed": false,
    "pycharm": {
     "name": "#%%\n"
    }
   }
  },
  {
   "cell_type": "code",
   "execution_count": null,
   "outputs": [],
   "source": [],
   "metadata": {
    "collapsed": false,
    "pycharm": {
     "name": "#%%\n"
    }
   }
  }
 ],
 "metadata": {
  "kernelspec": {
   "display_name": "Python 3",
   "language": "python",
   "name": "python3"
  },
  "language_info": {
   "codemirror_mode": {
    "name": "ipython",
    "version": 2
   },
   "file_extension": ".py",
   "mimetype": "text/x-python",
   "name": "python",
   "nbconvert_exporter": "python",
   "pygments_lexer": "ipython2",
   "version": "2.7.6"
  }
 },
 "nbformat": 4,
 "nbformat_minor": 0
}