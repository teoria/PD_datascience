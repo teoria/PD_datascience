{
 "cells": [
  {
   "cell_type": "code",
   "execution_count": 26,
   "metadata": {
    "collapsed": true
   },
   "outputs": [],
   "source": [
    "import pandas as pd\n",
    "import matplotlib.pyplot as plt\n",
    "import numpy as np\n",
    "import seaborn as sns\n",
    "#%matplotlib inline\n",
    "\n",
    "from IPython.core.pylabtools import figsize\n",
    "figsize(8, 6)\n",
    "sns.set()"
   ]
  },
  {
   "cell_type": "markdown",
   "source": [
    "Carregando dados dos usuário premium"
   ],
   "metadata": {
    "collapsed": false,
    "pycharm": {
     "name": "#%% md\n"
    }
   }
  },
  {
   "cell_type": "code",
   "execution_count": 27,
   "outputs": [
    {
     "name": "stdout",
     "output_type": "stream",
     "text": [
      "(6260, 2)\n"
     ]
    },
    {
     "data": {
      "text/plain": "                      RegisteredDate           SubscriptionDate\nStudentId                                                      \n98723802  2017-11-01 00:06:09.988381 2017-11-01 01:20:11.000000\n86905029  2017-11-01 00:19:31.215160 2017-11-17 21:58:57.163663\n40935842  2017-11-01 00:23:43.138459 2017-11-01 01:26:17.114303\n83184096  2017-11-01 00:27:33.721328 2018-05-18 14:08:42.000000\n12771137  2017-11-01 00:32:57.191732 2017-11-01 00:59:44.849137",
      "text/html": "<div>\n<style scoped>\n    .dataframe tbody tr th:only-of-type {\n        vertical-align: middle;\n    }\n\n    .dataframe tbody tr th {\n        vertical-align: top;\n    }\n\n    .dataframe thead th {\n        text-align: right;\n    }\n</style>\n<table border=\"1\" class=\"dataframe\">\n  <thead>\n    <tr style=\"text-align: right;\">\n      <th></th>\n      <th>RegisteredDate</th>\n      <th>SubscriptionDate</th>\n    </tr>\n    <tr>\n      <th>StudentId</th>\n      <th></th>\n      <th></th>\n    </tr>\n  </thead>\n  <tbody>\n    <tr>\n      <th>98723802</th>\n      <td>2017-11-01 00:06:09.988381</td>\n      <td>2017-11-01 01:20:11.000000</td>\n    </tr>\n    <tr>\n      <th>86905029</th>\n      <td>2017-11-01 00:19:31.215160</td>\n      <td>2017-11-17 21:58:57.163663</td>\n    </tr>\n    <tr>\n      <th>40935842</th>\n      <td>2017-11-01 00:23:43.138459</td>\n      <td>2017-11-01 01:26:17.114303</td>\n    </tr>\n    <tr>\n      <th>83184096</th>\n      <td>2017-11-01 00:27:33.721328</td>\n      <td>2018-05-18 14:08:42.000000</td>\n    </tr>\n    <tr>\n      <th>12771137</th>\n      <td>2017-11-01 00:32:57.191732</td>\n      <td>2017-11-01 00:59:44.849137</td>\n    </tr>\n  </tbody>\n</table>\n</div>"
     },
     "execution_count": 27,
     "metadata": {},
     "output_type": "execute_result"
    }
   ],
   "source": [
    "df = pd.read_csv(\"../data/processed/premium_students.csv\",parse_dates=[1,2],index_col=[0])\n",
    "print(df.shape)\n",
    "df.head()"
   ],
   "metadata": {
    "collapsed": false,
    "pycharm": {
     "name": "#%%\n"
    }
   }
  },
  {
   "cell_type": "markdown",
   "source": [
    "Novas colunas auxiliares"
   ],
   "metadata": {
    "collapsed": false,
    "pycharm": {
     "name": "#%% md\n"
    }
   }
  },
  {
   "cell_type": "code",
   "execution_count": 28,
   "outputs": [
    {
     "data": {
      "text/plain": "                      RegisteredDate           SubscriptionDate  \\\nStudentId                                                         \n63155484  2017-11-30 22:33:44.657210 2017-12-01 00:35:09.026934   \n14370715  2017-11-30 22:53:40.770522 2017-12-05 20:21:35.000000   \n23819998  2017-11-30 22:57:10.060266 2017-12-13 19:31:09.000000   \n5600112   2017-11-30 22:58:53.948370 2017-12-01 01:08:47.538220   \n18542457  2017-11-30 23:13:16.352160 2018-04-04 02:30:09.000000   \n\n                          diffDate  diffDays  register_time  \\\nStudentId                                                     \n63155484    0 days 02:01:24.369724         0             22   \n14370715    4 days 21:27:54.229478         4             22   \n23819998   12 days 20:33:58.939734        12             22   \n5600112     0 days 02:09:53.589850         0             22   \n18542457  124 days 03:16:52.647840       124             23   \n\n           register_time_AM_PM  register_num_week  register_week_day  \\\nStudentId                                                              \n63155484                     1                 48                  3   \n14370715                     1                 48                  3   \n23819998                     1                 48                  3   \n5600112                      1                 48                  3   \n18542457                     1                 48                  3   \n\n           register_month  subscription_time  subscription_time_AM_PM  \\\nStudentId                                                               \n63155484               11                  0                        0   \n14370715               11                 20                        1   \n23819998               11                 19                        1   \n5600112                11                  1                        0   \n18542457               11                  2                        0   \n\n           subscription_num_week  subscription_week_day  subscription_month  \nStudentId                                                                    \n63155484                      48                      4                  12  \n14370715                      49                      1                  12  \n23819998                      50                      2                  12  \n5600112                       48                      4                  12  \n18542457                      14                      2                   4  ",
      "text/html": "<div>\n<style scoped>\n    .dataframe tbody tr th:only-of-type {\n        vertical-align: middle;\n    }\n\n    .dataframe tbody tr th {\n        vertical-align: top;\n    }\n\n    .dataframe thead th {\n        text-align: right;\n    }\n</style>\n<table border=\"1\" class=\"dataframe\">\n  <thead>\n    <tr style=\"text-align: right;\">\n      <th></th>\n      <th>RegisteredDate</th>\n      <th>SubscriptionDate</th>\n      <th>diffDate</th>\n      <th>diffDays</th>\n      <th>register_time</th>\n      <th>register_time_AM_PM</th>\n      <th>register_num_week</th>\n      <th>register_week_day</th>\n      <th>register_month</th>\n      <th>subscription_time</th>\n      <th>subscription_time_AM_PM</th>\n      <th>subscription_num_week</th>\n      <th>subscription_week_day</th>\n      <th>subscription_month</th>\n    </tr>\n    <tr>\n      <th>StudentId</th>\n      <th></th>\n      <th></th>\n      <th></th>\n      <th></th>\n      <th></th>\n      <th></th>\n      <th></th>\n      <th></th>\n      <th></th>\n      <th></th>\n      <th></th>\n      <th></th>\n      <th></th>\n      <th></th>\n    </tr>\n  </thead>\n  <tbody>\n    <tr>\n      <th>63155484</th>\n      <td>2017-11-30 22:33:44.657210</td>\n      <td>2017-12-01 00:35:09.026934</td>\n      <td>0 days 02:01:24.369724</td>\n      <td>0</td>\n      <td>22</td>\n      <td>1</td>\n      <td>48</td>\n      <td>3</td>\n      <td>11</td>\n      <td>0</td>\n      <td>0</td>\n      <td>48</td>\n      <td>4</td>\n      <td>12</td>\n    </tr>\n    <tr>\n      <th>14370715</th>\n      <td>2017-11-30 22:53:40.770522</td>\n      <td>2017-12-05 20:21:35.000000</td>\n      <td>4 days 21:27:54.229478</td>\n      <td>4</td>\n      <td>22</td>\n      <td>1</td>\n      <td>48</td>\n      <td>3</td>\n      <td>11</td>\n      <td>20</td>\n      <td>1</td>\n      <td>49</td>\n      <td>1</td>\n      <td>12</td>\n    </tr>\n    <tr>\n      <th>23819998</th>\n      <td>2017-11-30 22:57:10.060266</td>\n      <td>2017-12-13 19:31:09.000000</td>\n      <td>12 days 20:33:58.939734</td>\n      <td>12</td>\n      <td>22</td>\n      <td>1</td>\n      <td>48</td>\n      <td>3</td>\n      <td>11</td>\n      <td>19</td>\n      <td>1</td>\n      <td>50</td>\n      <td>2</td>\n      <td>12</td>\n    </tr>\n    <tr>\n      <th>5600112</th>\n      <td>2017-11-30 22:58:53.948370</td>\n      <td>2017-12-01 01:08:47.538220</td>\n      <td>0 days 02:09:53.589850</td>\n      <td>0</td>\n      <td>22</td>\n      <td>1</td>\n      <td>48</td>\n      <td>3</td>\n      <td>11</td>\n      <td>1</td>\n      <td>0</td>\n      <td>48</td>\n      <td>4</td>\n      <td>12</td>\n    </tr>\n    <tr>\n      <th>18542457</th>\n      <td>2017-11-30 23:13:16.352160</td>\n      <td>2018-04-04 02:30:09.000000</td>\n      <td>124 days 03:16:52.647840</td>\n      <td>124</td>\n      <td>23</td>\n      <td>1</td>\n      <td>48</td>\n      <td>3</td>\n      <td>11</td>\n      <td>2</td>\n      <td>0</td>\n      <td>14</td>\n      <td>2</td>\n      <td>4</td>\n    </tr>\n  </tbody>\n</table>\n</div>"
     },
     "execution_count": 28,
     "metadata": {},
     "output_type": "execute_result"
    }
   ],
   "source": [
    "df['diffDate'] = (df.SubscriptionDate - df.RegisteredDate)\n",
    "df['diffDays'] = [ item.days for item in df['diffDate']]\n",
    "df['register_time'] = df.RegisteredDate.map(  lambda x :  int(x.strftime(\"%H\")) )\n",
    "df['register_time_AM_PM'] = df.register_time.map(  lambda x :  1 if x>=12 else 0)\n",
    "df['register_num_week'] = df.RegisteredDate.map(  lambda x :  int(x.strftime(\"%V\")) )\n",
    "df['register_week_day'] = df.RegisteredDate.map(  lambda x :  int(x.weekday()) )\n",
    "df['register_month'] = df.RegisteredDate.map(  lambda x :  int(x.strftime('%m')) )\n",
    "df['subscription_time'] = df.SubscriptionDate.map(  lambda x :   int(x.strftime(\"%H\") ))\n",
    "df['subscription_time_AM_PM'] = df.subscription_time.map(  lambda x :  1 if x>=12 else 0)\n",
    "df['subscription_num_week'] = df.SubscriptionDate.map(  lambda x :  int(x.strftime(\"%V\")) )\n",
    "df['subscription_week_day'] = df.SubscriptionDate.map(  lambda x :  int(x.weekday()) )\n",
    "df['subscription_month'] = df.SubscriptionDate.map(  lambda x :  int(x.strftime('%m')) )\n",
    "df.tail()"
   ],
   "metadata": {
    "collapsed": false,
    "pycharm": {
     "name": "#%%\n"
    }
   }
  },
  {
   "cell_type": "markdown",
   "source": [
    "Verificando distribuições"
   ],
   "metadata": {
    "collapsed": false,
    "pycharm": {
     "name": "#%% md\n"
    }
   }
  },
  {
   "cell_type": "code",
   "execution_count": 29,
   "outputs": [
    {
     "data": {
      "text/plain": "<AxesSubplot:>"
     },
     "execution_count": 29,
     "metadata": {},
     "output_type": "execute_result"
    },
    {
     "data": {
      "text/plain": "<Figure size 576x432 with 1 Axes>",
      "image/png": "[encoded data removed]"
     },
     "metadata": {},
     "output_type": "display_data"
    }
   ],
   "source": [
    "df.register_time.hist()"
   ],
   "metadata": {
    "collapsed": false,
    "pycharm": {
     "name": "#%%\n"
    }
   }
  },
  {
   "cell_type": "code",
   "execution_count": 30,
   "outputs": [
    {
     "data": {
      "text/plain": "<AxesSubplot:>"
     },
     "execution_count": 30,
     "metadata": {},
     "output_type": "execute_result"
    },
    {
     "data": {
      "text/plain": "<Figure size 576x432 with 1 Axes>",
      "image/png": "[encoded data removed]"
     },
     "metadata": {},
     "output_type": "display_data"
    }
   ],
   "source": [
    "df.subscription_time.hist()"
   ],
   "metadata": {
    "collapsed": false,
    "pycharm": {
     "name": "#%%\n"
    }
   }
  },
  {
   "cell_type": "code",
   "execution_count": 31,
   "outputs": [
    {
     "data": {
      "text/plain": "1    4736\n0    1524\nName: register_time_AM_PM, dtype: int64"
     },
     "execution_count": 31,
     "metadata": {},
     "output_type": "execute_result"
    }
   ],
   "source": [
    "df.register_time_AM_PM.value_counts()"
   ],
   "metadata": {
    "collapsed": false,
    "pycharm": {
     "name": "#%%\n"
    }
   }
  },
  {
   "cell_type": "code",
   "execution_count": 32,
   "outputs": [
    {
     "data": {
      "text/plain": "1    4720\n0    1540\nName: subscription_time_AM_PM, dtype: int64"
     },
     "execution_count": 32,
     "metadata": {},
     "output_type": "execute_result"
    }
   ],
   "source": [
    "df.subscription_time_AM_PM.value_counts()"
   ],
   "metadata": {
    "collapsed": false,
    "pycharm": {
     "name": "#%%\n"
    }
   }
  },
  {
   "cell_type": "code",
   "execution_count": 33,
   "outputs": [
    {
     "data": {
      "text/plain": "1    1137\n0    1070\n2     993\n6     912\n3     833\n4     664\n5     651\nName: subscription_week_day, dtype: int64"
     },
     "execution_count": 33,
     "metadata": {},
     "output_type": "execute_result"
    }
   ],
   "source": [
    "df.subscription_week_day.value_counts()"
   ],
   "metadata": {
    "collapsed": false,
    "pycharm": {
     "name": "#%%\n"
    }
   }
  },
  {
   "cell_type": "code",
   "execution_count": 34,
   "outputs": [
    {
     "data": {
      "text/plain": "<AxesSubplot:>"
     },
     "execution_count": 34,
     "metadata": {},
     "output_type": "execute_result"
    },
    {
     "data": {
      "text/plain": "<Figure size 576x432 with 1 Axes>",
      "image/png": "[encoded data removed]"
     },
     "metadata": {},
     "output_type": "display_data"
    }
   ],
   "source": [
    "df.diffDays.hist()"
   ],
   "metadata": {
    "collapsed": false,
    "pycharm": {
     "name": "#%%\n"
    }
   }
  },
  {
   "cell_type": "code",
   "execution_count": 35,
   "outputs": [
    {
     "data": {
      "text/plain": "0.25      0.0\n0.50      1.0\n0.75    137.0\n0.95    193.0\nName: diffDays, dtype: float64"
     },
     "execution_count": 35,
     "metadata": {},
     "output_type": "execute_result"
    }
   ],
   "source": [
    "df.diffDays.quantile([.25,.5,.75,.95])"
   ],
   "metadata": {
    "collapsed": false,
    "pycharm": {
     "name": "#%%\n"
    }
   }
  },
  {
   "cell_type": "markdown",
   "source": [
    "Separando os dados em 2 momentos."
   ],
   "metadata": {
    "collapsed": false,
    "pycharm": {
     "name": "#%% md\n"
    }
   }
  },
  {
   "cell_type": "code",
   "execution_count": 36,
   "outputs": [
    {
     "data": {
      "text/plain": "4     80\n5     77\n7     68\n6     62\n8     53\n11    44\n9     44\n12    41\n13    40\n10    39\n14    32\n15    28\n16    24\n22    19\n21    17\n23    16\n19    16\n18    14\n20    12\n17    11\n24    11\n27    11\n26    10\n28     9\n29     9\n30     9\n32     9\n35     8\n31     7\n25     7\n34     4\n38     4\n33     4\n40     3\n39     3\n43     3\n37     3\n36     2\n41     2\n45     2\n42     1\nName: diffDays, dtype: int64"
     },
     "execution_count": 36,
     "metadata": {},
     "output_type": "execute_result"
    },
    {
     "data": {
      "text/plain": "<Figure size 576x432 with 1 Axes>",
      "image/png": "[encoded data removed]"
     },
     "metadata": {},
     "output_type": "display_data"
    }
   ],
   "source": [
    "lt_50 = df.loc[(df.diffDays <50) & (df.diffDays >3)]\n",
    "lt_50.diffDays.hist()\n",
    "lt_50.diffDays.value_counts()"
   ],
   "metadata": {
    "collapsed": false,
    "pycharm": {
     "name": "#%%\n"
    }
   }
  },
  {
   "cell_type": "code",
   "execution_count": 37,
   "outputs": [
    {
     "data": {
      "text/plain": "0.25     6.00\n0.50    11.00\n0.75    17.75\n0.95    32.00\nName: diffDays, dtype: float64"
     },
     "execution_count": 37,
     "metadata": {},
     "output_type": "execute_result"
    }
   ],
   "source": [
    "lt_50.diffDays.quantile([.25,.5,.75,.95])\n"
   ],
   "metadata": {
    "collapsed": false,
    "pycharm": {
     "name": "#%%\n"
    }
   }
  },
  {
   "cell_type": "code",
   "execution_count": 38,
   "outputs": [],
   "source": [
    "range_0_3 = df.loc[(df.diffDays < 3)]\n",
    "range_3_18 = df.loc[(df.diffDays >= 3)&(df.diffDays < 18)]\n",
    "range_6_11 = df.loc[(df.diffDays >= 6) & (df.diffDays < 11)]\n",
    "range_11_18 = df.loc[(df.diffDays >= 11) & (df.diffDays < 18)]\n",
    "range_18_32 = df.loc[(df.diffDays >= 18 )& (df.diffDays <= 32)]\n",
    "range_32 = df.loc[(df.diffDays >=32)]"
   ],
   "metadata": {
    "collapsed": false,
    "pycharm": {
     "name": "#%%\n"
    }
   }
  },
  {
   "cell_type": "code",
   "execution_count": 39,
   "outputs": [
    {
     "data": {
      "text/plain": "(0.53, 0.12, 0.03, 0.33)"
     },
     "execution_count": 39,
     "metadata": {},
     "output_type": "execute_result"
    }
   ],
   "source": [
    "total_subs = df.shape[0]\n",
    "(\n",
    "round(range_0_3.shape[0] / total_subs,2),\n",
    "round(range_3_18.shape[0] / total_subs,2),\n",
    "round(range_18_32.shape[0] / total_subs,2),\n",
    "round(range_32.shape[0] / total_subs,2)\n",
    "    )"
   ],
   "metadata": {
    "collapsed": false,
    "pycharm": {
     "name": "#%%\n"
    }
   }
  },
  {
   "cell_type": "code",
   "execution_count": 40,
   "outputs": [
    {
     "data": {
      "text/plain": "(2035, 14)"
     },
     "execution_count": 40,
     "metadata": {},
     "output_type": "execute_result"
    },
    {
     "data": {
      "text/plain": "<Figure size 576x432 with 1 Axes>",
      "image/png": "[encoded data removed]"
     },
     "metadata": {},
     "output_type": "display_data"
    }
   ],
   "source": [
    "gte_30 = df.loc[df.diffDays >=32]\n",
    "gte_30.diffDays.hist()\n",
    "gte_30.diffDays.value_counts()\n",
    "gte_30.shape"
   ],
   "metadata": {
    "collapsed": false,
    "pycharm": {
     "name": "#%%\n"
    }
   }
  },
  {
   "cell_type": "code",
   "execution_count": 41,
   "outputs": [
    {
     "data": {
      "text/plain": "0.25    140.0\n0.50    168.0\n0.75    188.0\n0.95    203.0\nName: diffDays, dtype: float64"
     },
     "execution_count": 41,
     "metadata": {},
     "output_type": "execute_result"
    }
   ],
   "source": [
    "gte_30.diffDays.quantile([.25,.5,.75,.95])"
   ],
   "metadata": {
    "collapsed": false,
    "pycharm": {
     "name": "#%%\n"
    }
   }
  },
  {
   "cell_type": "code",
   "execution_count": 42,
   "outputs": [
    {
     "data": {
      "text/plain": "(0.08, 0.08, 0.08, 0.08)"
     },
     "execution_count": 42,
     "metadata": {},
     "output_type": "execute_result"
    }
   ],
   "source": [
    "range_32_140 = df.loc[(df.diffDays > 32)&(df.diffDays <=140)]\n",
    "range_140_168 = df.loc[(df.diffDays > 140)&(df.diffDays <=168)]\n",
    "range_168_188 = df.loc[(df.diffDays > 168)&(df.diffDays <=188)]\n",
    "range_188 = df.loc[(df.diffDays > 188)]\n",
    "\n",
    "total_subs_gte_32 = gte_30.shape[0]\n",
    "(\n",
    "round(range_32_140.shape[0] / total_subs,2),\n",
    "round(range_140_168.shape[0] / total_subs,2),\n",
    "round(range_168_188.shape[0] / total_subs,2),\n",
    "round(range_188.shape[0] / total_subs,2)\n",
    "    )"
   ],
   "metadata": {
    "collapsed": false,
    "pycharm": {
     "name": "#%%\n"
    }
   }
  },
  {
   "cell_type": "code",
   "execution_count": 43,
   "outputs": [
    {
     "data": {
      "text/plain": "(0.25, 0.25, 0.25, 0.24)"
     },
     "execution_count": 43,
     "metadata": {},
     "output_type": "execute_result"
    }
   ],
   "source": [
    "(\n",
    "round(range_32_140.shape[0] / total_subs_gte_32,2),\n",
    "round(range_140_168.shape[0] / total_subs_gte_32,2),\n",
    "round(range_168_188.shape[0] / total_subs_gte_32,2),\n",
    "round(range_188.shape[0] / total_subs_gte_32,2)\n",
    "    )\n"
   ],
   "metadata": {
    "collapsed": false,
    "pycharm": {
     "name": "#%%\n"
    }
   }
  },
  {
   "cell_type": "markdown",
   "source": [
    "----\n",
    "## Questão 1:\n",
    "Dentre os usuários cadastrados em Nov/2017 que assinaram o Plano Premium,\n",
    "qual a probabilidade do usuário virar Premium após o cadastro em ranges de dias? A escolha\n",
    "dos ranges deve ser feita por você, tendo em vista os insights que podemos tirar para o\n",
    "negócio."
   ],
   "metadata": {
    "collapsed": false,
    "pycharm": {
     "name": "#%% md\n"
    }
   }
  },
  {
   "cell_type": "markdown",
   "source": [
    "- De 0 a 3 dias  -> 53%\n",
    "- De 3 a 18 dias -> 12%\n",
    "- De 18 a 32     -> 3%\n",
    "- Mais 32  dias  -> 33%\n",
    "\n",
    "\n",
    "Analisando as inscrições feitas depois do primeiro mês (33%)\n",
    "\n",
    "* De 32 a 140  -> 8%\n",
    "* De 140 a 168 -> 8%\n",
    "* De 168 a 188 -> 8%\n",
    "* De 188 a 216 -> 8%"
   ],
   "metadata": {
    "collapsed": false,
    "pycharm": {
     "name": "#%% md\n"
    }
   }
  },
  {
   "cell_type": "markdown",
   "source": [
    "Um pouco mais da metade das conversões acontecem nos primeiros 3 dias.\n",
    "A taxa conversão chega a 65% até 18 dias após o registro.\n",
    "Após 100 dias acontece outro momento relevante que representa 33%.\n",
    "Possivelmente essa janela coincida com o calendário de provas das instituições.\n",
    "\n",
    "Insights:\n",
    "* Maioria das conversões no período da tarde\n",
    "* Maioria das conversões no começo da semana ( anúncios aos domingos )\n",
    "* Direcionar anuncios de instagram geolocalizados(instituições) nos períodos que anteceda o calendário de provas.\n",
    "* Tentar converter usuários ativos depois 100 dias após o registro\n",
    "* Tentar converter usuários com base no calendário de provas da instituição"
   ],
   "metadata": {
    "collapsed": false,
    "pycharm": {
     "name": "#%% md\n"
    }
   }
  }
 ],
 "metadata": {
  "kernelspec": {
   "display_name": "Python 3",
   "language": "python",
   "name": "python3"
  },
  "language_info": {
   "codemirror_mode": {
    "name": "ipython",
    "version": 2
   },
   "file_extension": ".py",
   "mimetype": "text/x-python",
   "name": "python",
   "nbconvert_exporter": "python",
   "pygments_lexer": "ipython2",
   "version": "2.7.6"
  }
 },
 "nbformat": 4,
 "nbformat_minor": 0
}